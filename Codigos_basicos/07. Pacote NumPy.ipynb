{
 "cells": [
  {
   "cell_type": "markdown",
   "id": "bb6c30ff",
   "metadata": {},
   "source": [
    "### NumPy\n",
    "\n",
    "https://numpy.org/"
   ]
  },
  {
   "cell_type": "code",
   "execution_count": 1,
   "id": "90defa26",
   "metadata": {},
   "outputs": [],
   "source": [
    "import numpy as np       #Importando o pacote numpy e nomeando-o como 'np'."
   ]
  },
  {
   "cell_type": "code",
   "execution_count": 2,
   "id": "e3ecb5f6",
   "metadata": {},
   "outputs": [
    {
     "data": {
      "text/plain": [
       "'1.26.4'"
      ]
     },
     "execution_count": 2,
     "metadata": {},
     "output_type": "execute_result"
    }
   ],
   "source": [
    "np.__version__"
   ]
  },
  {
   "cell_type": "code",
   "execution_count": 1,
   "id": "3154d214",
   "metadata": {},
   "outputs": [
    {
     "name": "stdout",
     "output_type": "stream",
     "text": [
      "Requirement already satisfied: numpy==1.22.2 in d:\\guibarros\\anaconda3\\lib\\site-packages (1.22.2)\n"
     ]
    }
   ],
   "source": [
    "!pip install numpy==1.22.2          "
   ]
  },
  {
   "cell_type": "markdown",
   "id": "9af1ae7a",
   "metadata": {},
   "source": [
    "## Criando arrays NumPy\n",
    "\n",
    "Um array NumPy é uma estrutura de dados multidimensional usada em computação científica e análise de dados. O NumPy fornece um objeto de matriz N-dimensional (ou ndarray), que é uma grade homogênea de elementos, geralmente números, que podem ser indexados por um conjunto de inteiros.\n",
    "\n",
    "Os arrays NumPy são mais eficientes do que as listas Python para armazenar e manipular grandes quantidades de dados, pois são implementados em linguagem C e fornecem várias otimizações de desempenho. Além disso, o NumPy permite a fácil leitura e escrita de arquivos de dados, integração com outras bibliotecas Python e suporte a operações em paralelo usando várias CPUs ou GPUs."
   ]
  },
  {
   "cell_type": "code",
   "execution_count": 4,
   "id": "1c54cb44",
   "metadata": {},
   "outputs": [],
   "source": [
    "arr1 = np.array([2,4,6,8,10,12,14,16,18,20])     #Array criado a partir de uma lista Python"
   ]
  },
  {
   "cell_type": "code",
   "execution_count": 5,
   "id": "ae755dc7",
   "metadata": {},
   "outputs": [
    {
     "data": {
      "text/plain": [
       "numpy.ndarray"
      ]
     },
     "execution_count": 5,
     "metadata": {},
     "output_type": "execute_result"
    }
   ],
   "source": [
    "type(arr1)"
   ]
  },
  {
   "cell_type": "code",
   "execution_count": 8,
   "id": "d019dfbf",
   "metadata": {},
   "outputs": [
    {
     "data": {
      "text/plain": [
       "(10,)"
      ]
     },
     "execution_count": 8,
     "metadata": {},
     "output_type": "execute_result"
    }
   ],
   "source": [
    "arr1.shape               #Verificando o formato do array. Neste caso, temos apenas uma dimensão com 10 elementos."
   ]
  },
  {
   "cell_type": "code",
   "execution_count": 9,
   "id": "a9972f6a",
   "metadata": {},
   "outputs": [
    {
     "name": "stdout",
     "output_type": "stream",
     "text": [
      "[ 2  4  6  8 10 12 14 16 18 20]\n"
     ]
    }
   ],
   "source": [
    "print(arr1)"
   ]
  },
  {
   "cell_type": "code",
   "execution_count": 10,
   "id": "802b3563",
   "metadata": {},
   "outputs": [
    {
     "data": {
      "text/plain": [
       "8"
      ]
     },
     "execution_count": 10,
     "metadata": {},
     "output_type": "execute_result"
    }
   ],
   "source": [
    "arr1[3]    #Imprimindo um elemento específico no array."
   ]
  },
  {
   "cell_type": "code",
   "execution_count": 12,
   "id": "26b3bd59",
   "metadata": {},
   "outputs": [
    {
     "data": {
      "text/plain": [
       "array([4, 6, 8])"
      ]
     },
     "execution_count": 12,
     "metadata": {},
     "output_type": "execute_result"
    }
   ],
   "source": [
    "arr1[1:4]   #Imprimindo um range do array."
   ]
  },
  {
   "cell_type": "code",
   "execution_count": 13,
   "id": "e46014ef",
   "metadata": {},
   "outputs": [
    {
     "data": {
      "text/plain": [
       "array([ 4,  6,  8, 10])"
      ]
     },
     "execution_count": 13,
     "metadata": {},
     "output_type": "execute_result"
    }
   ],
   "source": [
    "arr1[1:4+1]"
   ]
  },
  {
   "cell_type": "code",
   "execution_count": 19,
   "id": "13ee638f",
   "metadata": {},
   "outputs": [],
   "source": [
    "ind = [0,1,2,3,4,5,6,7,8,9]      #Criando uma lista de índices."
   ]
  },
  {
   "cell_type": "code",
   "execution_count": 20,
   "id": "2c4696d5",
   "metadata": {},
   "outputs": [
    {
     "data": {
      "text/plain": [
       "array([ 2,  4,  6,  8, 10, 12, 14, 16, 18, 20])"
      ]
     },
     "execution_count": 20,
     "metadata": {},
     "output_type": "execute_result"
    }
   ],
   "source": [
    "arr1[ind]      #Imprimindo os elementos dos indices"
   ]
  },
  {
   "cell_type": "code",
   "execution_count": 6,
   "id": "6a6625ac",
   "metadata": {},
   "outputs": [],
   "source": [
    "mask = (arr1 % 3 == 0)     #Cria uma máscara booleana (TRUE or FALSE) para os elementos do array que são divisíveis por 3"
   ]
  },
  {
   "cell_type": "code",
   "execution_count": 7,
   "id": "85407174",
   "metadata": {},
   "outputs": [
    {
     "data": {
      "text/plain": [
       "array([False, False,  True, False, False,  True, False, False,  True,\n",
       "       False])"
      ]
     },
     "execution_count": 7,
     "metadata": {},
     "output_type": "execute_result"
    }
   ],
   "source": [
    "mask"
   ]
  },
  {
   "cell_type": "code",
   "execution_count": 8,
   "id": "89f82a05",
   "metadata": {},
   "outputs": [
    {
     "data": {
      "text/plain": [
       "array([ 6, 12, 18])"
      ]
     },
     "execution_count": 8,
     "metadata": {},
     "output_type": "execute_result"
    }
   ],
   "source": [
    "arr1[mask]     #Retorna os elementos do array cuja máscara retorna TRUE."
   ]
  },
  {
   "cell_type": "code",
   "execution_count": 9,
   "id": "a1de741e",
   "metadata": {},
   "outputs": [],
   "source": [
    "arr1[9] = 100      #Alterando um elemento (indexado) do array."
   ]
  },
  {
   "cell_type": "code",
   "execution_count": 10,
   "id": "7408b20f",
   "metadata": {},
   "outputs": [
    {
     "data": {
      "text/plain": [
       "array([  2,   4,   6,   8,  10,  12,  14,  16,  18, 100])"
      ]
     },
     "execution_count": 10,
     "metadata": {},
     "output_type": "execute_result"
    }
   ],
   "source": [
    "arr1"
   ]
  },
  {
   "cell_type": "code",
   "execution_count": 11,
   "id": "fc1d557e",
   "metadata": {},
   "outputs": [
    {
     "name": "stdout",
     "output_type": "stream",
     "text": [
      "Operação inválida.\n"
     ]
    }
   ],
   "source": [
    "try: \n",
    "    arr1[0] = 'texto'\n",
    "except:\n",
    "    print('Operação inválida.')        #Não é possível incluir elementos de outro tipo no array."
   ]
  },
  {
   "cell_type": "markdown",
   "id": "3a6fdc27",
   "metadata": {},
   "source": [
    "## Funções NumPy"
   ]
  },
  {
   "cell_type": "code",
   "execution_count": 13,
   "id": "7ac559fc",
   "metadata": {},
   "outputs": [],
   "source": [
    "arr2 = np.arange(0,50,5)   #O método arange cria um array contendo uma progressão aritmética a partir de intervalos\n",
    "                            # - (start, stop, step)."
   ]
  },
  {
   "cell_type": "code",
   "execution_count": 14,
   "id": "2b03d137",
   "metadata": {},
   "outputs": [
    {
     "data": {
      "text/plain": [
       "array([ 0,  5, 10, 15, 20, 25, 30, 35, 40, 45])"
      ]
     },
     "execution_count": 14,
     "metadata": {},
     "output_type": "execute_result"
    }
   ],
   "source": [
    "arr2"
   ]
  },
  {
   "cell_type": "code",
   "execution_count": 15,
   "id": "65d7fda0",
   "metadata": {},
   "outputs": [],
   "source": [
    "arr0 = np.zeros(10)     #Cria um array com zeros. 10 é o tamanho do array."
   ]
  },
  {
   "cell_type": "code",
   "execution_count": 17,
   "id": "d5c14585",
   "metadata": {},
   "outputs": [
    {
     "name": "stdout",
     "output_type": "stream",
     "text": [
      "[0. 0. 0. 0. 0. 0. 0. 0. 0. 0.]\n"
     ]
    }
   ],
   "source": [
    "print(arr0)"
   ]
  },
  {
   "cell_type": "code",
   "execution_count": 27,
   "id": "ce21d20a",
   "metadata": {},
   "outputs": [
    {
     "name": "stdout",
     "output_type": "stream",
     "text": [
      "[ 0.  2.  4.  6.  8. 10. 12. 14. 16. 18. 20.]\n"
     ]
    }
   ],
   "source": [
    "print(np.linspace(0,20,11))     "
   ]
  },
  {
   "cell_type": "markdown",
   "id": "e175b9ca",
   "metadata": {},
   "source": [
    "A função linspace() do NumPy é usada para criar uma sequência de de números igualmente espaçados dentro de um intervalo especificado. Esta função é utilizada para gerar arrays de números para diversos fins, como gráficos, simulações, etc.\n",
    "\n",
    "No caso acima, queremos 11 valores igualmente espaçados entre 0 e 20."
   ]
  },
  {
   "cell_type": "code",
   "execution_count": 40,
   "id": "4254405e",
   "metadata": {},
   "outputs": [
    {
     "name": "stdout",
     "output_type": "stream",
     "text": [
      "[   10.   100.  1000. 10000.]\n"
     ]
    }
   ],
   "source": [
    "print(np.logspace(1,4,4))"
   ]
  },
  {
   "cell_type": "markdown",
   "id": "927ec896",
   "metadata": {},
   "source": [
    "A função logspace() do NumPy é usada para criar uma sequência de números igualmente espaçados em escala logarítimica dentro de um intervalo especificado.\n",
    "\n",
    "No caso acima, querermos 4 valores igualmente espaçados em escala logarítmica entre log(10) = 1 e log(10 000) = 4."
   ]
  },
  {
   "cell_type": "markdown",
   "id": "6b3674eb",
   "metadata": {},
   "source": [
    "## Matrizes"
   ]
  },
  {
   "cell_type": "code",
   "execution_count": 41,
   "id": "16874b9a",
   "metadata": {},
   "outputs": [],
   "source": [
    "mat1 = np.array([[1,2,3] , [4,5,6]])     #Criando uma matriz de duas linhas e três colunas. "
   ]
  },
  {
   "cell_type": "code",
   "execution_count": 42,
   "id": "84a7f308",
   "metadata": {},
   "outputs": [
    {
     "name": "stdout",
     "output_type": "stream",
     "text": [
      "[[1 2 3]\n",
      " [4 5 6]]\n"
     ]
    }
   ],
   "source": [
    "print(mat1)"
   ]
  },
  {
   "cell_type": "code",
   "execution_count": 44,
   "id": "83e67223",
   "metadata": {},
   "outputs": [
    {
     "data": {
      "text/plain": [
       "(2, 3)"
      ]
     },
     "execution_count": 44,
     "metadata": {},
     "output_type": "execute_result"
    }
   ],
   "source": [
    "mat1.shape         #Verificando o formato do array. Neste caso temos uma matriz (bidimensional) 2x3."
   ]
  },
  {
   "cell_type": "code",
   "execution_count": 45,
   "id": "dc63f3d4",
   "metadata": {},
   "outputs": [],
   "source": [
    "lista = [[1,2,3,4] , [5,6,7,8] , [9,10,11,12]]"
   ]
  },
  {
   "cell_type": "code",
   "execution_count": 46,
   "id": "9f6d06b4",
   "metadata": {},
   "outputs": [],
   "source": [
    "mat2 = np.matrix(lista)       #O método matrix() cria uma matriz a partir de uma lista. Usar este método é mais\n",
    "                              # interessante para operações matemáticas."
   ]
  },
  {
   "cell_type": "code",
   "execution_count": 47,
   "id": "a3f6ed13",
   "metadata": {},
   "outputs": [
    {
     "data": {
      "text/plain": [
       "matrix([[ 1,  2,  3,  4],\n",
       "        [ 5,  6,  7,  8],\n",
       "        [ 9, 10, 11, 12]])"
      ]
     },
     "execution_count": 47,
     "metadata": {},
     "output_type": "execute_result"
    }
   ],
   "source": [
    "mat2"
   ]
  },
  {
   "cell_type": "code",
   "execution_count": 48,
   "id": "1144d521",
   "metadata": {},
   "outputs": [
    {
     "name": "stdout",
     "output_type": "stream",
     "text": [
      "[[ 1  2  3  4]\n",
      " [ 5  6  7  8]\n",
      " [ 9 10 11 12]]\n"
     ]
    }
   ],
   "source": [
    "print(mat2)"
   ]
  },
  {
   "cell_type": "code",
   "execution_count": 49,
   "id": "c6101353",
   "metadata": {},
   "outputs": [
    {
     "data": {
      "text/plain": [
       "(3, 4)"
      ]
     },
     "execution_count": 49,
     "metadata": {},
     "output_type": "execute_result"
    }
   ],
   "source": [
    "mat2.shape"
   ]
  },
  {
   "cell_type": "code",
   "execution_count": 50,
   "id": "74f213b0",
   "metadata": {},
   "outputs": [
    {
     "data": {
      "text/plain": [
       "12"
      ]
     },
     "execution_count": 50,
     "metadata": {},
     "output_type": "execute_result"
    }
   ],
   "source": [
    "mat2.size         # Este atributo verifica a quantidade de elementos na matriz."
   ]
  },
  {
   "cell_type": "code",
   "execution_count": 51,
   "id": "6a757636",
   "metadata": {},
   "outputs": [
    {
     "data": {
      "text/plain": [
       "4"
      ]
     },
     "execution_count": 51,
     "metadata": {},
     "output_type": "execute_result"
    }
   ],
   "source": [
    "mat2[0,3]     #Indexação de um elemento na matriz."
   ]
  },
  {
   "cell_type": "code",
   "execution_count": 57,
   "id": "6eb5be9a",
   "metadata": {},
   "outputs": [
    {
     "name": "stdout",
     "output_type": "stream",
     "text": [
      "[[5 6 7 8]]\n"
     ]
    }
   ],
   "source": [
    "print(mat2[1,])  #Indexação de uma linha da matriz."
   ]
  },
  {
   "cell_type": "code",
   "execution_count": 58,
   "id": "d81ff31d",
   "metadata": {},
   "outputs": [
    {
     "name": "stdout",
     "output_type": "stream",
     "text": [
      "[[ 3]\n",
      " [ 7]\n",
      " [11]]\n"
     ]
    }
   ],
   "source": [
    "print(mat2[:,2])      #Indexação de uma coluna da matriz.     "
   ]
  },
  {
   "cell_type": "code",
   "execution_count": 66,
   "id": "2a1679fe",
   "metadata": {},
   "outputs": [
    {
     "name": "stdout",
     "output_type": "stream",
     "text": [
      "[[ 3  7 11]]\n"
     ]
    }
   ],
   "source": [
    "print(mat2[:,2].flatten())       #transformando a coluna em linha."
   ]
  },
  {
   "cell_type": "code",
   "execution_count": 60,
   "id": "8a159ad2",
   "metadata": {},
   "outputs": [
    {
     "data": {
      "text/plain": [
       "4"
      ]
     },
     "execution_count": 60,
     "metadata": {},
     "output_type": "execute_result"
    }
   ],
   "source": [
    "mat2.itemsize            #O atributo itemsize retorna o valor, em bytes, ocupado por cada elemento na matriz."
   ]
  },
  {
   "cell_type": "code",
   "execution_count": 62,
   "id": "3a84c8f5",
   "metadata": {},
   "outputs": [
    {
     "data": {
      "text/plain": [
       "48"
      ]
     },
     "execution_count": 62,
     "metadata": {},
     "output_type": "execute_result"
    }
   ],
   "source": [
    "mat2.nbytes             #O atributo nbytes retorna o valor, em bytes, ocupado por toda a matriz 12 elementos x 4 = 48"
   ]
  },
  {
   "cell_type": "code",
   "execution_count": 63,
   "id": "b0b59374",
   "metadata": {},
   "outputs": [
    {
     "data": {
      "text/plain": [
       "2"
      ]
     },
     "execution_count": 63,
     "metadata": {},
     "output_type": "execute_result"
    }
   ],
   "source": [
    "mat2.ndim        # O atributo ndim retorna o número de dimensões da matriz."
   ]
  },
  {
   "cell_type": "markdown",
   "id": "845f604a",
   "metadata": {},
   "source": [
    "### Matrizes multidimensionais"
   ]
  },
  {
   "cell_type": "code",
   "execution_count": 3,
   "id": "488eb3dd",
   "metadata": {},
   "outputs": [],
   "source": [
    "arr_3d = np.array([ [[1,2,3,4]     , [5,6,7,8]     , [9,10,11,12]],\n",
    "                   [[13,14,15,16] , [17,18,19,20] , [21,22,23,24]]   ])"
   ]
  },
  {
   "cell_type": "code",
   "execution_count": 4,
   "id": "8875b076",
   "metadata": {},
   "outputs": [
    {
     "name": "stdout",
     "output_type": "stream",
     "text": [
      "[[[ 1  2  3  4]\n",
      "  [ 5  6  7  8]\n",
      "  [ 9 10 11 12]]\n",
      "\n",
      " [[13 14 15 16]\n",
      "  [17 18 19 20]\n",
      "  [21 22 23 24]]]\n"
     ]
    }
   ],
   "source": [
    "print(arr_3d)"
   ]
  },
  {
   "cell_type": "code",
   "execution_count": 5,
   "id": "30372d64",
   "metadata": {},
   "outputs": [
    {
     "data": {
      "text/plain": [
       "3"
      ]
     },
     "execution_count": 5,
     "metadata": {},
     "output_type": "execute_result"
    }
   ],
   "source": [
    "arr_3d.ndim"
   ]
  },
  {
   "cell_type": "code",
   "execution_count": 6,
   "id": "4f7de17e",
   "metadata": {},
   "outputs": [
    {
     "data": {
      "text/plain": [
       "(2, 3, 4)"
      ]
     },
     "execution_count": 6,
     "metadata": {},
     "output_type": "execute_result"
    }
   ],
   "source": [
    "arr_3d.shape"
   ]
  },
  {
   "cell_type": "code",
   "execution_count": 7,
   "id": "8e1dae86",
   "metadata": {},
   "outputs": [
    {
     "data": {
      "text/plain": [
       "7"
      ]
     },
     "execution_count": 7,
     "metadata": {},
     "output_type": "execute_result"
    }
   ],
   "source": [
    "arr_3d[0,1,2]   #Indexando um elemento da matriz"
   ]
  },
  {
   "cell_type": "code",
   "execution_count": 8,
   "id": "e4f244fd",
   "metadata": {},
   "outputs": [
    {
     "data": {
      "text/plain": [
       "array([ 9, 10, 11, 12])"
      ]
     },
     "execution_count": 8,
     "metadata": {},
     "output_type": "execute_result"
    }
   ],
   "source": [
    "arr_3d[0,2]    #Indexando um elemento unidimensional"
   ]
  },
  {
   "cell_type": "markdown",
   "id": "c82b5417",
   "metadata": {},
   "source": [
    "## Manipulando arquivos com NumPy"
   ]
  },
  {
   "cell_type": "code",
   "execution_count": 9,
   "id": "d2e01860",
   "metadata": {},
   "outputs": [],
   "source": [
    "import os                              #Chamando o sistema operacional\n",
    "\n",
    "filename = os.path.join('arq.csv')      #Buscando caminho do arquivo"
   ]
  },
  {
   "cell_type": "code",
   "execution_count": 10,
   "id": "0a73fd87",
   "metadata": {},
   "outputs": [
    {
     "name": "stdout",
     "output_type": "stream",
     "text": [
      "ID,Nome,Idade,Cidade,ProfissÃ£o,SalÃ¡rio (R$)\n",
      "1,JoÃ£o Silva,34,SÃ£o Paulo,Engenheiro,8500.00\n",
      "2,Maria Lima,28,Rio de Janeiro,MÃ©dica,12300.00\n",
      "3,Pedro Rocha,45,Belo Horizonte,Professor,6700.00\n",
      "4,Ana Souza,31,Salvador,Advogada,9100.00\n",
      "5,Lucas Alves,22,Curitiba,Designer,5400.00\n",
      "6,Carla Dias,29,Fortaleza,Jornalista,7200.00\n",
      "7,Bruno Melo,38,Recife,Administrador,10500.00\n",
      "8,Laura Nunes,26,Porto Alegre,Arquiteta,11000.00\n",
      "9,Felipe Reis,40,Manaus,MÃ©dico,13200.00\n",
      "10,Paula Cruz,35,GoiÃ¢nia,Engenheira,9800.00\n",
      "11,Gustavo Luz,42,Campinas,Gerente,14500.00\n",
      "12,Fernanda Lu,27,BrasÃ­lia,PsicÃ³loga,8700.00\n",
      "13,AndrÃ© Costa,33,Natal,Contador,7900.00\n",
      "14,Mariana Tez,24,FlorianÃ³polis,Cientista,9300.00\n",
      "15,Rafael More,39,SÃ£o LuÃ­s,Desenvolvedor,10700.00\n",
      "16,Beatriz San,30,MaceiÃ³,FarmacÃªutica,8600.00\n",
      "17,Rodrigo Fi,36,VitÃ³ria,Economista,12100.00\n",
      "18,Camila Brit,25,Teresina,Enfermeira,6900.00\n",
      "19,Tiago Amar,41,BelÃ©m,Professor,7500.00\n",
      "20,Priscila Vi,29,JoÃ£o Pessoa,PublicitÃ¡ria,9400.00\n"
     ]
    }
   ],
   "source": [
    "!more arq.csv"
   ]
  },
  {
   "cell_type": "code",
   "execution_count": 18,
   "id": "e5a6bc0a",
   "metadata": {},
   "outputs": [],
   "source": [
    "arr3 = np.loadtxt(filename, delimiter = ',', usecols = (0,2,5), skiprows = 1)  #Colocando o conteudo do arquivo numa array"
   ]
  },
  {
   "cell_type": "code",
   "execution_count": 19,
   "id": "e9506a32",
   "metadata": {},
   "outputs": [
    {
     "name": "stdout",
     "output_type": "stream",
     "text": [
      "[[1.00e+00 3.40e+01 8.50e+03]\n",
      " [2.00e+00 2.80e+01 1.23e+04]\n",
      " [3.00e+00 4.50e+01 6.70e+03]\n",
      " [4.00e+00 3.10e+01 9.10e+03]\n",
      " [5.00e+00 2.20e+01 5.40e+03]\n",
      " [6.00e+00 2.90e+01 7.20e+03]\n",
      " [7.00e+00 3.80e+01 1.05e+04]\n",
      " [8.00e+00 2.60e+01 1.10e+04]\n",
      " [9.00e+00 4.00e+01 1.32e+04]\n",
      " [1.00e+01 3.50e+01 9.80e+03]\n",
      " [1.10e+01 4.20e+01 1.45e+04]\n",
      " [1.20e+01 2.70e+01 8.70e+03]\n",
      " [1.30e+01 3.30e+01 7.90e+03]\n",
      " [1.40e+01 2.40e+01 9.30e+03]\n",
      " [1.50e+01 3.90e+01 1.07e+04]\n",
      " [1.60e+01 3.00e+01 8.60e+03]\n",
      " [1.70e+01 3.60e+01 1.21e+04]\n",
      " [1.80e+01 2.50e+01 6.90e+03]\n",
      " [1.90e+01 4.10e+01 7.50e+03]\n",
      " [2.00e+01 2.90e+01 9.40e+03]]\n"
     ]
    }
   ],
   "source": [
    "print(arr3)"
   ]
  },
  {
   "cell_type": "code",
   "execution_count": 22,
   "id": "1b0c80d2",
   "metadata": {},
   "outputs": [],
   "source": [
    "arr3 = np.array(list(map(lambda x: list(map(int, x)), arr3)))        #conversão de not. cientifica para inteiro"
   ]
  },
  {
   "cell_type": "code",
   "execution_count": 23,
   "id": "0854bba4",
   "metadata": {},
   "outputs": [
    {
     "name": "stdout",
     "output_type": "stream",
     "text": [
      "[[    1    34  8500]\n",
      " [    2    28 12300]\n",
      " [    3    45  6700]\n",
      " [    4    31  9100]\n",
      " [    5    22  5400]\n",
      " [    6    29  7200]\n",
      " [    7    38 10500]\n",
      " [    8    26 11000]\n",
      " [    9    40 13200]\n",
      " [   10    35  9800]\n",
      " [   11    42 14500]\n",
      " [   12    27  8700]\n",
      " [   13    33  7900]\n",
      " [   14    24  9300]\n",
      " [   15    39 10700]\n",
      " [   16    30  8600]\n",
      " [   17    36 12100]\n",
      " [   18    25  6900]\n",
      " [   19    41  7500]\n",
      " [   20    29  9400]]\n"
     ]
    }
   ],
   "source": [
    "print(arr3)"
   ]
  },
  {
   "cell_type": "code",
   "execution_count": 24,
   "id": "de3049d8",
   "metadata": {},
   "outputs": [],
   "source": [
    "var1,var2 = np.loadtxt(filename, delimiter = ',', usecols = (0,5), skiprows = 1, unpack = True)  #atribuido às duas variáveis\n",
    "                                                                                                 # de arrays as colunas indicadas \n",
    "                                                                                                 # do arquivo."
   ]
  },
  {
   "cell_type": "code",
   "execution_count": 25,
   "id": "1be867de",
   "metadata": {},
   "outputs": [
    {
     "data": {
      "text/plain": [
       "array([ 1.,  2.,  3.,  4.,  5.,  6.,  7.,  8.,  9., 10., 11., 12., 13.,\n",
       "       14., 15., 16., 17., 18., 19., 20.])"
      ]
     },
     "execution_count": 25,
     "metadata": {},
     "output_type": "execute_result"
    }
   ],
   "source": [
    "var1          # verificando var1 e a coluna 0"
   ]
  },
  {
   "cell_type": "code",
   "execution_count": 26,
   "id": "c00a2544",
   "metadata": {},
   "outputs": [
    {
     "data": {
      "text/plain": [
       "array([ 8500., 12300.,  6700.,  9100.,  5400.,  7200., 10500., 11000.,\n",
       "       13200.,  9800., 14500.,  8700.,  7900.,  9300., 10700.,  8600.,\n",
       "       12100.,  6900.,  7500.,  9400.])"
      ]
     },
     "execution_count": 26,
     "metadata": {},
     "output_type": "execute_result"
    }
   ],
   "source": [
    "var2        # verificando var2 e a coluna 5"
   ]
  },
  {
   "cell_type": "markdown",
   "id": "93724cd8",
   "metadata": {},
   "source": [
    "## Operações Matemáticas com Arrays"
   ]
  },
  {
   "cell_type": "code",
   "execution_count": 27,
   "id": "6a43009b",
   "metadata": {},
   "outputs": [],
   "source": [
    "arr4 = np.arange(1,10)          #Criando um array com o método arange"
   ]
  },
  {
   "cell_type": "code",
   "execution_count": 28,
   "id": "cee29a75",
   "metadata": {},
   "outputs": [
    {
     "name": "stdout",
     "output_type": "stream",
     "text": [
      "[1 2 3 4 5 6 7 8 9]\n"
     ]
    }
   ],
   "source": [
    "print(arr4)"
   ]
  },
  {
   "cell_type": "code",
   "execution_count": 29,
   "id": "e0fbe3c7",
   "metadata": {},
   "outputs": [
    {
     "data": {
      "text/plain": [
       "45"
      ]
     },
     "execution_count": 29,
     "metadata": {},
     "output_type": "execute_result"
    }
   ],
   "source": [
    "np.sum(arr4)         #Soma de todos os elementos do array"
   ]
  },
  {
   "cell_type": "code",
   "execution_count": 30,
   "id": "8ffc065e",
   "metadata": {},
   "outputs": [
    {
     "data": {
      "text/plain": [
       "362880"
      ]
     },
     "execution_count": 30,
     "metadata": {},
     "output_type": "execute_result"
    }
   ],
   "source": [
    "np.prod(arr4)      #produto de todos os elementos do array"
   ]
  },
  {
   "cell_type": "code",
   "execution_count": 31,
   "id": "a3bf70cb",
   "metadata": {},
   "outputs": [
    {
     "data": {
      "text/plain": [
       "array([ 1,  3,  6, 10, 15, 21, 28, 36, 45])"
      ]
     },
     "execution_count": 31,
     "metadata": {},
     "output_type": "execute_result"
    }
   ],
   "source": [
    "np.cumsum(arr4)    #Soma acumulada"
   ]
  },
  {
   "cell_type": "code",
   "execution_count": 32,
   "id": "0aced497",
   "metadata": {},
   "outputs": [
    {
     "data": {
      "text/plain": [
       "array([     1,      2,      6,     24,    120,    720,   5040,  40320,\n",
       "       362880])"
      ]
     },
     "execution_count": 32,
     "metadata": {},
     "output_type": "execute_result"
    }
   ],
   "source": [
    "np.cumprod(arr4)     #Produto acumulado"
   ]
  },
  {
   "cell_type": "code",
   "execution_count": 33,
   "id": "df63b03a",
   "metadata": {},
   "outputs": [],
   "source": [
    "arr5a = np.array([1,2,3])\n",
    "arr5b = np.array([4,5,6])"
   ]
  },
  {
   "cell_type": "code",
   "execution_count": 34,
   "id": "6470bac9",
   "metadata": {},
   "outputs": [],
   "source": [
    "arr5 = np.add(arr5a,arr5b)          #Adição elemento a elemento"
   ]
  },
  {
   "cell_type": "code",
   "execution_count": 35,
   "id": "bfe299b7",
   "metadata": {},
   "outputs": [
    {
     "name": "stdout",
     "output_type": "stream",
     "text": [
      "[5 7 9]\n"
     ]
    }
   ],
   "source": [
    "print(arr5)"
   ]
  },
  {
   "cell_type": "code",
   "execution_count": 36,
   "id": "2fd820ec",
   "metadata": {},
   "outputs": [],
   "source": [
    "arr6a = [[4,6],[8,2],[5,3],[1,1]]\n",
    "arr6b = [[2,2,2],[10,10,10]]"
   ]
  },
  {
   "cell_type": "code",
   "execution_count": 37,
   "id": "29c9a197",
   "metadata": {},
   "outputs": [],
   "source": [
    "arr6 = np.dot(arr6a,arr6b)        #produto de matrizes"
   ]
  },
  {
   "cell_type": "code",
   "execution_count": 38,
   "id": "bbe56566",
   "metadata": {},
   "outputs": [
    {
     "name": "stdout",
     "output_type": "stream",
     "text": [
      "[[68 68 68]\n",
      " [36 36 36]\n",
      " [40 40 40]\n",
      " [12 12 12]]\n"
     ]
    }
   ],
   "source": [
    "print(arr6)"
   ]
  },
  {
   "cell_type": "code",
   "execution_count": 39,
   "id": "8676fd5e",
   "metadata": {},
   "outputs": [
    {
     "ename": "ValueError",
     "evalue": "shapes (2,3) and (4,2) not aligned: 3 (dim 1) != 4 (dim 0)",
     "output_type": "error",
     "traceback": [
      "\u001b[1;31m---------------------------------------------------------------------------\u001b[0m",
      "\u001b[1;31mValueError\u001b[0m                                Traceback (most recent call last)",
      "\u001b[1;32m~\\AppData\\Local\\Temp\\ipykernel_20204\\907564688.py\u001b[0m in \u001b[0;36m<module>\u001b[1;34m\u001b[0m\n\u001b[1;32m----> 1\u001b[1;33m \u001b[0marr6c\u001b[0m \u001b[1;33m=\u001b[0m \u001b[0mnp\u001b[0m\u001b[1;33m.\u001b[0m\u001b[0mdot\u001b[0m\u001b[1;33m(\u001b[0m\u001b[0marr6b\u001b[0m\u001b[1;33m,\u001b[0m\u001b[0marr6a\u001b[0m\u001b[1;33m)\u001b[0m\u001b[1;33m\u001b[0m\u001b[1;33m\u001b[0m\u001b[0m\n\u001b[0m",
      "\u001b[1;32mD:\\GuiBarros\\anaconda3\\lib\\site-packages\\numpy\\core\\overrides.py\u001b[0m in \u001b[0;36mdot\u001b[1;34m(*args, **kwargs)\u001b[0m\n",
      "\u001b[1;31mValueError\u001b[0m: shapes (2,3) and (4,2) not aligned: 3 (dim 1) != 4 (dim 0)"
     ]
    }
   ],
   "source": [
    "arr6c = np.dot(arr6b,arr6a)      #A ordem do produto importa, ver mensagem de erro abaixo."
   ]
  },
  {
   "cell_type": "markdown",
   "id": "b848c2aa",
   "metadata": {},
   "source": [
    "## Slicing (fatiamento) de arrays"
   ]
  },
  {
   "cell_type": "code",
   "execution_count": 44,
   "id": "d45b577e",
   "metadata": {},
   "outputs": [],
   "source": [
    "arr7 = np.diag([1,1,1])      #Criando uma matriz identidade"
   ]
  },
  {
   "cell_type": "code",
   "execution_count": 45,
   "id": "f448a56c",
   "metadata": {},
   "outputs": [
    {
     "name": "stdout",
     "output_type": "stream",
     "text": [
      "[[1 0 0]\n",
      " [0 1 0]\n",
      " [0 0 1]]\n"
     ]
    }
   ],
   "source": [
    "print(arr7)"
   ]
  },
  {
   "cell_type": "code",
   "execution_count": 46,
   "id": "82683cdb",
   "metadata": {},
   "outputs": [],
   "source": [
    "arr8 = np.diag([3.14,2.71,1.61,1.41])      #Criando uma matriz diagonal com os elementos indicados"
   ]
  },
  {
   "cell_type": "code",
   "execution_count": 47,
   "id": "c40beb6a",
   "metadata": {},
   "outputs": [
    {
     "name": "stdout",
     "output_type": "stream",
     "text": [
      "[[3.14 0.   0.   0.  ]\n",
      " [0.   2.71 0.   0.  ]\n",
      " [0.   0.   1.61 0.  ]\n",
      " [0.   0.   0.   1.41]]\n"
     ]
    }
   ],
   "source": [
    "print(arr8)"
   ]
  },
  {
   "cell_type": "code",
   "execution_count": 48,
   "id": "90683f6e",
   "metadata": {},
   "outputs": [
    {
     "data": {
      "text/plain": [
       "3.14"
      ]
     },
     "execution_count": 48,
     "metadata": {},
     "output_type": "execute_result"
    }
   ],
   "source": [
    "arr8[0,0]"
   ]
  },
  {
   "cell_type": "code",
   "execution_count": 49,
   "id": "74539ed8",
   "metadata": {},
   "outputs": [
    {
     "data": {
      "text/plain": [
       "1.61"
      ]
     },
     "execution_count": 49,
     "metadata": {},
     "output_type": "execute_result"
    }
   ],
   "source": [
    "arr8[2,2]"
   ]
  },
  {
   "cell_type": "code",
   "execution_count": 50,
   "id": "f2054d30",
   "metadata": {},
   "outputs": [
    {
     "data": {
      "text/plain": [
       "array([0.  , 2.71, 0.  , 0.  ])"
      ]
     },
     "execution_count": 50,
     "metadata": {},
     "output_type": "execute_result"
    }
   ],
   "source": [
    "arr8[1]    #Indexando uma linha do array"
   ]
  },
  {
   "cell_type": "code",
   "execution_count": 51,
   "id": "2e96a6cf",
   "metadata": {},
   "outputs": [
    {
     "data": {
      "text/plain": [
       "array([3.14, 0.  , 0.  , 0.  ])"
      ]
     },
     "execution_count": 51,
     "metadata": {},
     "output_type": "execute_result"
    }
   ],
   "source": [
    "arr8[:,0]    #Indexando uma coluna do array"
   ]
  },
  {
   "cell_type": "code",
   "execution_count": 52,
   "id": "9fb2fa43",
   "metadata": {},
   "outputs": [],
   "source": [
    "arr9 = np.arange(20)"
   ]
  },
  {
   "cell_type": "code",
   "execution_count": 53,
   "id": "953bab5f",
   "metadata": {},
   "outputs": [
    {
     "name": "stdout",
     "output_type": "stream",
     "text": [
      "[ 0  1  2  3  4  5  6  7  8  9 10 11 12 13 14 15 16 17 18 19]\n"
     ]
    }
   ],
   "source": [
    "print(arr9)"
   ]
  },
  {
   "cell_type": "code",
   "execution_count": 54,
   "id": "078daa4e",
   "metadata": {},
   "outputs": [
    {
     "data": {
      "text/plain": [
       "array([ 0,  4,  8, 12])"
      ]
     },
     "execution_count": 54,
     "metadata": {},
     "output_type": "execute_result"
    }
   ],
   "source": [
    "arr9[0:15:4]      #start:stop:step#"
   ]
  },
  {
   "cell_type": "code",
   "execution_count": 57,
   "id": "6e324f4f",
   "metadata": {},
   "outputs": [],
   "source": [
    "a = np.array([1,2,3,4])\n",
    "b = np.array([4,2,2,4])"
   ]
  },
  {
   "cell_type": "code",
   "execution_count": 58,
   "id": "7834981e",
   "metadata": {},
   "outputs": [
    {
     "data": {
      "text/plain": [
       "array([False,  True, False,  True])"
      ]
     },
     "execution_count": 58,
     "metadata": {},
     "output_type": "execute_result"
    }
   ],
   "source": [
    "a == b     #Comparação item a item"
   ]
  },
  {
   "cell_type": "code",
   "execution_count": 59,
   "id": "81a8941f",
   "metadata": {},
   "outputs": [
    {
     "data": {
      "text/plain": [
       "False"
      ]
     },
     "execution_count": 59,
     "metadata": {},
     "output_type": "execute_result"
    }
   ],
   "source": [
    "np.array_equal(a,b)   #Comparação global"
   ]
  },
  {
   "cell_type": "code",
   "execution_count": 60,
   "id": "7ad2aaf4",
   "metadata": {},
   "outputs": [
    {
     "name": "stdout",
     "output_type": "stream",
     "text": [
      "[[3.14 0.   0.   0.  ]\n",
      " [0.   2.71 0.   0.  ]\n",
      " [0.   0.   1.61 0.  ]\n",
      " [0.   0.   0.   1.41]]\n"
     ]
    }
   ],
   "source": [
    "print(arr8)"
   ]
  },
  {
   "cell_type": "code",
   "execution_count": 61,
   "id": "ca135771",
   "metadata": {},
   "outputs": [
    {
     "data": {
      "text/plain": [
       "0.0"
      ]
     },
     "execution_count": 61,
     "metadata": {},
     "output_type": "execute_result"
    }
   ],
   "source": [
    "arr8.min()      #Retorna o elemento de menor valor"
   ]
  },
  {
   "cell_type": "code",
   "execution_count": 62,
   "id": "c7f5e4ed",
   "metadata": {},
   "outputs": [
    {
     "data": {
      "text/plain": [
       "3.14"
      ]
     },
     "execution_count": 62,
     "metadata": {},
     "output_type": "execute_result"
    }
   ],
   "source": [
    "arr8.max()       #Retorna o elemento de maior valor"
   ]
  },
  {
   "cell_type": "code",
   "execution_count": 64,
   "id": "7944cd77",
   "metadata": {},
   "outputs": [],
   "source": [
    "arr10 = np.array([[1,2,3,4],[5,6,7,8]])"
   ]
  },
  {
   "cell_type": "code",
   "execution_count": 65,
   "id": "0b9ce980",
   "metadata": {},
   "outputs": [
    {
     "name": "stdout",
     "output_type": "stream",
     "text": [
      "[[1 2 3 4]\n",
      " [5 6 7 8]]\n"
     ]
    }
   ],
   "source": [
    "print(arr10)"
   ]
  },
  {
   "cell_type": "code",
   "execution_count": 67,
   "id": "2a562699",
   "metadata": {},
   "outputs": [],
   "source": [
    "arr10 = arr10.flatten()    #'Achatando' os elementos para uma dimensão."
   ]
  },
  {
   "cell_type": "code",
   "execution_count": 68,
   "id": "048bf223",
   "metadata": {},
   "outputs": [
    {
     "name": "stdout",
     "output_type": "stream",
     "text": [
      "[1 2 3 4 5 6 7 8]\n"
     ]
    }
   ],
   "source": [
    "print(arr10)"
   ]
  },
  {
   "cell_type": "code",
   "execution_count": 69,
   "id": "c4d6c7eb",
   "metadata": {},
   "outputs": [],
   "source": [
    "arr11 = np.array([1,2,3])"
   ]
  },
  {
   "cell_type": "code",
   "execution_count": 70,
   "id": "a20cd247",
   "metadata": {},
   "outputs": [],
   "source": [
    "arr12 = np.repeat(arr11,3)    #Repetindo os elementos, um por um, três vezes."
   ]
  },
  {
   "cell_type": "code",
   "execution_count": 71,
   "id": "05901d82",
   "metadata": {},
   "outputs": [
    {
     "name": "stdout",
     "output_type": "stream",
     "text": [
      "[1 1 1 2 2 2 3 3 3]\n"
     ]
    }
   ],
   "source": [
    "print(arr12)"
   ]
  },
  {
   "cell_type": "code",
   "execution_count": 72,
   "id": "da9c3710",
   "metadata": {},
   "outputs": [],
   "source": [
    "arr13 = np.tile(arr11,3)      #Repetindo a sequência de elementos três vezes."
   ]
  },
  {
   "cell_type": "code",
   "execution_count": 73,
   "id": "6b7b84f3",
   "metadata": {},
   "outputs": [
    {
     "name": "stdout",
     "output_type": "stream",
     "text": [
      "[1 2 3 1 2 3 1 2 3]\n"
     ]
    }
   ],
   "source": [
    "print(arr13)"
   ]
  },
  {
   "cell_type": "code",
   "execution_count": 74,
   "id": "747fccd3",
   "metadata": {},
   "outputs": [],
   "source": [
    "arr14 = np.copy(arr11)       #copiando o array."
   ]
  },
  {
   "cell_type": "code",
   "execution_count": 75,
   "id": "c6c725f2",
   "metadata": {},
   "outputs": [
    {
     "name": "stdout",
     "output_type": "stream",
     "text": [
      "[1 2 3]\n"
     ]
    }
   ],
   "source": [
    "print(arr14)"
   ]
  },
  {
   "cell_type": "code",
   "execution_count": null,
   "id": "4b714691",
   "metadata": {},
   "outputs": [],
   "source": []
  }
 ],
 "metadata": {
  "kernelspec": {
   "display_name": "Python 3 (ipykernel)",
   "language": "python",
   "name": "python3"
  },
  "language_info": {
   "codemirror_mode": {
    "name": "ipython",
    "version": 3
   },
   "file_extension": ".py",
   "mimetype": "text/x-python",
   "name": "python",
   "nbconvert_exporter": "python",
   "pygments_lexer": "ipython3",
   "version": "3.9.13"
  }
 },
 "nbformat": 4,
 "nbformat_minor": 5
}
