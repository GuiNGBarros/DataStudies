{
 "cells": [
  {
   "cell_type": "code",
   "execution_count": 1,
   "id": "b194df71",
   "metadata": {},
   "outputs": [],
   "source": [
    "import pandas as pd\n",
    "import numpy as np\n",
    "import matplotlib.pyplot as plt\n",
    "import datetime as dt                                #Import some library\n",
    "\n",
    "pd.set_option('display.max_columns', None)\n",
    "# pd.set_option('display.max_rows', None)\n",
    "pd.options.display.float_format = '{:.2f}'.format"
   ]
  },
  {
   "cell_type": "code",
   "execution_count": 2,
   "id": "3ce25630",
   "metadata": {},
   "outputs": [],
   "source": [
    "patient = pd.read_csv(\"dados_pacientes.csv\")"
   ]
  },
  {
   "cell_type": "markdown",
   "id": "abf06a11",
   "metadata": {},
   "source": [
    "### Viewing the dataset"
   ]
  },
  {
   "cell_type": "code",
   "execution_count": 3,
   "id": "5bb2437a",
   "metadata": {},
   "outputs": [
    {
     "data": {
      "text/html": [
       "<div>\n",
       "<style scoped>\n",
       "    .dataframe tbody tr th:only-of-type {\n",
       "        vertical-align: middle;\n",
       "    }\n",
       "\n",
       "    .dataframe tbody tr th {\n",
       "        vertical-align: top;\n",
       "    }\n",
       "\n",
       "    .dataframe thead th {\n",
       "        text-align: right;\n",
       "    }\n",
       "</style>\n",
       "<table border=\"1\" class=\"dataframe\">\n",
       "  <thead>\n",
       "    <tr style=\"text-align: right;\">\n",
       "      <th></th>\n",
       "      <th>id_paciente</th>\n",
       "      <th>idade(anos)</th>\n",
       "      <th>altura(cm)</th>\n",
       "      <th>peso(kg)</th>\n",
       "      <th>tipo_sanguineo</th>\n",
       "      <th>estado_civil</th>\n",
       "    </tr>\n",
       "  </thead>\n",
       "  <tbody>\n",
       "    <tr>\n",
       "      <th>0</th>\n",
       "      <td>1</td>\n",
       "      <td>69</td>\n",
       "      <td>206</td>\n",
       "      <td>119</td>\n",
       "      <td>O+</td>\n",
       "      <td>Solteiro</td>\n",
       "    </tr>\n",
       "    <tr>\n",
       "      <th>1</th>\n",
       "      <td>2</td>\n",
       "      <td>32</td>\n",
       "      <td>184</td>\n",
       "      <td>48</td>\n",
       "      <td>AB-</td>\n",
       "      <td>Solteiro</td>\n",
       "    </tr>\n",
       "    <tr>\n",
       "      <th>2</th>\n",
       "      <td>3</td>\n",
       "      <td>89</td>\n",
       "      <td>192</td>\n",
       "      <td>48</td>\n",
       "      <td>AB-</td>\n",
       "      <td>Solteiro</td>\n",
       "    </tr>\n",
       "    <tr>\n",
       "      <th>3</th>\n",
       "      <td>4</td>\n",
       "      <td>78</td>\n",
       "      <td>205</td>\n",
       "      <td>41</td>\n",
       "      <td>A-</td>\n",
       "      <td>Casado</td>\n",
       "    </tr>\n",
       "    <tr>\n",
       "      <th>4</th>\n",
       "      <td>5</td>\n",
       "      <td>38</td>\n",
       "      <td>192</td>\n",
       "      <td>145</td>\n",
       "      <td>A-</td>\n",
       "      <td>Casado</td>\n",
       "    </tr>\n",
       "  </tbody>\n",
       "</table>\n",
       "</div>"
      ],
      "text/plain": [
       "   id_paciente  idade(anos)  altura(cm)  peso(kg) tipo_sanguineo estado_civil\n",
       "0            1           69         206       119             O+     Solteiro\n",
       "1            2           32         184        48            AB-     Solteiro\n",
       "2            3           89         192        48            AB-     Solteiro\n",
       "3            4           78         205        41             A-       Casado\n",
       "4            5           38         192       145             A-       Casado"
      ]
     },
     "execution_count": 3,
     "metadata": {},
     "output_type": "execute_result"
    }
   ],
   "source": [
    "patient.head()   # first five rows (pattern) or .head(n = a number)                    (be careful with pythons identation)"
   ]
  },
  {
   "cell_type": "code",
   "execution_count": 4,
   "id": "e18c6f8d",
   "metadata": {},
   "outputs": [
    {
     "data": {
      "text/html": [
       "<div>\n",
       "<style scoped>\n",
       "    .dataframe tbody tr th:only-of-type {\n",
       "        vertical-align: middle;\n",
       "    }\n",
       "\n",
       "    .dataframe tbody tr th {\n",
       "        vertical-align: top;\n",
       "    }\n",
       "\n",
       "    .dataframe thead th {\n",
       "        text-align: right;\n",
       "    }\n",
       "</style>\n",
       "<table border=\"1\" class=\"dataframe\">\n",
       "  <thead>\n",
       "    <tr style=\"text-align: right;\">\n",
       "      <th></th>\n",
       "      <th>id_paciente</th>\n",
       "      <th>idade(anos)</th>\n",
       "      <th>altura(cm)</th>\n",
       "      <th>peso(kg)</th>\n",
       "      <th>tipo_sanguineo</th>\n",
       "      <th>estado_civil</th>\n",
       "    </tr>\n",
       "  </thead>\n",
       "  <tbody>\n",
       "    <tr>\n",
       "      <th>995</th>\n",
       "      <td>996</td>\n",
       "      <td>30</td>\n",
       "      <td>194</td>\n",
       "      <td>148</td>\n",
       "      <td>O-</td>\n",
       "      <td>Viúvo</td>\n",
       "    </tr>\n",
       "    <tr>\n",
       "      <th>996</th>\n",
       "      <td>997</td>\n",
       "      <td>79</td>\n",
       "      <td>181</td>\n",
       "      <td>103</td>\n",
       "      <td>B-</td>\n",
       "      <td>Viúvo</td>\n",
       "    </tr>\n",
       "    <tr>\n",
       "      <th>997</th>\n",
       "      <td>998</td>\n",
       "      <td>99</td>\n",
       "      <td>191</td>\n",
       "      <td>69</td>\n",
       "      <td>O+</td>\n",
       "      <td>Divorciado</td>\n",
       "    </tr>\n",
       "    <tr>\n",
       "      <th>998</th>\n",
       "      <td>999</td>\n",
       "      <td>77</td>\n",
       "      <td>153</td>\n",
       "      <td>88</td>\n",
       "      <td>B-</td>\n",
       "      <td>Casado</td>\n",
       "    </tr>\n",
       "    <tr>\n",
       "      <th>999</th>\n",
       "      <td>1000</td>\n",
       "      <td>60</td>\n",
       "      <td>155</td>\n",
       "      <td>105</td>\n",
       "      <td>B-</td>\n",
       "      <td>Divorciado</td>\n",
       "    </tr>\n",
       "  </tbody>\n",
       "</table>\n",
       "</div>"
      ],
      "text/plain": [
       "     id_paciente  idade(anos)  altura(cm)  peso(kg) tipo_sanguineo  \\\n",
       "995          996           30         194       148             O-   \n",
       "996          997           79         181       103             B-   \n",
       "997          998           99         191        69             O+   \n",
       "998          999           77         153        88             B-   \n",
       "999         1000           60         155       105             B-   \n",
       "\n",
       "    estado_civil  \n",
       "995        Viúvo  \n",
       "996        Viúvo  \n",
       "997   Divorciado  \n",
       "998       Casado  \n",
       "999   Divorciado  "
      ]
     },
     "execution_count": 4,
     "metadata": {},
     "output_type": "execute_result"
    }
   ],
   "source": [
    "patient.tail()    # last five rows (pattern) or .tail(n = a number)"
   ]
  },
  {
   "cell_type": "markdown",
   "id": "ae80d8c4",
   "metadata": {},
   "source": [
    "These codes allow us view some data and info about variables of each observation"
   ]
  },
  {
   "cell_type": "code",
   "execution_count": 5,
   "id": "1ee577d6",
   "metadata": {},
   "outputs": [
    {
     "data": {
      "text/plain": [
       "(1000, 6)"
      ]
     },
     "execution_count": 5,
     "metadata": {},
     "output_type": "execute_result"
    }
   ],
   "source": [
    "patient.shape         # how many rows and columns the df has?"
   ]
  },
  {
   "cell_type": "code",
   "execution_count": 6,
   "id": "c067e6c6",
   "metadata": {},
   "outputs": [
    {
     "data": {
      "text/html": [
       "<div>\n",
       "<style scoped>\n",
       "    .dataframe tbody tr th:only-of-type {\n",
       "        vertical-align: middle;\n",
       "    }\n",
       "\n",
       "    .dataframe tbody tr th {\n",
       "        vertical-align: top;\n",
       "    }\n",
       "\n",
       "    .dataframe thead th {\n",
       "        text-align: right;\n",
       "    }\n",
       "</style>\n",
       "<table border=\"1\" class=\"dataframe\">\n",
       "  <thead>\n",
       "    <tr style=\"text-align: right;\">\n",
       "      <th></th>\n",
       "      <th>id_paciente</th>\n",
       "      <th>idade(anos)</th>\n",
       "      <th>altura(cm)</th>\n",
       "      <th>peso(kg)</th>\n",
       "      <th>tipo_sanguineo</th>\n",
       "      <th>estado_civil</th>\n",
       "    </tr>\n",
       "  </thead>\n",
       "  <tbody>\n",
       "    <tr>\n",
       "      <th>0</th>\n",
       "      <td>1</td>\n",
       "      <td>69</td>\n",
       "      <td>206</td>\n",
       "      <td>119</td>\n",
       "      <td>O+</td>\n",
       "      <td>Solteiro</td>\n",
       "    </tr>\n",
       "    <tr>\n",
       "      <th>1</th>\n",
       "      <td>2</td>\n",
       "      <td>32</td>\n",
       "      <td>184</td>\n",
       "      <td>48</td>\n",
       "      <td>AB-</td>\n",
       "      <td>Solteiro</td>\n",
       "    </tr>\n",
       "    <tr>\n",
       "      <th>2</th>\n",
       "      <td>3</td>\n",
       "      <td>89</td>\n",
       "      <td>192</td>\n",
       "      <td>48</td>\n",
       "      <td>AB-</td>\n",
       "      <td>Solteiro</td>\n",
       "    </tr>\n",
       "    <tr>\n",
       "      <th>3</th>\n",
       "      <td>4</td>\n",
       "      <td>78</td>\n",
       "      <td>205</td>\n",
       "      <td>41</td>\n",
       "      <td>A-</td>\n",
       "      <td>Casado</td>\n",
       "    </tr>\n",
       "    <tr>\n",
       "      <th>4</th>\n",
       "      <td>5</td>\n",
       "      <td>38</td>\n",
       "      <td>192</td>\n",
       "      <td>145</td>\n",
       "      <td>A-</td>\n",
       "      <td>Casado</td>\n",
       "    </tr>\n",
       "    <tr>\n",
       "      <th>...</th>\n",
       "      <td>...</td>\n",
       "      <td>...</td>\n",
       "      <td>...</td>\n",
       "      <td>...</td>\n",
       "      <td>...</td>\n",
       "      <td>...</td>\n",
       "    </tr>\n",
       "    <tr>\n",
       "      <th>995</th>\n",
       "      <td>996</td>\n",
       "      <td>30</td>\n",
       "      <td>194</td>\n",
       "      <td>148</td>\n",
       "      <td>O-</td>\n",
       "      <td>Viúvo</td>\n",
       "    </tr>\n",
       "    <tr>\n",
       "      <th>996</th>\n",
       "      <td>997</td>\n",
       "      <td>79</td>\n",
       "      <td>181</td>\n",
       "      <td>103</td>\n",
       "      <td>B-</td>\n",
       "      <td>Viúvo</td>\n",
       "    </tr>\n",
       "    <tr>\n",
       "      <th>997</th>\n",
       "      <td>998</td>\n",
       "      <td>99</td>\n",
       "      <td>191</td>\n",
       "      <td>69</td>\n",
       "      <td>O+</td>\n",
       "      <td>Divorciado</td>\n",
       "    </tr>\n",
       "    <tr>\n",
       "      <th>998</th>\n",
       "      <td>999</td>\n",
       "      <td>77</td>\n",
       "      <td>153</td>\n",
       "      <td>88</td>\n",
       "      <td>B-</td>\n",
       "      <td>Casado</td>\n",
       "    </tr>\n",
       "    <tr>\n",
       "      <th>999</th>\n",
       "      <td>1000</td>\n",
       "      <td>60</td>\n",
       "      <td>155</td>\n",
       "      <td>105</td>\n",
       "      <td>B-</td>\n",
       "      <td>Divorciado</td>\n",
       "    </tr>\n",
       "  </tbody>\n",
       "</table>\n",
       "<p>1000 rows × 6 columns</p>\n",
       "</div>"
      ],
      "text/plain": [
       "     id_paciente  idade(anos)  altura(cm)  peso(kg) tipo_sanguineo  \\\n",
       "0              1           69         206       119             O+   \n",
       "1              2           32         184        48            AB-   \n",
       "2              3           89         192        48            AB-   \n",
       "3              4           78         205        41             A-   \n",
       "4              5           38         192       145             A-   \n",
       "..           ...          ...         ...       ...            ...   \n",
       "995          996           30         194       148             O-   \n",
       "996          997           79         181       103             B-   \n",
       "997          998           99         191        69             O+   \n",
       "998          999           77         153        88             B-   \n",
       "999         1000           60         155       105             B-   \n",
       "\n",
       "    estado_civil  \n",
       "0       Solteiro  \n",
       "1       Solteiro  \n",
       "2       Solteiro  \n",
       "3         Casado  \n",
       "4         Casado  \n",
       "..           ...  \n",
       "995        Viúvo  \n",
       "996        Viúvo  \n",
       "997   Divorciado  \n",
       "998       Casado  \n",
       "999   Divorciado  \n",
       "\n",
       "[1000 rows x 6 columns]"
      ]
     },
     "metadata": {},
     "output_type": "display_data"
    }
   ],
   "source": [
    "display(patient)       # Other way to show all those infos is using 'display'"
   ]
  },
  {
   "cell_type": "markdown",
   "id": "29ec427b",
   "metadata": {},
   "source": [
    "### Viewing null cells and data types"
   ]
  },
  {
   "cell_type": "code",
   "execution_count": 8,
   "id": "cc79a5f8",
   "metadata": {},
   "outputs": [
    {
     "data": {
      "text/plain": [
       "id_paciente       0\n",
       "idade(anos)       0\n",
       "altura(cm)        0\n",
       "peso(kg)          0\n",
       "tipo_sanguineo    0\n",
       "estado_civil      0\n",
       "dtype: int64"
      ]
     },
     "execution_count": 8,
     "metadata": {},
     "output_type": "execute_result"
    }
   ],
   "source": [
    "patient.isnull().sum()         #Verifying if df has null cell variables"
   ]
  },
  {
   "cell_type": "code",
   "execution_count": 9,
   "id": "cc1d1f71",
   "metadata": {},
   "outputs": [
    {
     "data": {
      "text/plain": [
       "id_paciente        int64\n",
       "idade(anos)        int64\n",
       "altura(cm)         int64\n",
       "peso(kg)           int64\n",
       "tipo_sanguineo    object\n",
       "estado_civil      object\n",
       "dtype: object"
      ]
     },
     "execution_count": 9,
     "metadata": {},
     "output_type": "execute_result"
    }
   ],
   "source": [
    "patient.dtypes             #Verifying data variables types"
   ]
  },
  {
   "cell_type": "code",
   "execution_count": 7,
   "id": "d55a55cf",
   "metadata": {},
   "outputs": [
    {
     "name": "stdout",
     "output_type": "stream",
     "text": [
      "<class 'pandas.core.frame.DataFrame'>\n",
      "RangeIndex: 1000 entries, 0 to 999\n",
      "Data columns (total 6 columns):\n",
      " #   Column          Non-Null Count  Dtype \n",
      "---  ------          --------------  ----- \n",
      " 0   id_paciente     1000 non-null   int64 \n",
      " 1   idade(anos)     1000 non-null   int64 \n",
      " 2   altura(cm)      1000 non-null   int64 \n",
      " 3   peso(kg)        1000 non-null   int64 \n",
      " 4   tipo_sanguineo  1000 non-null   object\n",
      " 5   estado_civil    1000 non-null   object\n",
      "dtypes: int64(4), object(2)\n",
      "memory usage: 47.0+ KB\n"
     ]
    }
   ],
   "source": [
    "patient.info()     #Both"
   ]
  },
  {
   "cell_type": "markdown",
   "id": "bde634cd",
   "metadata": {},
   "source": [
    "### Counting and statistical description values"
   ]
  },
  {
   "cell_type": "code",
   "execution_count": 17,
   "id": "9ac706cc",
   "metadata": {},
   "outputs": [
    {
     "data": {
      "text/plain": [
       "A+     146\n",
       "B+     136\n",
       "AB+    128\n",
       "A-     122\n",
       "O+     119\n",
       "AB-    119\n",
       "O-     118\n",
       "B-     112\n",
       "Name: tipo_sanguineo, dtype: int64"
      ]
     },
     "execution_count": 17,
     "metadata": {},
     "output_type": "execute_result"
    }
   ],
   "source": [
    "patient['tipo_sanguineo'].value_counts()"
   ]
  },
  {
   "cell_type": "code",
   "execution_count": 18,
   "id": "c15f7905",
   "metadata": {},
   "outputs": [
    {
     "data": {
      "text/plain": [
       "Viúvo         273\n",
       "Divorciado    256\n",
       "Casado        241\n",
       "Solteiro      230\n",
       "Name: estado_civil, dtype: int64"
      ]
     },
     "execution_count": 18,
     "metadata": {},
     "output_type": "execute_result"
    }
   ],
   "source": [
    "patient['estado_civil'].value_counts()"
   ]
  },
  {
   "cell_type": "code",
   "execution_count": 19,
   "id": "c8ce984c",
   "metadata": {},
   "outputs": [
    {
     "data": {
      "text/html": [
       "<div>\n",
       "<style scoped>\n",
       "    .dataframe tbody tr th:only-of-type {\n",
       "        vertical-align: middle;\n",
       "    }\n",
       "\n",
       "    .dataframe tbody tr th {\n",
       "        vertical-align: top;\n",
       "    }\n",
       "\n",
       "    .dataframe thead th {\n",
       "        text-align: right;\n",
       "    }\n",
       "</style>\n",
       "<table border=\"1\" class=\"dataframe\">\n",
       "  <thead>\n",
       "    <tr style=\"text-align: right;\">\n",
       "      <th></th>\n",
       "      <th>id_paciente</th>\n",
       "      <th>idade(anos)</th>\n",
       "      <th>altura(cm)</th>\n",
       "      <th>peso(kg)</th>\n",
       "    </tr>\n",
       "  </thead>\n",
       "  <tbody>\n",
       "    <tr>\n",
       "      <th>count</th>\n",
       "      <td>1000.00</td>\n",
       "      <td>1000.00</td>\n",
       "      <td>1000.00</td>\n",
       "      <td>1000.00</td>\n",
       "    </tr>\n",
       "    <tr>\n",
       "      <th>mean</th>\n",
       "      <td>500.50</td>\n",
       "      <td>56.77</td>\n",
       "      <td>180.01</td>\n",
       "      <td>94.80</td>\n",
       "    </tr>\n",
       "    <tr>\n",
       "      <th>std</th>\n",
       "      <td>288.82</td>\n",
       "      <td>23.46</td>\n",
       "      <td>17.58</td>\n",
       "      <td>31.76</td>\n",
       "    </tr>\n",
       "    <tr>\n",
       "      <th>min</th>\n",
       "      <td>1.00</td>\n",
       "      <td>18.00</td>\n",
       "      <td>150.00</td>\n",
       "      <td>40.00</td>\n",
       "    </tr>\n",
       "    <tr>\n",
       "      <th>25%</th>\n",
       "      <td>250.75</td>\n",
       "      <td>36.00</td>\n",
       "      <td>164.00</td>\n",
       "      <td>69.00</td>\n",
       "    </tr>\n",
       "    <tr>\n",
       "      <th>50%</th>\n",
       "      <td>500.50</td>\n",
       "      <td>56.00</td>\n",
       "      <td>180.00</td>\n",
       "      <td>95.00</td>\n",
       "    </tr>\n",
       "    <tr>\n",
       "      <th>75%</th>\n",
       "      <td>750.25</td>\n",
       "      <td>77.00</td>\n",
       "      <td>195.00</td>\n",
       "      <td>123.00</td>\n",
       "    </tr>\n",
       "    <tr>\n",
       "      <th>max</th>\n",
       "      <td>1000.00</td>\n",
       "      <td>99.00</td>\n",
       "      <td>210.00</td>\n",
       "      <td>150.00</td>\n",
       "    </tr>\n",
       "  </tbody>\n",
       "</table>\n",
       "</div>"
      ],
      "text/plain": [
       "       id_paciente  idade(anos)  altura(cm)  peso(kg)\n",
       "count      1000.00      1000.00     1000.00   1000.00\n",
       "mean        500.50        56.77      180.01     94.80\n",
       "std         288.82        23.46       17.58     31.76\n",
       "min           1.00        18.00      150.00     40.00\n",
       "25%         250.75        36.00      164.00     69.00\n",
       "50%         500.50        56.00      180.00     95.00\n",
       "75%         750.25        77.00      195.00    123.00\n",
       "max        1000.00        99.00      210.00    150.00"
      ]
     },
     "execution_count": 19,
     "metadata": {},
     "output_type": "execute_result"
    }
   ],
   "source": [
    "patient.describe()"
   ]
  },
  {
   "cell_type": "code",
   "execution_count": 25,
   "id": "c5c94cd8",
   "metadata": {},
   "outputs": [
    {
     "data": {
      "text/plain": [
       "id_paciente       Axes(0.125,0.11;0.168478x0.77)\n",
       "idade(anos)    Axes(0.327174,0.11;0.168478x0.77)\n",
       "altura(cm)     Axes(0.529348,0.11;0.168478x0.77)\n",
       "peso(kg)       Axes(0.731522,0.11;0.168478x0.77)\n",
       "dtype: object"
      ]
     },
     "execution_count": 25,
     "metadata": {},
     "output_type": "execute_result"
    },
    {
     "data": {
      "image/png": "[encoded data removed]",
      "text/plain": [
       "<Figure size 1000x600 with 4 Axes>"
      ]
     },
     "metadata": {},
     "output_type": "display_data"
    }
   ],
   "source": [
    "patient.plot(kind = 'box', figsize = (10,6), subplots = True)"
   ]
  },
  {
   "cell_type": "markdown",
   "id": "2d1d1ce1",
   "metadata": {},
   "source": [
    "There is no outliers"
   ]
  },
  {
   "cell_type": "markdown",
   "id": "d8ecc3d5",
   "metadata": {},
   "source": [
    "### Ploting bar graphs and histogram"
   ]
  },
  {
   "cell_type": "code",
   "execution_count": 27,
   "id": "16a5a1db",
   "metadata": {},
   "outputs": [
    {
     "data": {
      "image/png": "[encoded data removed]",
      "text/plain": [
       "<Figure size 640x480 with 1 Axes>"
      ]
     },
     "metadata": {},
     "output_type": "display_data"
    }
   ],
   "source": [
    "patient['estado_civil'].value_counts().plot(kind='bar', color='skyblue', edgecolor='black')\n",
    "plt.title('Contagem dos Estados Civis dos Pacientes')\n",
    "plt.xlabel('Estado Civil')\n",
    "plt.ylabel('Quantidade')\n",
    "plt.xticks(rotation=0)\n",
    "plt.show()"
   ]
  },
  {
   "cell_type": "code",
   "execution_count": 30,
   "id": "43ba3cbf",
   "metadata": {},
   "outputs": [
    {
     "data": {
      "image/png": "[encoded data removed]",
      "text/plain": [
       "<Figure size 640x480 with 1 Axes>"
      ]
     },
     "metadata": {},
     "output_type": "display_data"
    }
   ],
   "source": [
    "patient['tipo_sanguineo'].value_counts().sort_values(ascending=True).plot(kind='barh', color='skyblue', edgecolor='black')\n",
    "plt.title('Contagem dos Estados Civis dos Pacientes')\n",
    "plt.xlabel('Quantidade')\n",
    "plt.ylabel('Tipo Sanguíneo')\n",
    "plt.xticks(rotation=0)\n",
    "plt.show()"
   ]
  },
  {
   "cell_type": "code",
   "execution_count": 32,
   "id": "55f7e33b",
   "metadata": {},
   "outputs": [
    {
     "data": {
      "image/png": "[encoded data removed]",
      "text/plain": [
       "<Figure size 640x480 with 1 Axes>"
      ]
     },
     "metadata": {},
     "output_type": "display_data"
    }
   ],
   "source": [
    "patient['idade(anos)'].hist()\n",
    "plt.title('Distribuição de Idades')\n",
    "plt.xlabel('Idade')\n",
    "plt.ylabel('Contagem de pacientes')\n",
    "plt.xticks(rotation=0)\n",
    "plt.show()"
   ]
  },
  {
   "cell_type": "code",
   "execution_count": 34,
   "id": "3cb7c286",
   "metadata": {},
   "outputs": [
    {
     "data": {
      "image/png": "[encoded data removed]",
      "text/plain": [
       "<Figure size 640x480 with 1 Axes>"
      ]
     },
     "metadata": {},
     "output_type": "display_data"
    }
   ],
   "source": [
    "patient['peso(kg)'].hist()\n",
    "plt.title('Distribuição de Peso')\n",
    "plt.xlabel('Peso')\n",
    "plt.ylabel('Contagem de pacientes')\n",
    "plt.xticks(rotation=0)\n",
    "plt.show()"
   ]
  },
  {
   "cell_type": "code",
   "execution_count": 35,
   "id": "435234a5",
   "metadata": {},
   "outputs": [
    {
     "data": {
      "image/png": "[encoded data removed]",
      "text/plain": [
       "<Figure size 640x480 with 1 Axes>"
      ]
     },
     "metadata": {},
     "output_type": "display_data"
    }
   ],
   "source": [
    "patient['altura(cm)'].hist()\n",
    "plt.title('Distribuição de Alturas')\n",
    "plt.xlabel('Altura')\n",
    "plt.ylabel('Contagem de pacientes')\n",
    "plt.xticks(rotation=0)\n",
    "plt.show()"
   ]
  },
  {
   "cell_type": "code",
   "execution_count": null,
   "id": "682fbc1b",
   "metadata": {},
   "outputs": [],
   "source": []
  }
 ],
 "metadata": {
  "kernelspec": {
   "display_name": "Python 3 (ipykernel)",
   "language": "python",
   "name": "python3"
  },
  "language_info": {
   "codemirror_mode": {
    "name": "ipython",
    "version": 3
   },
   "file_extension": ".py",
   "mimetype": "text/x-python",
   "name": "python",
   "nbconvert_exporter": "python",
   "pygments_lexer": "ipython3",
   "version": "3.9.13"
  }
 },
 "nbformat": 4,
 "nbformat_minor": 5
}
