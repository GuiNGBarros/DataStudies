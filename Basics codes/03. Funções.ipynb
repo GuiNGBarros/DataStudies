{
 "cells": [
  {
   "cell_type": "markdown",
   "id": "f6c1f4db",
   "metadata": {},
   "source": [
    "# Funções"
   ]
  },
  {
   "cell_type": "code",
   "execution_count": 1,
   "id": "ad4b955e",
   "metadata": {},
   "outputs": [
    {
     "name": "stdout",
     "output_type": "stream",
     "text": [
      "Hello World\n"
     ]
    }
   ],
   "source": [
    "print('Hello World')     # Isto é uma função built-in, interna."
   ]
  },
  {
   "cell_type": "code",
   "execution_count": 23,
   "id": "d5fe15a4",
   "metadata": {},
   "outputs": [],
   "source": [
    "# Definindo uma função\n",
    "\n",
    "def fun1():\n",
    "    print('Hello World')    # A função foi armazenada na memória, ela faz a mesma coisa que a de cima, mas foi definida por fun1"
   ]
  },
  {
   "cell_type": "code",
   "execution_count": 3,
   "id": "6d2944dd",
   "metadata": {},
   "outputs": [
    {
     "name": "stdout",
     "output_type": "stream",
     "text": [
      "Hello World\n"
     ]
    }
   ],
   "source": [
    "fun1()        #chamando a função"
   ]
  },
  {
   "cell_type": "code",
   "execution_count": 4,
   "id": "b5cd85e4",
   "metadata": {},
   "outputs": [],
   "source": [
    "# outro exemplo\n",
    "\n",
    "def fun2():\n",
    "    nome = input('escreva seu nome:')        # o nome será digitado e armazenado em 'nome'\n",
    "    print(f'Hello {nome}')                   # depois imprimirá na tela uma f-string com a mensagem \"Hello 'nome'\". \n",
    "                                             # O que foi descrito acima é a fun2 sendo armazenada. "
   ]
  },
  {
   "cell_type": "code",
   "execution_count": 5,
   "id": "a9c5b699",
   "metadata": {},
   "outputs": [
    {
     "name": "stdin",
     "output_type": "stream",
     "text": [
      "escreva seu nome: Gui\n"
     ]
    },
    {
     "name": "stdout",
     "output_type": "stream",
     "text": [
      "Hello Gui\n"
     ]
    }
   ],
   "source": [
    "fun2()                          # chamando a fun2"
   ]
  },
  {
   "cell_type": "code",
   "execution_count": 6,
   "id": "16df2333",
   "metadata": {},
   "outputs": [],
   "source": [
    "# um exemplo alternativo para o de cima\n",
    "\n",
    "def fun3(nome):                 # criando uma função com parâmetro 'nome'\n",
    "    print(f'Hello {nome}')      # depois imprimirá na tela uma f-string com a mensagem \"Hello 'nome'\""
   ]
  },
  {
   "cell_type": "code",
   "execution_count": 7,
   "id": "3f8d296f",
   "metadata": {},
   "outputs": [
    {
     "name": "stdout",
     "output_type": "stream",
     "text": [
      "Hello Gui\n"
     ]
    }
   ],
   "source": [
    "fun3('Gui')                     # chamando a fun3 com o parâmetro nome = 'Gui'"
   ]
  },
  {
   "cell_type": "code",
   "execution_count": 8,
   "id": "d05b8701-5ce8-477a-aeb4-3d8f6b6c7f7c",
   "metadata": {},
   "outputs": [],
   "source": [
    "def fun4(nome,idade):\n",
    "    print(f'Hello {nome}, you are {idade} years old.')"
   ]
  },
  {
   "cell_type": "code",
   "execution_count": 9,
   "id": "a20296ed-26c3-4123-8787-82ed89ffec77",
   "metadata": {},
   "outputs": [
    {
     "name": "stdout",
     "output_type": "stream",
     "text": [
      "Hello Guilherme, you are 31 years old.\n"
     ]
    }
   ],
   "source": [
    "fun4('Guilherme','31')"
   ]
  },
  {
   "cell_type": "code",
   "execution_count": 12,
   "id": "88d809f6",
   "metadata": {
    "tags": []
   },
   "outputs": [],
   "source": [
    "# Função para somar números\n",
    "\n",
    "def funsoma(x,y):      \n",
    "    return x + y       # criando uma função para retornar x, y e a soma de x e y"
   ]
  },
  {
   "cell_type": "code",
   "execution_count": 13,
   "id": "678cebe1",
   "metadata": {},
   "outputs": [
    {
     "name": "stdout",
     "output_type": "stream",
     "text": [
      "86\n"
     ]
    }
   ],
   "source": [
    "soma = funsoma(32,54)  \n",
    "print(soma) "
   ]
  },
  {
   "cell_type": "code",
   "execution_count": 14,
   "id": "4219a419-5028-4cc2-bcda-86255c5e2fcd",
   "metadata": {},
   "outputs": [],
   "source": [
    "def funsoma(x,y):      \n",
    "    return x,y,x + y "
   ]
  },
  {
   "cell_type": "code",
   "execution_count": 15,
   "id": "e028b189-9876-4a5e-842d-467f2db49137",
   "metadata": {},
   "outputs": [
    {
     "data": {
      "text/plain": [
       "(32, 54, 86)"
      ]
     },
     "execution_count": 15,
     "metadata": {},
     "output_type": "execute_result"
    }
   ],
   "source": [
    "funsoma(32,54)"
   ]
  },
  {
   "cell_type": "code",
   "execution_count": 16,
   "id": "7f1544fc-9b30-49bf-ad44-fbd9fcbb15f9",
   "metadata": {},
   "outputs": [
    {
     "name": "stdout",
     "output_type": "stream",
     "text": [
      "A soma de 32 com 54 é igual a 86\n"
     ]
    }
   ],
   "source": [
    "soma = funsoma(32,54)\n",
    "print(f'A soma de {soma[0]} com {soma[1]} é igual a {soma[2]}') "
   ]
  },
  {
   "cell_type": "code",
   "execution_count": 19,
   "id": "d5092d97",
   "metadata": {},
   "outputs": [
    {
     "name": "stdout",
     "output_type": "stream",
     "text": [
      "A soma de 10210 com 43434 é igual a 53644\n"
     ]
    }
   ],
   "source": [
    "soma2 = funsoma(10210,43434)                                # chamando a funsoma mais uma vez com novos parâmetros x e y especificados\n",
    "print(f'A soma de {soma2[0]} com {soma2[1]} é igual a {soma2[2]}')"
   ]
  },
  {
   "cell_type": "markdown",
   "id": "78ce4d72",
   "metadata": {},
   "source": [
    "# Escopo de variável - LOCAL E GLOBAL"
   ]
  },
  {
   "cell_type": "code",
   "execution_count": 30,
   "id": "5aa393ef",
   "metadata": {},
   "outputs": [],
   "source": [
    "a = 10    # neste caso, a é uma variável global. Em todo o programa, quando esta variavel for chamada, retornará o valor 10."
   ]
  },
  {
   "cell_type": "code",
   "execution_count": 31,
   "id": "45002d11",
   "metadata": {},
   "outputs": [],
   "source": [
    "def funmult(x,y):\n",
    "    a = x*y            # neste caso, a é uma variável local. Ela só assume a atribuição 'a = x*y' dentro de sua função 'funmult'\n",
    "    print(a)"
   ]
  },
  {
   "cell_type": "code",
   "execution_count": 26,
   "id": "aca7b28e",
   "metadata": {},
   "outputs": [],
   "source": [
    "# Vejamos sua diferença"
   ]
  },
  {
   "cell_type": "code",
   "execution_count": 32,
   "id": "73b12d6a",
   "metadata": {},
   "outputs": [
    {
     "name": "stdout",
     "output_type": "stream",
     "text": [
      "12\n"
     ]
    }
   ],
   "source": [
    "funmult(3,4)"
   ]
  },
  {
   "cell_type": "code",
   "execution_count": 35,
   "id": "9e2de21e",
   "metadata": {},
   "outputs": [
    {
     "name": "stdout",
     "output_type": "stream",
     "text": [
      "10\n"
     ]
    }
   ],
   "source": [
    "print(a)"
   ]
  },
  {
   "cell_type": "code",
   "execution_count": 38,
   "id": "ac06a3e7",
   "metadata": {},
   "outputs": [],
   "source": [
    "# É mais interessante evitar usar a mesma variável.\n",
    "# Ao refazer a funmult trocando a por b, e chamando b novamente, teremos uma mensagem de erro.\n",
    "\n",
    "def funmult(x,y):\n",
    "    b = x*y          \n",
    "    print(b)"
   ]
  },
  {
   "cell_type": "code",
   "execution_count": 39,
   "id": "2274e789",
   "metadata": {},
   "outputs": [
    {
     "ename": "NameError",
     "evalue": "name 'b' is not defined",
     "output_type": "error",
     "traceback": [
      "\u001b[1;31m---------------------------------------------------------------------------\u001b[0m",
      "\u001b[1;31mNameError\u001b[0m                                 Traceback (most recent call last)",
      "\u001b[1;32m~\\AppData\\Local\\Temp\\ipykernel_5656\\324135452.py\u001b[0m in \u001b[0;36m<module>\u001b[1;34m\u001b[0m\n\u001b[1;32m----> 1\u001b[1;33m \u001b[0mprint\u001b[0m\u001b[1;33m(\u001b[0m\u001b[0mb\u001b[0m\u001b[1;33m)\u001b[0m\u001b[1;33m\u001b[0m\u001b[1;33m\u001b[0m\u001b[0m\n\u001b[0m",
      "\u001b[1;31mNameError\u001b[0m: name 'b' is not defined"
     ]
    }
   ],
   "source": [
    "print(b)"
   ]
  },
  {
   "cell_type": "code",
   "execution_count": 42,
   "id": "15d75cf5",
   "metadata": {},
   "outputs": [],
   "source": [
    "# Fazendo split dos dados\n",
    "\n",
    "def funsplit(text):\n",
    "    return text.split(\" \")     # a função fatiará uma frase sempre que encontrar um espaço vazio"
   ]
  },
  {
   "cell_type": "code",
   "execution_count": 43,
   "id": "a4dbc69f",
   "metadata": {},
   "outputs": [
    {
     "name": "stdout",
     "output_type": "stream",
     "text": [
      "['Esta', 'função', 'será', 'bastante', 'útil', 'para', 'separar', 'grandes', 'volumes', 'de', 'dados']\n"
     ]
    }
   ],
   "source": [
    "print(funsplit('Esta função será bastante útil para separar grandes volumes de dados'))"
   ]
  },
  {
   "cell_type": "markdown",
   "id": "9bfea3df",
   "metadata": {},
   "source": [
    "## List Comprehension"
   ]
  },
  {
   "cell_type": "code",
   "execution_count": 1,
   "id": "99bdd6f1-2786-4d18-86ad-cbcb604dbbba",
   "metadata": {
    "tags": []
   },
   "outputs": [
    {
     "name": "stdout",
     "output_type": "stream",
     "text": [
      "[0, 1, 2, 3, 4, 5, 6, 7, 8, 9]\n",
      "[0, 1, 2, 3, 4, 5, 6, 7, 8, 9]\n"
     ]
    }
   ],
   "source": [
    "valores = list(range(0,10))\n",
    "\n",
    "lista = []\n",
    "for x in valores:\n",
    "    lista.append(x)\n",
    "    \n",
    "print(valores)\n",
    "print(lista)"
   ]
  },
  {
   "cell_type": "code",
   "execution_count": 2,
   "id": "4fd9860e",
   "metadata": {},
   "outputs": [
    {
     "name": "stdout",
     "output_type": "stream",
     "text": [
      "[0, 1, 2, 3, 4, 5, 6, 7, 8, 9]\n"
     ]
    }
   ],
   "source": [
    "lista = [x for x in range(0,10)]  # para x dentro do intervalo entre 0 a 10 (exclusive), retorne cada x em uma lista.\n",
    "\n",
    "print(lista)"
   ]
  },
  {
   "cell_type": "code",
   "execution_count": 3,
   "id": "c2a2c95e-8fbe-4662-a7c0-571bd931eca0",
   "metadata": {},
   "outputs": [
    {
     "name": "stdout",
     "output_type": "stream",
     "text": [
      "[0, 1, 2, 3, 4, 5, 6, 7, 8, 9, 10, 11, 12, 13, 14, 15, 16, 17, 18, 19, 20, 21, 22, 23, 24, 25, 26, 27, 28, 29, 30]\n",
      "[0, 3, 6, 9, 12, 15, 18, 21, 24, 27, 30]\n"
     ]
    }
   ],
   "source": [
    "valores = list(range(0,31))\n",
    "\n",
    "lista = []\n",
    "for x in valores:\n",
    "    if x % 3 == 0:\n",
    "        lista.append(x)\n",
    "\n",
    "print(valores)\n",
    "print(lista)"
   ]
  },
  {
   "cell_type": "code",
   "execution_count": 4,
   "id": "0a0b0563",
   "metadata": {},
   "outputs": [
    {
     "name": "stdout",
     "output_type": "stream",
     "text": [
      "[0, 3, 6, 9, 12, 15, 18, 21, 24, 27, 30]\n"
     ]
    }
   ],
   "source": [
    "lista = [\n",
    "          x \n",
    "          for x in range(0,31) \n",
    "          if x % 3 == 0]        # para x dentro do inte... ------- ..., com condicional.\n",
    "\n",
    "print(lista)"
   ]
  },
  {
   "cell_type": "code",
   "execution_count": 48,
   "id": "06d3f3d5",
   "metadata": {},
   "outputs": [],
   "source": [
    "originalist = [x for x in range(0,20)]\n",
    "newlist = []"
   ]
  },
  {
   "cell_type": "code",
   "execution_count": 49,
   "id": "04f58250",
   "metadata": {},
   "outputs": [
    {
     "data": {
      "text/plain": [
       "[0, 1, 2, 3, 4, 5, 6, 7, 8, 9, 10, 11, 12, 13, 14, 15, 16, 17, 18, 19]"
      ]
     },
     "execution_count": 49,
     "metadata": {},
     "output_type": "execute_result"
    }
   ],
   "source": [
    "originalist"
   ]
  },
  {
   "cell_type": "code",
   "execution_count": 50,
   "id": "08c0d02d",
   "metadata": {},
   "outputs": [
    {
     "data": {
      "text/plain": [
       "[]"
      ]
     },
     "execution_count": 50,
     "metadata": {},
     "output_type": "execute_result"
    }
   ],
   "source": [
    "newlist"
   ]
  },
  {
   "cell_type": "code",
   "execution_count": 51,
   "id": "f013c45c",
   "metadata": {},
   "outputs": [],
   "source": [
    "newlist = [x for x in originalist if x % 2 == 1]"
   ]
  },
  {
   "cell_type": "code",
   "execution_count": 52,
   "id": "5d5d7ea1",
   "metadata": {},
   "outputs": [
    {
     "data": {
      "text/plain": [
       "[1, 3, 5, 7, 9, 11, 13, 15, 17, 19]"
      ]
     },
     "execution_count": 52,
     "metadata": {},
     "output_type": "execute_result"
    }
   ],
   "source": [
    "newlist"
   ]
  },
  {
   "cell_type": "markdown",
   "id": "ec2187bd",
   "metadata": {},
   "source": [
    "## Função MAP\n",
    "\n",
    "A Função map() em Python é uma função que aplica uma determinada função a cada elemento de uma estrutura de dados iterável (como uma lista, tupla ou outro objeto iterável). A função map() retorna um objeto que pode ser convertido em outra estrutura de dados, como uma lista, se necessário."
   ]
  },
  {
   "cell_type": "code",
   "execution_count": 1,
   "id": "1dfe3010",
   "metadata": {},
   "outputs": [],
   "source": [
    "# Função built-in em Python que retorna um número ao quadrado\n",
    "def potencia(x):\n",
    "    return x**2"
   ]
  },
  {
   "cell_type": "code",
   "execution_count": 3,
   "id": "14b1a00d",
   "metadata": {},
   "outputs": [],
   "source": [
    "numeros = [1,2,4,5,10,100]"
   ]
  },
  {
   "cell_type": "code",
   "execution_count": 6,
   "id": "88f1e741",
   "metadata": {},
   "outputs": [
    {
     "data": {
      "text/plain": [
       "[1, 4, 16, 25, 100, 10000]"
      ]
     },
     "execution_count": 6,
     "metadata": {},
     "output_type": "execute_result"
    }
   ],
   "source": [
    "list(map(potencia,numeros))"
   ]
  },
  {
   "cell_type": "code",
   "execution_count": 11,
   "id": "751472eb",
   "metadata": {},
   "outputs": [],
   "source": [
    " # Criando duas funções\n",
    "    \n",
    "# Função 1 - Recebe o valor de moeda em reais e retorna em dólar\n",
    "def dolar(m):\n",
    "    return float(m/5.57)\n",
    "    \n",
    "# Função 2 - Recebe o valor de moeda em dólar e retorna em reais\n",
    "def real(m):\n",
    "    return float(5.57*m)\n",
    "    "
   ]
  },
  {
   "cell_type": "code",
   "execution_count": 12,
   "id": "4ada80ee",
   "metadata": {},
   "outputs": [],
   "source": [
    "dinheiros = [0, 1 , 2.25, 5.57, 50.5, 100]"
   ]
  },
  {
   "cell_type": "code",
   "execution_count": 13,
   "id": "b4a1a6a2",
   "metadata": {},
   "outputs": [
    {
     "data": {
      "text/plain": [
       "[0.0,\n",
       " 0.17953321364452424,\n",
       " 0.40394973070017953,\n",
       " 1.0,\n",
       " 9.066427289048473,\n",
       " 17.953321364452425]"
      ]
     },
     "execution_count": 13,
     "metadata": {},
     "output_type": "execute_result"
    }
   ],
   "source": [
    "# Função map() retornando a lista de valores convertidos em dolar\n",
    "list(map(dolar,dinheiros))"
   ]
  },
  {
   "cell_type": "code",
   "execution_count": 14,
   "id": "aa8bb61b",
   "metadata": {},
   "outputs": [
    {
     "name": "stdout",
     "output_type": "stream",
     "text": [
      "0.0\n",
      "0.17953321364452424\n",
      "0.40394973070017953\n",
      "1.0\n",
      "9.066427289048473\n",
      "17.953321364452425\n"
     ]
    }
   ],
   "source": [
    "# Usando um loop for para imprimir o resultado da função map()\n",
    "\n",
    "for n in map(dolar,dinheiros):\n",
    "    print(n)"
   ]
  },
  {
   "cell_type": "code",
   "execution_count": 15,
   "id": "a4320bf0",
   "metadata": {},
   "outputs": [
    {
     "data": {
      "text/plain": [
       "[0.0, 5.57, 12.5325, 31.024900000000002, 281.285, 557.0]"
      ]
     },
     "execution_count": 15,
     "metadata": {},
     "output_type": "execute_result"
    }
   ],
   "source": [
    "# Convertendo para reais\n",
    "list(map(real,dinheiros))"
   ]
  },
  {
   "cell_type": "code",
   "execution_count": 16,
   "id": "333a53da",
   "metadata": {},
   "outputs": [],
   "source": [
    "# Podemos, finalmente, usar a função 'lambda' para utilizar a função map sem pré definir uma função que será utilizada pelo map()\n",
    "\n",
    "a = [1,2,3,4]\n",
    "b = [5,6,7,8]\n",
    "c = [9,10,11,12]"
   ]
  },
  {
   "cell_type": "code",
   "execution_count": 17,
   "id": "63cc93bd",
   "metadata": {},
   "outputs": [
    {
     "data": {
      "text/plain": [
       "[15, 18, 21, 24]"
      ]
     },
     "execution_count": 17,
     "metadata": {},
     "output_type": "execute_result"
    }
   ],
   "source": [
    "list(map(lambda x,y,z: x + y + z, a,b,c))"
   ]
  },
  {
   "cell_type": "markdown",
   "id": "f0107f69",
   "metadata": {},
   "source": [
    "## Função Reduce\n",
    "\n",
    "A função reduce() em Python é uma função da biblioteca functools que aplica uma determinada função binária a pares consecutivos de elementos em uma estrutura de dados iterável (como uma lista, tupla ou outro objeto iterável), reduzindo-a a um único valor."
   ]
  },
  {
   "cell_type": "code",
   "execution_count": 20,
   "id": "387a9aee",
   "metadata": {},
   "outputs": [],
   "source": [
    "from functools import reduce"
   ]
  },
  {
   "cell_type": "code",
   "execution_count": 21,
   "id": "45b26c17",
   "metadata": {},
   "outputs": [],
   "source": [
    "# Criando uma lista\n",
    "listared = [2,4,6,8]"
   ]
  },
  {
   "cell_type": "code",
   "execution_count": 22,
   "id": "64fe6d23",
   "metadata": {},
   "outputs": [],
   "source": [
    "# Função soma\n",
    "def soma(a,b):\n",
    "    x = a + b\n",
    "    return x"
   ]
  },
  {
   "cell_type": "code",
   "execution_count": 23,
   "id": "106a374d",
   "metadata": {},
   "outputs": [
    {
     "data": {
      "text/plain": [
       "20"
      ]
     },
     "execution_count": 23,
     "metadata": {},
     "output_type": "execute_result"
    }
   ],
   "source": [
    "# Usando reduce com a função soma e a lista. A função vai retornar o valor máximo em soma\n",
    "reduce(soma,listared)"
   ]
  },
  {
   "cell_type": "code",
   "execution_count": 24,
   "id": "5a8093cd",
   "metadata": {},
   "outputs": [],
   "source": [
    "# Função multiplicação\n",
    "def mult(a,b):\n",
    "    x = a*b\n",
    "    return x"
   ]
  },
  {
   "cell_type": "code",
   "execution_count": 25,
   "id": "972b6d0a",
   "metadata": {},
   "outputs": [
    {
     "data": {
      "text/plain": [
       "384"
      ]
     },
     "execution_count": 25,
     "metadata": {},
     "output_type": "execute_result"
    }
   ],
   "source": [
    "# Usando reduce com a função multiplicação e a lista. A função vai retornar o valor máximo em produto\n",
    "reduce(mult,listared)"
   ]
  },
  {
   "cell_type": "code",
   "execution_count": 26,
   "id": "f3f040dd",
   "metadata": {},
   "outputs": [],
   "source": [
    "# Da mesma forma, podemos criar uma função anônima (lambda) sem a necessidade de pré definir funções."
   ]
  },
  {
   "cell_type": "markdown",
   "id": "5816ebf3",
   "metadata": {},
   "source": [
    "## Função Filter\n",
    "\n",
    "A função filter() em Python é uma função que filtra elementos de uma estrutura de dados iterável (como uma lista, tupla ou outro objeto iterável) com base em uma determinada condição. A função filter() retorna um objeto filtro, que pode ser convertido em outra estrutura de dados, como uma lista, se necessário.\n",
    "\n"
   ]
  },
  {
   "cell_type": "code",
   "execution_count": 27,
   "id": "e13bddad",
   "metadata": {},
   "outputs": [],
   "source": [
    "# Criando uma função\n",
    "\n",
    "def verificaPar(n):\n",
    "    if n % 2 == 0:\n",
    "        return True\n",
    "    else:\n",
    "        return False"
   ]
  },
  {
   "cell_type": "code",
   "execution_count": 28,
   "id": "6a41e6b3",
   "metadata": {},
   "outputs": [
    {
     "data": {
      "text/plain": [
       "False"
      ]
     },
     "execution_count": 28,
     "metadata": {},
     "output_type": "execute_result"
    }
   ],
   "source": [
    "# Ao chamar a função com um parâmetro especificado, retornará False se for impar e True se for par.\n",
    "verificaPar(101)"
   ]
  },
  {
   "cell_type": "code",
   "execution_count": 29,
   "id": "a3e34fa8",
   "metadata": {},
   "outputs": [
    {
     "data": {
      "text/plain": [
       "True"
      ]
     },
     "execution_count": 29,
     "metadata": {},
     "output_type": "execute_result"
    }
   ],
   "source": [
    "verificaPar(52)"
   ]
  },
  {
   "cell_type": "code",
   "execution_count": 30,
   "id": "ff87fd45",
   "metadata": {},
   "outputs": [],
   "source": [
    "listaverificaPar = [0, 35, 3, 55, 100, 12, 4, 1]"
   ]
  },
  {
   "cell_type": "code",
   "execution_count": 31,
   "id": "e9e6cc7c",
   "metadata": {},
   "outputs": [
    {
     "data": {
      "text/plain": [
       "[0, 100, 12, 4]"
      ]
     },
     "execution_count": 31,
     "metadata": {},
     "output_type": "execute_result"
    }
   ],
   "source": [
    "list(filter(verificaPar,listaverificaPar))      # A função filter filtra todos os elementos de uma lista dada uma propriedade"
   ]
  },
  {
   "cell_type": "code",
   "execution_count": 33,
   "id": "2d30270d",
   "metadata": {},
   "outputs": [
    {
     "data": {
      "text/plain": [
       "[0, 100, 12, 4]"
      ]
     },
     "execution_count": 33,
     "metadata": {},
     "output_type": "execute_result"
    }
   ],
   "source": [
    "# Novamente, podemos usar a função anônima (lambda) evitando uma função pré definida \n",
    "\n",
    "list(filter(lambda x: x%2==0, listaverificaPar))"
   ]
  },
  {
   "cell_type": "code",
   "execution_count": 34,
   "id": "0d558774",
   "metadata": {},
   "outputs": [
    {
     "data": {
      "text/plain": [
       "[35, 55, 100]"
      ]
     },
     "execution_count": 34,
     "metadata": {},
     "output_type": "execute_result"
    }
   ],
   "source": [
    "# Outro exemplo utilizando a regra: num > 20\n",
    "\n",
    "list(filter(lambda x: x > 20, listaverificaPar))"
   ]
  },
  {
   "cell_type": "markdown",
   "id": "3637be14",
   "metadata": {},
   "source": [
    "## Função Zip\n",
    "\n",
    "A função zip() em Python é uma função que agrupa elementos de múltiplas estruturas de dados iteráveis (como listas, tuplas ou outros objetos iteráveis) juntos em pares. A função zip() retorna um objeto zip, que pode ser convertido em outra estrutura de dados, como uma lista ou dicionário, se necessário."
   ]
  },
  {
   "cell_type": "code",
   "execution_count": 37,
   "id": "3c6fead0",
   "metadata": {},
   "outputs": [],
   "source": [
    "# Criando duas listas\n",
    "\n",
    "x = [1,2,3]\n",
    "y = [4,5,6]\n",
    "z = [7,8,9,10]"
   ]
  },
  {
   "cell_type": "code",
   "execution_count": 38,
   "id": "88d3ddad",
   "metadata": {},
   "outputs": [
    {
     "data": {
      "text/plain": [
       "[(1, 4), (2, 5), (3, 6)]"
      ]
     },
     "execution_count": 38,
     "metadata": {},
     "output_type": "execute_result"
    }
   ],
   "source": [
    "# Perceba que a função zip() retorna tuplas. Neste caso, uma lista de tuplas\n",
    "\n",
    "list(zip(x,y))"
   ]
  },
  {
   "cell_type": "code",
   "execution_count": 39,
   "id": "f955f049",
   "metadata": {},
   "outputs": [
    {
     "data": {
      "text/plain": [
       "[(1, 7), (2, 8), (3, 9)]"
      ]
     },
     "execution_count": 39,
     "metadata": {},
     "output_type": "execute_result"
    }
   ],
   "source": [
    "# Atenção quando as sequências tiverem número diferente de elementos\n",
    "\n",
    "list(zip(x,z))"
   ]
  },
  {
   "cell_type": "code",
   "execution_count": 40,
   "id": "d383d204",
   "metadata": {},
   "outputs": [],
   "source": [
    "# Criando 2 dicionários\n",
    "\n",
    "d1 = {'a':1 , 'b':2}\n",
    "d2 = {'c':3 , 'd':4}"
   ]
  },
  {
   "cell_type": "code",
   "execution_count": 41,
   "id": "a161dec1",
   "metadata": {},
   "outputs": [
    {
     "data": {
      "text/plain": [
       "[('a', 'c'), ('b', 'd')]"
      ]
     },
     "execution_count": 41,
     "metadata": {},
     "output_type": "execute_result"
    }
   ],
   "source": [
    "# A função zip vai unir as chaves\n",
    "\n",
    "list(zip(d1,d2))"
   ]
  },
  {
   "cell_type": "code",
   "execution_count": 43,
   "id": "434e3c18",
   "metadata": {},
   "outputs": [
    {
     "data": {
      "text/plain": [
       "{'a': 3, 'b': 4}"
      ]
     },
     "execution_count": 43,
     "metadata": {},
     "output_type": "execute_result"
    }
   ],
   "source": [
    "# Podemos usar a função zip para unir chave de um dicionário com valor de outro dicionário\n",
    "\n",
    "dict(zip(d1,d2.values()))"
   ]
  },
  {
   "cell_type": "markdown",
   "id": "e27410dd",
   "metadata": {},
   "source": [
    "## Função Enumerate\n",
    "\n",
    "A função enumerate() em Python é uma função que permite iterar sobre uma estrutura de dados (como uma lista, tupla ou outro objeto iterável). A função enumerate() retorna um objeto enumerado, que pode ser usado em loops para percorrer a estrutura de dados e acessar o contador e o valor de cada elemento."
   ]
  },
  {
   "cell_type": "code",
   "execution_count": 44,
   "id": "5fd004a8",
   "metadata": {},
   "outputs": [],
   "source": [
    "# Criando uma lista \n",
    "\n",
    "seq = ['a','b','c']"
   ]
  },
  {
   "cell_type": "code",
   "execution_count": 49,
   "id": "1fcf548f",
   "metadata": {},
   "outputs": [
    {
     "data": {
      "text/plain": [
       "[(0, 'a'), (1, 'b'), (2, 'c')]"
      ]
     },
     "execution_count": 49,
     "metadata": {},
     "output_type": "execute_result"
    }
   ],
   "source": [
    "list(enumerate(seq))"
   ]
  },
  {
   "cell_type": "code",
   "execution_count": 50,
   "id": "19f3a26d",
   "metadata": {},
   "outputs": [
    {
     "name": "stdout",
     "output_type": "stream",
     "text": [
      "0 a\n",
      "1 b\n",
      "2 c\n"
     ]
    }
   ],
   "source": [
    "for i,v in enumerate(seq):\n",
    "    print(i,v)"
   ]
  },
  {
   "cell_type": "code",
   "execution_count": 51,
   "id": "cf0b887f",
   "metadata": {},
   "outputs": [],
   "source": [
    "lista = ['Noise Supressor', 'Compressor Sustainer', 'Super OverDrive']"
   ]
  },
  {
   "cell_type": "code",
   "execution_count": 54,
   "id": "81583c8c",
   "metadata": {},
   "outputs": [
    {
     "name": "stdout",
     "output_type": "stream",
     "text": [
      "1 Noise Supressor\n",
      "2 Compressor Sustainer\n",
      "3 Super OverDrive\n"
     ]
    }
   ],
   "source": [
    "for i, item in enumerate(lista):\n",
    "    print(i+1,item)"
   ]
  },
  {
   "cell_type": "code",
   "execution_count": null,
   "id": "d38455b1",
   "metadata": {},
   "outputs": [],
   "source": []
  }
 ],
 "metadata": {
  "kernelspec": {
   "display_name": "Python 3 (ipykernel)",
   "language": "python",
   "name": "python3"
  },
  "language_info": {
   "codemirror_mode": {
    "name": "ipython",
    "version": 3
   },
   "file_extension": ".py",
   "mimetype": "text/x-python",
   "name": "python",
   "nbconvert_exporter": "python",
   "pygments_lexer": "ipython3",
   "version": "3.9.13"
  }
 },
 "nbformat": 4,
 "nbformat_minor": 5
}
