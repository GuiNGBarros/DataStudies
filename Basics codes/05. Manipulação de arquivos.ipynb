{
 "cells": [
  {
   "cell_type": "markdown",
   "id": "08e16611",
   "metadata": {},
   "source": [
    "## Modo leitura de arquivos"
   ]
  },
  {
   "cell_type": "code",
   "execution_count": 4,
   "id": "7a7bfd4e",
   "metadata": {},
   "outputs": [],
   "source": [
    "arq1 = open(\"arquivos/teste.txt\", \"r\")    # r = (read) arquivo aberto em modo leitura"
   ]
  },
  {
   "cell_type": "code",
   "execution_count": 5,
   "id": "df8a1b52",
   "metadata": {},
   "outputs": [
    {
     "data": {
      "text/plain": [
       "_io.TextIOWrapper"
      ]
     },
     "execution_count": 5,
     "metadata": {},
     "output_type": "execute_result"
    }
   ],
   "source": [
    "type(arq1)"
   ]
  },
  {
   "cell_type": "code",
   "execution_count": 6,
   "id": "ecc4e51c",
   "metadata": {},
   "outputs": [
    {
     "name": "stdout",
     "output_type": "stream",
     "text": [
      "Me chamo Guilherme\n",
      "\n"
     ]
    }
   ],
   "source": [
    "print(arq1.read())"
   ]
  },
  {
   "cell_type": "code",
   "execution_count": 7,
   "id": "929bf2be",
   "metadata": {},
   "outputs": [
    {
     "name": "stdout",
     "output_type": "stream",
     "text": [
      "20\n"
     ]
    }
   ],
   "source": [
    "print(arq1.tell())   # contagem do número de caracteres"
   ]
  },
  {
   "cell_type": "code",
   "execution_count": 8,
   "id": "3ea8c299",
   "metadata": {},
   "outputs": [
    {
     "name": "stdout",
     "output_type": "stream",
     "text": [
      "\n"
     ]
    }
   ],
   "source": [
    "# lendo o arquivo novamente\",\n",
    "    \n",
    "print(arq1.read())"
   ]
  },
  {
   "cell_type": "code",
   "execution_count": 9,
   "id": "52103da5",
   "metadata": {},
   "outputs": [
    {
     "name": "stdout",
     "output_type": "stream",
     "text": [
      "0\n"
     ]
    }
   ],
   "source": [
    "# retornar para o início do arquivo\\n\",\n",
    "print(arq1.seek(0,0))"
   ]
  },
  {
   "cell_type": "code",
   "execution_count": 10,
   "id": "3beec643",
   "metadata": {},
   "outputs": [
    {
     "name": "stdout",
     "output_type": "stream",
     "text": [
      "Me chamo Guilherme\n",
      "\n"
     ]
    }
   ],
   "source": [
    "# lendo o arquivo novamente\\n\",\n",
    "print(arq1.read())"
   ]
  },
  {
   "cell_type": "markdown",
   "id": "43f25d4b",
   "metadata": {},
   "source": [
    "## Modo escrita de arquivos"
   ]
  },
  {
   "cell_type": "code",
   "execution_count": 11,
   "id": "852aef70",
   "metadata": {},
   "outputs": [],
   "source": [
    "arq2 = open(\"arquivos/teste2.txt\", \"w\")   # w = (write) arquivo aberto em modo escrita\n",
    "                                          # este arquivo 'teste2' foi criado automaticamente, caso já exista, será sobrescrito."
   ]
  },
  {
   "cell_type": "code",
   "execution_count": 12,
   "id": "92cedf03",
   "metadata": {},
   "outputs": [
    {
     "data": {
      "text/plain": [
       "24"
      ]
     },
     "execution_count": 12,
     "metadata": {},
     "output_type": "execute_result"
    }
   ],
   "source": [
    "arq2.write(\"Estou aprendendo Python.\")"
   ]
  },
  {
   "cell_type": "code",
   "execution_count": 13,
   "id": "24edee5d",
   "metadata": {},
   "outputs": [],
   "source": [
    "arq2.close()                    # para fazer a gravação necessita fechar o arquivo."
   ]
  },
  {
   "cell_type": "code",
   "execution_count": 14,
   "id": "daf776dc",
   "metadata": {},
   "outputs": [],
   "source": [
    "arq2 = open(\"arquivos/teste2.txt\", \"r\")      #abrindo para leitura"
   ]
  },
  {
   "cell_type": "code",
   "execution_count": 15,
   "id": "eae8350c",
   "metadata": {},
   "outputs": [
    {
     "name": "stdout",
     "output_type": "stream",
     "text": [
      "Estou aprendendo Python.\n"
     ]
    }
   ],
   "source": [
    "print(arq2.read())"
   ]
  },
  {
   "cell_type": "code",
   "execution_count": 16,
   "id": "d069f956",
   "metadata": {},
   "outputs": [],
   "source": [
    "arq2 = open(\"arquivos/teste2.txt\", \"a\")   # a = (append) arquivo aberto em modo escrita (acrescentar, sem sobrescrever)"
   ]
  },
  {
   "cell_type": "code",
   "execution_count": 17,
   "id": "ce1172ec",
   "metadata": {},
   "outputs": [
    {
     "data": {
      "text/plain": [
       "24"
      ]
     },
     "execution_count": 17,
     "metadata": {},
     "output_type": "execute_result"
    }
   ],
   "source": [
    "arq2.write(\" E está muito divertido!\")"
   ]
  },
  {
   "cell_type": "code",
   "execution_count": 18,
   "id": "ea1299fc",
   "metadata": {},
   "outputs": [],
   "source": [
    "arq2.close()"
   ]
  },
  {
   "cell_type": "code",
   "execution_count": 19,
   "id": "7e8abee4",
   "metadata": {},
   "outputs": [],
   "source": [
    "arq2 = open(\"arquivos/teste2.txt\", \"r\")"
   ]
  },
  {
   "cell_type": "code",
   "execution_count": 20,
   "id": "71395b3c",
   "metadata": {},
   "outputs": [
    {
     "name": "stdout",
     "output_type": "stream",
     "text": [
      "Estou aprendendo Python. E está muito divertido!\n"
     ]
    }
   ],
   "source": [
    "print(arq2.read())"
   ]
  },
  {
   "cell_type": "markdown",
   "id": "b52a8321",
   "metadata": {},
   "source": [
    "## Abrindo Dataset\n"
   ]
  },
  {
   "cell_type": "code",
   "execution_count": 38,
   "id": "f19745fa",
   "metadata": {},
   "outputs": [],
   "source": [
    "f = open(\"arquivos/transposta.csv\",\"r\", encoding = \"utf8\")"
   ]
  },
  {
   "cell_type": "code",
   "execution_count": 39,
   "id": "3ce147f7",
   "metadata": {},
   "outputs": [],
   "source": [
    "data = f.read()"
   ]
  },
  {
   "cell_type": "code",
   "execution_count": 40,
   "id": "74241bbb",
   "metadata": {},
   "outputs": [],
   "source": [
    "rows = data.split('\\n')       # dividir o arquivo em lista, cada elemento dessa lista será separado por ENTER ('\\n')"
   ]
  },
  {
   "cell_type": "code",
   "execution_count": 41,
   "id": "4d503d98",
   "metadata": {},
   "outputs": [
    {
     "name": "stdout",
     "output_type": "stream",
     "text": [
      "['(0,0);(0,1);(0,2);(0,3);(0,4);(0,5);(0,6);(0,7);(0,8);(0,9)', '(1,0);(1,1);(1,2);(1,3);(1,4);(1,5);(1,6);(1,7);(1,8);(1,9)', '(2,0);(2,1);(2,2);(2,3);(2,4);(2,5);(2,6);(2,7);(2,8);(2,9)', '(3,0);(3,1);(3,2);(3,3);(3,4);(3,5);(3,6);(3,7);(3,8);(3,9)', '(4,0);(4,1);(4,2);(4,3);(4,4);(4,5);(4,6);(4,7);(4,8);(4,9)', '(5,0);(5,1);(5,2);(5,3);(5,4);(5,5);(5,6);(5,7);(5,8);(5,9)', '(6,0);(6,1);(6,2);(6,3);(6,4);(6,5);(6,6);(6,7);(6,8);(6,9)', '(7,0);(7,1);(7,2);(7,3);(7,4);(7,5);(7,6);(7,7);(7,8);(7,9)', '(8,0);(8,1);(8,2);(8,3);(8,4);(8,5);(8,6);(8,7);(8,8);(8,9)', '(9,0);(9,1);(9,2);(9,3);(9,4);(9,5);(9,6);(9,7);(9,8);(9,9)', '', '', '']\n"
     ]
    }
   ],
   "source": [
    "print(rows)"
   ]
  },
  {
   "cell_type": "code",
   "execution_count": 25,
   "id": "8ba54fe2",
   "metadata": {},
   "outputs": [],
   "source": [
    "full_data = []"
   ]
  },
  {
   "cell_type": "code",
   "execution_count": 26,
   "id": "2e919b91",
   "metadata": {},
   "outputs": [],
   "source": [
    "for row in rows:\n",
    "    split_row = row.split(\";\")\n",
    "    full_data.append(split_row)"
   ]
  },
  {
   "cell_type": "code",
   "execution_count": 27,
   "id": "92600944",
   "metadata": {},
   "outputs": [
    {
     "name": "stdout",
     "output_type": "stream",
     "text": [
      "[['(0,0)', '(0,1)', '(0,2)', '(0,3)', '(0,4)', '(0,5)', '(0,6)', '(0,7)', '(0,8)', '(0,9)'], ['(1,0)', '(1,1)', '(1,2)', '(1,3)', '(1,4)', '(1,5)', '(1,6)', '(1,7)', '(1,8)', '(1,9)'], ['(2,0)', '(2,1)', '(2,2)', '(2,3)', '(2,4)', '(2,5)', '(2,6)', '(2,7)', '(2,8)', '(2,9)'], ['(3,0)', '(3,1)', '(3,2)', '(3,3)', '(3,4)', '(3,5)', '(3,6)', '(3,7)', '(3,8)', '(3,9)'], ['(4,0)', '(4,1)', '(4,2)', '(4,3)', '(4,4)', '(4,5)', '(4,6)', '(4,7)', '(4,8)', '(4,9)'], ['(5,0)', '(5,1)', '(5,2)', '(5,3)', '(5,4)', '(5,5)', '(5,6)', '(5,7)', '(5,8)', '(5,9)'], ['(6,0)', '(6,1)', '(6,2)', '(6,3)', '(6,4)', '(6,5)', '(6,6)', '(6,7)', '(6,8)', '(6,9)'], ['(7,0)', '(7,1)', '(7,2)', '(7,3)', '(7,4)', '(7,5)', '(7,6)', '(7,7)', '(7,8)', '(7,9)'], ['(8,0)', '(8,1)', '(8,2)', '(8,3)', '(8,4)', '(8,5)', '(8,6)', '(8,7)', '(8,8)', '(8,9)'], ['(9,0)', '(9,1)', '(9,2)', '(9,3)', '(9,4)', '(9,5)', '(9,6)', '(9,7)', '(9,8)', '(9,9)'], [''], [''], ['']]\n"
     ]
    }
   ],
   "source": [
    "print(full_data)"
   ]
  },
  {
   "cell_type": "code",
   "execution_count": 28,
   "id": "3be236be",
   "metadata": {},
   "outputs": [],
   "source": [
    "# Contando o número de linhas \n",
    "\n",
    "count = 0\n",
    "for row in full_data:\n",
    "    count +=1"
   ]
  },
  {
   "cell_type": "code",
   "execution_count": 29,
   "id": "4573d593",
   "metadata": {},
   "outputs": [
    {
     "name": "stdout",
     "output_type": "stream",
     "text": [
      "13\n"
     ]
    }
   ],
   "source": [
    "print(count)"
   ]
  },
  {
   "cell_type": "code",
   "execution_count": 30,
   "id": "e421c208",
   "metadata": {},
   "outputs": [],
   "source": [
    "# Contando o número de colunas\n",
    "\n",
    "countcol = 0 \n",
    "for column in full_data[0]:\n",
    "    countcol +=1"
   ]
  },
  {
   "cell_type": "code",
   "execution_count": 31,
   "id": "d1f6abf1",
   "metadata": {},
   "outputs": [
    {
     "name": "stdout",
     "output_type": "stream",
     "text": [
      "10\n"
     ]
    }
   ],
   "source": [
    "print(countcol)"
   ]
  },
  {
   "cell_type": "markdown",
   "id": "3ee37957",
   "metadata": {},
   "source": [
    "# Manipulando Arquivos TXT\n",
    "   \n",
    "   \n",
    "  TXT é a extensão de arquivo para arquivos de texto puro. Um arquivo TXT é um arquivo de texto simples sem formatação, como negrito, itálico ou fontes diferentes. Ele pode ser aberto e editado com muitos aplicativos diferentes, incluindo editores de texto, processadores de texto e IDEs. Arquivos TXT são amplamente utilizados para armazenar dados de texto simples, como listas, notas e documentos de texto. Eles são universais e podem ser lidos em praticamente qualquer dispositivo ou sistema operacional."
   ]
  },
  {
   "cell_type": "code",
   "execution_count": 3,
   "id": "cf8f54b5",
   "metadata": {},
   "outputs": [],
   "source": [
    "texto = '1 + 1 = 2 \\n'\n",
    "texto = texto + 'Isto é uma operação de soma \\n'\n",
    "texto += 'E pode ser realizada no corpo dos naturais.'"
   ]
  },
  {
   "cell_type": "code",
   "execution_count": 4,
   "id": "dfd978f8",
   "metadata": {},
   "outputs": [
    {
     "name": "stdout",
     "output_type": "stream",
     "text": [
      "1 + 1 = 2 \n",
      "Isto é uma operação de soma \n",
      "E pode ser realizada no corpo dos naturais.\n"
     ]
    }
   ],
   "source": [
    "print(texto)"
   ]
  },
  {
   "cell_type": "code",
   "execution_count": 5,
   "id": "e4be633d",
   "metadata": {},
   "outputs": [],
   "source": [
    "import os    # importando o módulo os (operate system)"
   ]
  },
  {
   "cell_type": "code",
   "execution_count": 11,
   "id": "d0685fd8",
   "metadata": {},
   "outputs": [],
   "source": [
    "arqx = open(os.path.join('arquivos/numeros.txt'), 'w')    #criando arquivo"
   ]
  },
  {
   "cell_type": "code",
   "execution_count": 12,
   "id": "3bc87d4d",
   "metadata": {},
   "outputs": [],
   "source": [
    "for x in texto.split():                 # gravando dados no arquivo\n",
    "    arqx.write(x + ' ')"
   ]
  },
  {
   "cell_type": "code",
   "execution_count": 13,
   "id": "a679998a",
   "metadata": {},
   "outputs": [],
   "source": [
    "arqx.close()"
   ]
  },
  {
   "cell_type": "code",
   "execution_count": 14,
   "id": "fbf7980b",
   "metadata": {},
   "outputs": [
    {
     "name": "stdout",
     "output_type": "stream",
     "text": [
      "1 + 1 = 2 Isto é uma operação de soma E pode ser realizada no corpo dos naturais. \n"
     ]
    }
   ],
   "source": [
    "arqx = open('arquivos/numeros.txt','r')      # lendo arquivo\n",
    "conteudo = arqx.read()\n",
    "arqx.close()\n",
    "\n",
    "print(conteudo)"
   ]
  },
  {
   "cell_type": "markdown",
   "id": "0348206e",
   "metadata": {},
   "source": [
    "### Usando a Expressão WITH\n",
    "\n",
    "O método close() é executado automaticamente"
   ]
  },
  {
   "cell_type": "code",
   "execution_count": 15,
   "id": "4143c1ba",
   "metadata": {},
   "outputs": [],
   "source": [
    "with open('arquivos/numeros.txt','r') as arqx:      # com WITH, o arquivo é aberto, o código é executado, e após \n",
    "    conteudo = arqx.read()                          # é automaticamente fechado."
   ]
  },
  {
   "cell_type": "code",
   "execution_count": 16,
   "id": "ba9049b4",
   "metadata": {},
   "outputs": [
    {
     "name": "stdout",
     "output_type": "stream",
     "text": [
      "1 + 1 = 2 Isto é uma operação de soma E pode ser realizada no corpo dos naturais. \n"
     ]
    }
   ],
   "source": [
    "print(conteudo)"
   ]
  },
  {
   "cell_type": "code",
   "execution_count": 18,
   "id": "30d7de58",
   "metadata": {},
   "outputs": [],
   "source": [
    "with open('arquivos/numeros.txt','w') as arqx:\n",
    "    arqx.write(texto[:10])\n",
    "    arqx.write('\\n')\n",
    "    arqx.write(texto[42:])        # não é necessário fechar 'close()' o aquivo, pois o comando with faz automaticamente"
   ]
  },
  {
   "cell_type": "code",
   "execution_count": 19,
   "id": "db5ae33a",
   "metadata": {},
   "outputs": [
    {
     "name": "stdout",
     "output_type": "stream",
     "text": [
      "1 + 1 = 2 \n",
      "pode ser realizada no corpo dos naturais.\n"
     ]
    }
   ],
   "source": [
    "arqx = open('arquivos/numeros.txt','r')\n",
    "conteudo = arqx.read()\n",
    "arqx.close()           # sem o WITH é preciso fechá-lo.\n",
    "print(conteudo)"
   ]
  },
  {
   "cell_type": "markdown",
   "id": "76de22a1",
   "metadata": {},
   "source": [
    "# Manipulando Arquivos CSV\n",
    "    \n",
    "CSV (Comma-Separated Values) é um formato de arquivo que armazena dados tabulares em formato de texto plano. Cada linha do arquivo CSV representa uma linha da tabela e as colunas são separadas por vírgulas. É amplamente utilizado para exportar e importar dados em diferentes aplicações, como planilhas e banco de dados. CSV é uma opção simples e universal para compartilhar dados, pois pode ser aberto e editado com muitos aplicativos diferentes, incluindo programas de planilha e editores de texto."
   ]
  },
  {
   "cell_type": "code",
   "execution_count": 20,
   "id": "e998e46f",
   "metadata": {},
   "outputs": [],
   "source": [
    "import csv"
   ]
  },
  {
   "cell_type": "code",
   "execution_count": 21,
   "id": "43ff80a2",
   "metadata": {},
   "outputs": [],
   "source": [
    "with open('arquivos/notas.csv', 'w') as notas:\n",
    "    \n",
    "    writer = csv.writer(notas)\n",
    "    writer.writerow(('nota1','nota2','nota3'))\n",
    "    writer.writerow((6,8,9))\n",
    "    writer.writerow((6,7,7))\n",
    "    writer.writerow((7,6,9))    # cada elemento em 'notas' é uma linha a ser criada."
   ]
  },
  {
   "cell_type": "code",
   "execution_count": 26,
   "id": "acd15046",
   "metadata": {},
   "outputs": [
    {
     "name": "stdout",
     "output_type": "stream",
     "text": [
      "['nota1', 'nota2', 'nota3']\n",
      "['6', '8', '9']\n",
      "['6', '7', '7']\n",
      "['7', '6', '9']\n"
     ]
    }
   ],
   "source": [
    "with open('arquivos/notas.csv','r', encoding = 'utf8', newline = '\\r\\n') as notas:\n",
    "    leitor = csv.reader(notas)\n",
    "    for x in leitor:\n",
    "        print(x)                # para cada elemento x (linha) em 'leitor' (que é uma lista de listas), print x (linha).  "
   ]
  },
  {
   "cell_type": "code",
   "execution_count": 31,
   "id": "5930a6ca",
   "metadata": {},
   "outputs": [],
   "source": [
    "with open('arquivos/notas.csv', 'r', encoding = 'utf8', newline = '\\r\\n') as notas:\n",
    "    leitor = csv.reader(notas)\n",
    "    dados = list(leitor)"
   ]
  },
  {
   "cell_type": "code",
   "execution_count": 32,
   "id": "013b65d1",
   "metadata": {},
   "outputs": [
    {
     "name": "stdout",
     "output_type": "stream",
     "text": [
      "[['nota1', 'nota2', 'nota3'], ['6', '8', '9'], ['6', '7', '7'], ['7', '6', '9']]\n"
     ]
    }
   ],
   "source": [
    "print(dados)"
   ]
  },
  {
   "cell_type": "code",
   "execution_count": 33,
   "id": "3a2b1cb7",
   "metadata": {},
   "outputs": [
    {
     "name": "stdout",
     "output_type": "stream",
     "text": [
      "['6', '8', '9']\n",
      "['6', '7', '7']\n",
      "['7', '6', '9']\n"
     ]
    }
   ],
   "source": [
    "for l in dados[1:]:\n",
    "    print(l)"
   ]
  },
  {
   "cell_type": "markdown",
   "id": "6a7940a5",
   "metadata": {},
   "source": [
    "## Manipulando Arquivos JSON (Java Script Object Notation ),\n",
    "    \n",
    "JSON (JavaScript Object Notation) é um formato de dados de texto simples e leve que é utilizado para transmitir informações em aplicações web. É baseado em uma estrutura de objetos JavaScript e usa pares de chave-valor para representar dados. JSON é facilmente lido e escrito por máquinas e é amplamente utilizado como formato de intercâmbio de dados em aplicações web modernas.\n",
    "   ]"
   ]
  },
  {
   "cell_type": "code",
   "execution_count": 42,
   "id": "e6878ee0",
   "metadata": {},
   "outputs": [],
   "source": [
    "# Criando um dicionário\n",
    "dict_guido = {'nome':'Guido van Rossum','linguagem': 'Python', 'similar':['c','Modula-3','lisp'], 'users': 1000000}"
   ]
  },
  {
   "cell_type": "code",
   "execution_count": 44,
   "id": "d6680942",
   "metadata": {},
   "outputs": [
    {
     "name": "stdout",
     "output_type": "stream",
     "text": [
      "nome Guido van Rossum\n",
      "linguagem Python\n",
      "similar ['c', 'Modula-3', 'lisp']\n",
      "users 1000000\n"
     ]
    }
   ],
   "source": [
    "for k,v in dict_guido.items():\n",
    "    print (k,v)"
   ]
  },
  {
   "cell_type": "code",
   "execution_count": 45,
   "id": "9a8163da",
   "metadata": {},
   "outputs": [],
   "source": [
    "import json"
   ]
  },
  {
   "cell_type": "code",
   "execution_count": 46,
   "id": "87164140",
   "metadata": {},
   "outputs": [
    {
     "data": {
      "text/plain": [
       "'{\"nome\": \"Guido van Rossum\", \"linguagem\": \"Python\", \"similar\": [\"c\", \"Modula-3\", \"lisp\"], \"users\": 1000000}'"
      ]
     },
     "execution_count": 46,
     "metadata": {},
     "output_type": "execute_result"
    }
   ],
   "source": [
    "json.dumps(dict_guido)        # convertendo o dicionário para um objeto json"
   ]
  },
  {
   "cell_type": "code",
   "execution_count": 47,
   "id": "c7e4c400",
   "metadata": {},
   "outputs": [],
   "source": [
    "with open('arquivos/dados.json', 'w') as arquivo:\n",
    "    arquivo.write(json.dumps(dict_guido))          # criando aquivo json"
   ]
  },
  {
   "cell_type": "code",
   "execution_count": 48,
   "id": "ce12259c",
   "metadata": {},
   "outputs": [],
   "source": [
    "with open('arquivos/dados.json','r') as arquivo:\n",
    "    texto = arquivo.read()\n",
    "    dados = json.loads(texto)"
   ]
  },
  {
   "cell_type": "code",
   "execution_count": 49,
   "id": "66cbaf33",
   "metadata": {},
   "outputs": [
    {
     "data": {
      "text/plain": [
       "{'nome': 'Guido van Rossum',\n",
       " 'linguagem': 'Python',\n",
       " 'similar': ['c', 'Modula-3', 'lisp'],\n",
       " 'users': 1000000}"
      ]
     },
     "execution_count": 49,
     "metadata": {},
     "output_type": "execute_result"
    }
   ],
   "source": [
    "dados"
   ]
  },
  {
   "cell_type": "code",
   "execution_count": 50,
   "id": "a2ffa24d",
   "metadata": {},
   "outputs": [
    {
     "name": "stdout",
     "output_type": "stream",
     "text": [
      "Guido van Rossum\n"
     ]
    }
   ],
   "source": [
    "print(dados['nome'])"
   ]
  },
  {
   "cell_type": "markdown",
   "id": "fc2113e0",
   "metadata": {},
   "source": [
    "#### Copiando o conteúdo de um arquivo para outro"
   ]
  },
  {
   "cell_type": "code",
   "execution_count": 51,
   "id": "0d8c7417",
   "metadata": {},
   "outputs": [],
   "source": [
    "arquivo_fonte = 'arquivos/dados.json'\n",
    "arquivo_destino = 'arquivos/dados.txt'"
   ]
  },
  {
   "cell_type": "code",
   "execution_count": 52,
   "id": "f01f9d9f",
   "metadata": {},
   "outputs": [],
   "source": [
    "with open(arquivo_fonte, 'r') as infile:\n",
    "    text = infile.read()\n",
    "    with open(arquivo_destino, 'w') as outfile:\n",
    "        outfile.write(text)"
   ]
  },
  {
   "cell_type": "code",
   "execution_count": 56,
   "id": "6f7f3a2a",
   "metadata": {},
   "outputs": [
    {
     "name": "stdout",
     "output_type": "stream",
     "text": [
      "{'nome': 'Guido van Rossum', 'linguagem': 'Python', 'similar': ['c', 'Modula-3', 'lisp'], 'users': 1000000}\n"
     ]
    }
   ],
   "source": [
    "with open('arquivos/dados.txt', 'r') as arquivo:\n",
    "    texto = arquivo.read()\n",
    "    print(json.loads(texto))"
   ]
  },
  {
   "cell_type": "code",
   "execution_count": null,
   "id": "4231aa44",
   "metadata": {},
   "outputs": [],
   "source": []
  }
 ],
 "metadata": {
  "kernelspec": {
   "display_name": "Python 3 (ipykernel)",
   "language": "python",
   "name": "python3"
  },
  "language_info": {
   "codemirror_mode": {
    "name": "ipython",
    "version": 3
   },
   "file_extension": ".py",
   "mimetype": "text/x-python",
   "name": "python",
   "nbconvert_exporter": "python",
   "pygments_lexer": "ipython3",
   "version": "3.9.13"
  }
 },
 "nbformat": 4,
 "nbformat_minor": 5
}
