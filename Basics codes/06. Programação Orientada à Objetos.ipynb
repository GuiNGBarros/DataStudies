{
 "cells": [
  {
   "cell_type": "markdown",
   "id": "6080e909",
   "metadata": {},
   "source": [
    "## Classes\n",
    "\n",
    "Em programação orientada à objetos (POO), uma classe é uma estrutura que descreve um objeto, especificando os atributos e métodos que um objeto deve ter. \n",
    "Uma classe é uma espécie de modelo que define as características e ações que um objeto deve possuir.\n",
    "\n",
    "As classes são usadas para criar objetos, que são instâncias da classe. Cada objeto criado a partir de uma mesma classe terá os mesmos atributos e métodos."
   ]
  },
  {
   "cell_type": "code",
   "execution_count": 1,
   "id": "3672d916",
   "metadata": {},
   "outputs": [],
   "source": [
    "# Criando uma classe chamada livro\n",
    "\n",
    "class Livro():\n",
    "    \n",
    "    def __init__(self):       #Este método (construtor) inicializa cada objeto criado a partir desta classe. (self) é  \n",
    "                              # uma referência a cada atributo da própria classe. \n",
    "                              # Toda função dentro de uma classe é chamada de método.\n",
    "        \n",
    "        self.titulo = 'Uma breve história do tempo'\n",
    "        self.isbn = 9788580576467                            # Atributos são propriedades\n",
    "        \n",
    "    def imprime(self):\n",
    "        print(\"Foi criado o livro %s com ISBN %d\" %(self.titulo,self.isbn))        # Métodos são funções que executam ações \n",
    "                                                                                   # nos objetos das classes."
   ]
  },
  {
   "cell_type": "code",
   "execution_count": 2,
   "id": "1731981c",
   "metadata": {},
   "outputs": [],
   "source": [
    "Livro1 = Livro()    #Criando uma instância da classe."
   ]
  },
  {
   "cell_type": "code",
   "execution_count": 3,
   "id": "8f6f151e",
   "metadata": {},
   "outputs": [
    {
     "data": {
      "text/plain": [
       "__main__.Livro"
      ]
     },
     "execution_count": 3,
     "metadata": {},
     "output_type": "execute_result"
    }
   ],
   "source": [
    "type(Livro1)     # Verificando a qual classe o objeto 'Livro1' pertence."
   ]
  },
  {
   "cell_type": "code",
   "execution_count": 4,
   "id": "1f67ca20",
   "metadata": {},
   "outputs": [
    {
     "data": {
      "text/plain": [
       "'Uma breve história do tempo'"
      ]
     },
     "execution_count": 4,
     "metadata": {},
     "output_type": "execute_result"
    }
   ],
   "source": [
    "Livro1.titulo      # Chamando o atributo 'titulo' do objeto Livro1"
   ]
  },
  {
   "cell_type": "code",
   "execution_count": 5,
   "id": "ab85d142",
   "metadata": {},
   "outputs": [
    {
     "data": {
      "text/plain": [
       "9788580576467"
      ]
     },
     "execution_count": 5,
     "metadata": {},
     "output_type": "execute_result"
    }
   ],
   "source": [
    "Livro1.isbn        # Chamando o atributo 'isbn' do objeto Livro1"
   ]
  },
  {
   "cell_type": "code",
   "execution_count": 6,
   "id": "aed68646",
   "metadata": {},
   "outputs": [
    {
     "name": "stdout",
     "output_type": "stream",
     "text": [
      "Foi criado o livro Uma breve história do tempo com ISBN 9788580576467\n"
     ]
    }
   ],
   "source": [
    "Livro1.imprime()      # Chamando o método 'imprime' do objeto Livro1"
   ]
  },
  {
   "cell_type": "code",
   "execution_count": 24,
   "id": "9ed84410",
   "metadata": {},
   "outputs": [],
   "source": [
    "# Criando a classe Livro com parâmetros no método construtor\n",
    "\n",
    "class Livro():\n",
    "    \n",
    "    def __init__(self,titulo,isbn):\n",
    "        self.titulo = titulo\n",
    "        self.isbn = isbn\n",
    "        \n",
    "    def imprime(self):\n",
    "        print(\"Foi criado o livro %s com ISBN %d\" %(self.titulo,self.isbn))"
   ]
  },
  {
   "cell_type": "code",
   "execution_count": 25,
   "id": "3e21b012",
   "metadata": {},
   "outputs": [],
   "source": [
    "Livro2 = Livro('Contato', 9788535913514)     # Criando uma instância da classe."
   ]
  },
  {
   "cell_type": "code",
   "execution_count": 26,
   "id": "06fe24fa",
   "metadata": {},
   "outputs": [
    {
     "data": {
      "text/plain": [
       "'Contato'"
      ]
     },
     "execution_count": 26,
     "metadata": {},
     "output_type": "execute_result"
    }
   ],
   "source": [
    "Livro2.titulo"
   ]
  },
  {
   "cell_type": "code",
   "execution_count": 27,
   "id": "b14c7cab",
   "metadata": {},
   "outputs": [
    {
     "data": {
      "text/plain": [
       "9788535913514"
      ]
     },
     "execution_count": 27,
     "metadata": {},
     "output_type": "execute_result"
    }
   ],
   "source": [
    "Livro2.isbn"
   ]
  },
  {
   "cell_type": "code",
   "execution_count": 28,
   "id": "a3f5a6d2",
   "metadata": {},
   "outputs": [
    {
     "name": "stdout",
     "output_type": "stream",
     "text": [
      "Foi criado o livro Contato com ISBN 9788535913514\n"
     ]
    }
   ],
   "source": [
    "Livro2.imprime()"
   ]
  },
  {
   "cell_type": "code",
   "execution_count": 30,
   "id": "d6db1062",
   "metadata": {},
   "outputs": [],
   "source": [
    "Livro3 = Livro('O Mundo Assombrado Pelos Demônios', 9788535908343)       # Criando outra instância da mesma classe."
   ]
  },
  {
   "cell_type": "code",
   "execution_count": 31,
   "id": "b9c9397c",
   "metadata": {},
   "outputs": [
    {
     "name": "stdout",
     "output_type": "stream",
     "text": [
      "Foi criado o livro O Mundo Assombrado Pelos Demônios com ISBN 9788535908343\n"
     ]
    }
   ],
   "source": [
    "Livro3.imprime()"
   ]
  },
  {
   "cell_type": "code",
   "execution_count": 32,
   "id": "8a3bf4dc",
   "metadata": {},
   "outputs": [
    {
     "data": {
      "text/plain": [
       "'O Mundo Assombrado Pelos Demônios'"
      ]
     },
     "execution_count": 32,
     "metadata": {},
     "output_type": "execute_result"
    }
   ],
   "source": [
    "Livro3.titulo"
   ]
  },
  {
   "cell_type": "code",
   "execution_count": 33,
   "id": "a5898dea",
   "metadata": {},
   "outputs": [
    {
     "data": {
      "text/plain": [
       "'Contato'"
      ]
     },
     "execution_count": 33,
     "metadata": {},
     "output_type": "execute_result"
    }
   ],
   "source": [
    "Livro2.titulo"
   ]
  },
  {
   "cell_type": "markdown",
   "id": "4348862c",
   "metadata": {},
   "source": [
    "## Trabalhando com herança de classes \n",
    "\n",
    "A herança é um conceito que permite criar novas classes a partir de outras classes existentes, aproveitando os atributos e métodos da classe original e adicionando novos atributos e métodos específicos."
   ]
  },
  {
   "cell_type": "code",
   "execution_count": 38,
   "id": "cb0d4d02",
   "metadata": {},
   "outputs": [],
   "source": [
    "# Criando a classe 'Animal' (classe-mãe) \n",
    "\n",
    "class Animal():\n",
    "    \n",
    "    def __init__(self):           #construtor de atributos\n",
    "        print('Animal criado.')    # O print da mensagem indica a criação do objeto desta classe.\n",
    "        \n",
    "    def imprimir(self):\n",
    "        print('Este é um animal.')\n",
    "        \n",
    "    def comer(self):\n",
    "        print('Hora de comer!')\n",
    "        \n",
    "    def emitir_som(self):\n",
    "        pass                   # não faz nada inicialmente."
   ]
  },
  {
   "cell_type": "code",
   "execution_count": 39,
   "id": "54a82972",
   "metadata": {},
   "outputs": [],
   "source": [
    "# Criando a classe 'Cachorro' (classe-filha)\n",
    "\n",
    "class Cachorro(Animal):\n",
    "    \n",
    "    def __init__(self):\n",
    "        Animal.__init__(self)                    # Chamando o construtor da classe-mãe\n",
    "        print(\"Objeto 'Cachorro' criado.\" )      # O print da mensagem indica a criação do objeto desta subclasse.\n",
    "        \n",
    "    def emitir_som(self):\n",
    "        print('Au au!')                          # Reescreve o método 'emitir_som()' presente na classe-mãe."
   ]
  },
  {
   "cell_type": "code",
   "execution_count": 40,
   "id": "68cc5be0",
   "metadata": {},
   "outputs": [],
   "source": [
    "# Criando a classe 'Gato' (classe-filha)\n",
    "\n",
    "class Gato(Animal):\n",
    "    \n",
    "    def __init__(self):\n",
    "        Animal.__init__(self)                    # Chamando o construtor da classe-mãe\n",
    "        print(\"Objeto 'Gato' criado.\" )          # O print da mensagem indica a criação do objeto desta subclasse.\n",
    "        \n",
    "    def emitir_som(self):\n",
    "        print('Miau!')                           # Reescreve o método 'emitir_som()' presente na classe-mãe."
   ]
  },
  {
   "cell_type": "code",
   "execution_count": 41,
   "id": "88c23570",
   "metadata": {},
   "outputs": [
    {
     "name": "stdout",
     "output_type": "stream",
     "text": [
      "Animal criado.\n",
      "Objeto 'Cachorro' criado.\n"
     ]
    }
   ],
   "source": [
    "rex = Cachorro()       # Criando um objeto (uma instância da subclasse)"
   ]
  },
  {
   "cell_type": "code",
   "execution_count": 42,
   "id": "5d5ea7b1",
   "metadata": {},
   "outputs": [
    {
     "name": "stdout",
     "output_type": "stream",
     "text": [
      "Animal criado.\n",
      "Objeto 'Gato' criado.\n"
     ]
    }
   ],
   "source": [
    "meiahora = Gato()      # Criando um objeto (uma instância da subclasse)"
   ]
  },
  {
   "cell_type": "code",
   "execution_count": 43,
   "id": "65c9bd78",
   "metadata": {},
   "outputs": [
    {
     "name": "stdout",
     "output_type": "stream",
     "text": [
      "Este é um animal.\n"
     ]
    }
   ],
   "source": [
    "rex.imprimir()        # A sub classe herda métodos da classe original"
   ]
  },
  {
   "cell_type": "code",
   "execution_count": 44,
   "id": "5e927622",
   "metadata": {},
   "outputs": [
    {
     "name": "stdout",
     "output_type": "stream",
     "text": [
      "Este é um animal.\n"
     ]
    }
   ],
   "source": [
    "meiahora.imprimir()"
   ]
  },
  {
   "cell_type": "code",
   "execution_count": 45,
   "id": "8f358891",
   "metadata": {},
   "outputs": [
    {
     "name": "stdout",
     "output_type": "stream",
     "text": [
      "Hora de comer!\n"
     ]
    }
   ],
   "source": [
    "meiahora.comer()"
   ]
  },
  {
   "cell_type": "code",
   "execution_count": 46,
   "id": "2fde53f5",
   "metadata": {},
   "outputs": [
    {
     "name": "stdout",
     "output_type": "stream",
     "text": [
      "Hora de comer!\n"
     ]
    }
   ],
   "source": [
    "rex.comer()"
   ]
  },
  {
   "cell_type": "code",
   "execution_count": 50,
   "id": "8e4bd00e",
   "metadata": {},
   "outputs": [
    {
     "name": "stdout",
     "output_type": "stream",
     "text": [
      "Au au!\n"
     ]
    }
   ],
   "source": [
    "rex.emitir_som()      # A subclasse reescreve métodos, especificando-os."
   ]
  },
  {
   "cell_type": "code",
   "execution_count": 49,
   "id": "88f2cfda",
   "metadata": {},
   "outputs": [
    {
     "name": "stdout",
     "output_type": "stream",
     "text": [
      "Miau!\n"
     ]
    }
   ],
   "source": [
    "meiahora.emitir_som()"
   ]
  },
  {
   "cell_type": "markdown",
   "id": "601f5b68",
   "metadata": {},
   "source": [
    "## Trabalhando com polimorfismo de classes"
   ]
  },
  {
   "cell_type": "code",
   "execution_count": null,
   "id": "847b59d7",
   "metadata": {},
   "outputs": [],
   "source": []
  }
 ],
 "metadata": {
  "kernelspec": {
   "display_name": "Python 3 (ipykernel)",
   "language": "python",
   "name": "python3"
  },
  "language_info": {
   "codemirror_mode": {
    "name": "ipython",
    "version": 3
   },
   "file_extension": ".py",
   "mimetype": "text/x-python",
   "name": "python",
   "nbconvert_exporter": "python",
   "pygments_lexer": "ipython3",
   "version": "3.9.13"
  }
 },
 "nbformat": 4,
 "nbformat_minor": 5
}
