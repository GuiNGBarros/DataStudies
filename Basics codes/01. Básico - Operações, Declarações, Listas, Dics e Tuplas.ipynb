{
 "cells": [
  {
   "cell_type": "code",
   "execution_count": 3,
   "id": "ef52c87b",
   "metadata": {},
   "outputs": [
    {
     "name": "stdout",
     "output_type": "stream",
     "text": [
      "Hello World!\n"
     ]
    }
   ],
   "source": [
    "print('Hello World!')"
   ]
  },
  {
   "cell_type": "code",
   "execution_count": 2,
   "id": "37867881",
   "metadata": {},
   "outputs": [],
   "source": [
    "HW = 'Hello World!'"
   ]
  },
  {
   "cell_type": "code",
   "execution_count": 4,
   "id": "1a2567c9",
   "metadata": {},
   "outputs": [
    {
     "name": "stdout",
     "output_type": "stream",
     "text": [
      "Hello World!\n"
     ]
    }
   ],
   "source": [
    "print(HW)"
   ]
  },
  {
   "cell_type": "code",
   "execution_count": 8,
   "id": "e352ac93",
   "metadata": {},
   "outputs": [
    {
     "data": {
      "text/plain": [
       "'Hello World!'"
      ]
     },
     "execution_count": 8,
     "metadata": {},
     "output_type": "execute_result"
    }
   ],
   "source": [
    "HW"
   ]
  },
  {
   "cell_type": "code",
   "execution_count": 5,
   "id": "fe3c3ceb",
   "metadata": {},
   "outputs": [],
   "source": [
    "v = 45"
   ]
  },
  {
   "cell_type": "code",
   "execution_count": 6,
   "id": "000be1ed",
   "metadata": {},
   "outputs": [
    {
     "name": "stdout",
     "output_type": "stream",
     "text": [
      "45\n"
     ]
    }
   ],
   "source": [
    "print(v)"
   ]
  },
  {
   "cell_type": "code",
   "execution_count": 7,
   "id": "a8dd2ff9",
   "metadata": {},
   "outputs": [
    {
     "data": {
      "text/plain": [
       "45"
      ]
     },
     "execution_count": 7,
     "metadata": {},
     "output_type": "execute_result"
    }
   ],
   "source": [
    "v"
   ]
  },
  {
   "cell_type": "code",
   "execution_count": 24,
   "id": "34f382fc",
   "metadata": {},
   "outputs": [
    {
     "data": {
      "text/plain": [
       "str"
      ]
     },
     "execution_count": 24,
     "metadata": {},
     "output_type": "execute_result"
    }
   ],
   "source": [
    "type(HW)       # Podemos saber o tipo de objeto \n",
    "               # utilizando a função 'type'"
   ]
  },
  {
   "cell_type": "code",
   "execution_count": 10,
   "id": "4a5dd7d4",
   "metadata": {},
   "outputs": [
    {
     "name": "stdout",
     "output_type": "stream",
     "text": [
      "<class 'str'>\n"
     ]
    }
   ],
   "source": [
    "print(type(HW))"
   ]
  },
  {
   "cell_type": "code",
   "execution_count": 18,
   "id": "612f970d",
   "metadata": {},
   "outputs": [
    {
     "name": "stdout",
     "output_type": "stream",
     "text": [
      "Hello World! é um objeto do tipo 'string'\n"
     ]
    }
   ],
   "source": [
    "print(HW,\"é um objeto do tipo 'string'\")"
   ]
  },
  {
   "cell_type": "code",
   "execution_count": 11,
   "id": "7aa48773",
   "metadata": {},
   "outputs": [
    {
     "data": {
      "text/plain": [
       "int"
      ]
     },
     "execution_count": 11,
     "metadata": {},
     "output_type": "execute_result"
    }
   ],
   "source": [
    "type(v)"
   ]
  },
  {
   "cell_type": "code",
   "execution_count": 12,
   "id": "a1dc1f41",
   "metadata": {},
   "outputs": [
    {
     "name": "stdout",
     "output_type": "stream",
     "text": [
      "<class 'int'>\n"
     ]
    }
   ],
   "source": [
    "print(type(v))"
   ]
  },
  {
   "cell_type": "code",
   "execution_count": 19,
   "id": "b2d67903",
   "metadata": {},
   "outputs": [
    {
     "name": "stdout",
     "output_type": "stream",
     "text": [
      "45 é um objeto do tipo 'inteiro'\n"
     ]
    }
   ],
   "source": [
    "print(v,\"é um objeto do tipo 'inteiro'\")"
   ]
  },
  {
   "cell_type": "code",
   "execution_count": 13,
   "id": "140fff56",
   "metadata": {},
   "outputs": [],
   "source": [
    "w = 5.4"
   ]
  },
  {
   "cell_type": "code",
   "execution_count": 14,
   "id": "1862f7c0",
   "metadata": {},
   "outputs": [
    {
     "data": {
      "text/plain": [
       "float"
      ]
     },
     "execution_count": 14,
     "metadata": {},
     "output_type": "execute_result"
    }
   ],
   "source": [
    "type(w)"
   ]
  },
  {
   "cell_type": "code",
   "execution_count": 20,
   "id": "859731b7",
   "metadata": {},
   "outputs": [
    {
     "name": "stdout",
     "output_type": "stream",
     "text": [
      "5.4 é um objeto do tipo 'flutuante'\n"
     ]
    }
   ],
   "source": [
    "print(w,\"é um objeto do tipo 'flutuante'\")"
   ]
  },
  {
   "cell_type": "code",
   "execution_count": 15,
   "id": "d6e91eda",
   "metadata": {},
   "outputs": [],
   "source": [
    "z = 5.4j"
   ]
  },
  {
   "cell_type": "code",
   "execution_count": 16,
   "id": "45a2957f",
   "metadata": {},
   "outputs": [
    {
     "data": {
      "text/plain": [
       "complex"
      ]
     },
     "execution_count": 16,
     "metadata": {},
     "output_type": "execute_result"
    }
   ],
   "source": [
    "type(z)"
   ]
  },
  {
   "cell_type": "code",
   "execution_count": 22,
   "id": "64d6111f",
   "metadata": {},
   "outputs": [
    {
     "name": "stdout",
     "output_type": "stream",
     "text": [
      "5.4 é um objeto do tipo 'complexo'\n"
     ]
    }
   ],
   "source": [
    "print(w,\"é um objeto do tipo 'complexo'\")"
   ]
  },
  {
   "cell_type": "markdown",
   "id": "fdac09b8",
   "metadata": {},
   "source": [
    "### Operações numéricas (int,float,complex)"
   ]
  },
  {
   "cell_type": "code",
   "execution_count": 5,
   "id": "163ef079",
   "metadata": {},
   "outputs": [
    {
     "data": {
      "text/plain": [
       "8"
      ]
     },
     "execution_count": 5,
     "metadata": {},
     "output_type": "execute_result"
    }
   ],
   "source": [
    "5+3"
   ]
  },
  {
   "cell_type": "code",
   "execution_count": 6,
   "id": "9e66ca4e",
   "metadata": {},
   "outputs": [
    {
     "data": {
      "text/plain": [
       "3"
      ]
     },
     "execution_count": 6,
     "metadata": {},
     "output_type": "execute_result"
    }
   ],
   "source": [
    "13-10"
   ]
  },
  {
   "cell_type": "code",
   "execution_count": 7,
   "id": "7fcf8e36",
   "metadata": {},
   "outputs": [
    {
     "data": {
      "text/plain": [
       "9"
      ]
     },
     "execution_count": 7,
     "metadata": {},
     "output_type": "execute_result"
    }
   ],
   "source": [
    "3*3"
   ]
  },
  {
   "cell_type": "code",
   "execution_count": 8,
   "id": "ac88c79b",
   "metadata": {},
   "outputs": [
    {
     "data": {
      "text/plain": [
       "27"
      ]
     },
     "execution_count": 8,
     "metadata": {},
     "output_type": "execute_result"
    }
   ],
   "source": [
    "# Para elevar a uma potência, usaremos \"**\"\n",
    "3**3"
   ]
  },
  {
   "cell_type": "code",
   "execution_count": 9,
   "id": "a00750e1",
   "metadata": {},
   "outputs": [
    {
     "data": {
      "text/plain": [
       "2.5"
      ]
     },
     "execution_count": 9,
     "metadata": {},
     "output_type": "execute_result"
    }
   ],
   "source": [
    "5/2"
   ]
  },
  {
   "cell_type": "code",
   "execution_count": 11,
   "id": "dce53aa0",
   "metadata": {},
   "outputs": [
    {
     "data": {
      "text/plain": [
       "1"
      ]
     },
     "execution_count": 11,
     "metadata": {},
     "output_type": "execute_result"
    }
   ],
   "source": [
    "# Para saber o resto de uma divisão, usaremos \"%\"\n",
    "7%2"
   ]
  },
  {
   "cell_type": "code",
   "execution_count": 12,
   "id": "675ecbe5",
   "metadata": {},
   "outputs": [
    {
     "data": {
      "text/plain": [
       "0"
      ]
     },
     "execution_count": 12,
     "metadata": {},
     "output_type": "execute_result"
    }
   ],
   "source": [
    "6%2"
   ]
  },
  {
   "cell_type": "code",
   "execution_count": 14,
   "id": "7f28a966",
   "metadata": {},
   "outputs": [
    {
     "data": {
      "text/plain": [
       "float"
      ]
     },
     "execution_count": 14,
     "metadata": {},
     "output_type": "execute_result"
    }
   ],
   "source": [
    "type(5/2)"
   ]
  },
  {
   "cell_type": "code",
   "execution_count": 15,
   "id": "0fc3239a",
   "metadata": {},
   "outputs": [],
   "source": [
    "# É possível fazer divisão decimal e divisão inteira usando \"/\" e \"//\", respectivamente."
   ]
  },
  {
   "cell_type": "code",
   "execution_count": 16,
   "id": "ea77590f",
   "metadata": {},
   "outputs": [
    {
     "data": {
      "text/plain": [
       "2.5"
      ]
     },
     "execution_count": 16,
     "metadata": {},
     "output_type": "execute_result"
    }
   ],
   "source": [
    "5/2"
   ]
  },
  {
   "cell_type": "code",
   "execution_count": 17,
   "id": "870b7fc8",
   "metadata": {},
   "outputs": [
    {
     "data": {
      "text/plain": [
       "2"
      ]
     },
     "execution_count": 17,
     "metadata": {},
     "output_type": "execute_result"
    }
   ],
   "source": [
    "5//2"
   ]
  },
  {
   "cell_type": "code",
   "execution_count": 18,
   "id": "2ae81df9",
   "metadata": {},
   "outputs": [],
   "source": [
    "# Para tirar o módulo, ou valor absoluto, de um número, usamos abs "
   ]
  },
  {
   "cell_type": "code",
   "execution_count": 19,
   "id": "83d41630",
   "metadata": {},
   "outputs": [
    {
     "data": {
      "text/plain": [
       "15"
      ]
     },
     "execution_count": 19,
     "metadata": {},
     "output_type": "execute_result"
    }
   ],
   "source": [
    "abs(-15)"
   ]
  },
  {
   "cell_type": "code",
   "execution_count": 20,
   "id": "ff906e45",
   "metadata": {},
   "outputs": [],
   "source": [
    "# Para arrendondar um número, utilizamos \"round\" com duas entradas, \n",
    "# a primeira é o número a ser arredondado, \n",
    "# a segunda é quantidade de casas decimais a ser apresentada."
   ]
  },
  {
   "cell_type": "code",
   "execution_count": 21,
   "id": "1114d738",
   "metadata": {},
   "outputs": [
    {
     "data": {
      "text/plain": [
       "3.1416"
      ]
     },
     "execution_count": 21,
     "metadata": {},
     "output_type": "execute_result"
    }
   ],
   "source": [
    "round(3.14159,4)"
   ]
  },
  {
   "cell_type": "markdown",
   "id": "90953a7e",
   "metadata": {},
   "source": [
    "### Declarações e Concatenção"
   ]
  },
  {
   "cell_type": "code",
   "execution_count": 22,
   "id": "2d49675a",
   "metadata": {},
   "outputs": [],
   "source": [
    "# Decalarações simples ..SEMPRE ENTRE ASPAS, pois estamos lidando com strings"
   ]
  },
  {
   "cell_type": "code",
   "execution_count": 25,
   "id": "71bc5ed3",
   "metadata": {},
   "outputs": [],
   "source": [
    "pessoa = \"Guilherme\""
   ]
  },
  {
   "cell_type": "code",
   "execution_count": 26,
   "id": "e88a1a33",
   "metadata": {},
   "outputs": [
    {
     "data": {
      "text/plain": [
       "'Guilherme'"
      ]
     },
     "execution_count": 26,
     "metadata": {},
     "output_type": "execute_result"
    }
   ],
   "source": [
    "pessoa"
   ]
  },
  {
   "cell_type": "code",
   "execution_count": 31,
   "id": "57dece14",
   "metadata": {},
   "outputs": [],
   "source": [
    "# Declarações múltiplas"
   ]
  },
  {
   "cell_type": "code",
   "execution_count": 34,
   "id": "7ca22369",
   "metadata": {},
   "outputs": [],
   "source": [
    "pessoa1, pessoa2, pessoa3 = \"Galileu\",\"Newton\",\"Einstein\""
   ]
  },
  {
   "cell_type": "code",
   "execution_count": 28,
   "id": "62be96d6",
   "metadata": {},
   "outputs": [
    {
     "data": {
      "text/plain": [
       "'Galileu'"
      ]
     },
     "execution_count": 28,
     "metadata": {},
     "output_type": "execute_result"
    }
   ],
   "source": [
    "pessoa1"
   ]
  },
  {
   "cell_type": "code",
   "execution_count": 29,
   "id": "b2be8828",
   "metadata": {},
   "outputs": [
    {
     "data": {
      "text/plain": [
       "'Einstein'"
      ]
     },
     "execution_count": 29,
     "metadata": {},
     "output_type": "execute_result"
    }
   ],
   "source": [
    "pessoa3"
   ]
  },
  {
   "cell_type": "code",
   "execution_count": 30,
   "id": "b5980527",
   "metadata": {},
   "outputs": [
    {
     "data": {
      "text/plain": [
       "'Newton'"
      ]
     },
     "execution_count": 30,
     "metadata": {},
     "output_type": "execute_result"
    }
   ],
   "source": [
    "pessoa2"
   ]
  },
  {
   "cell_type": "code",
   "execution_count": 36,
   "id": "405b8378",
   "metadata": {},
   "outputs": [],
   "source": [
    "Pessoas = pessoa1 + pessoa2 + pessoa3"
   ]
  },
  {
   "cell_type": "code",
   "execution_count": 37,
   "id": "e2652685",
   "metadata": {},
   "outputs": [
    {
     "name": "stdout",
     "output_type": "stream",
     "text": [
      "GalileuNewtonEinstein\n"
     ]
    }
   ],
   "source": [
    "print(Pessoas)"
   ]
  },
  {
   "cell_type": "code",
   "execution_count": 38,
   "id": "a45cf482",
   "metadata": {},
   "outputs": [
    {
     "data": {
      "text/plain": [
       "str"
      ]
     },
     "execution_count": 38,
     "metadata": {},
     "output_type": "execute_result"
    }
   ],
   "source": [
    "type(Pessoas)"
   ]
  },
  {
   "cell_type": "code",
   "execution_count": 32,
   "id": "c6a996c7",
   "metadata": {},
   "outputs": [],
   "source": [
    "#Declarações multiplas unitárias"
   ]
  },
  {
   "cell_type": "code",
   "execution_count": 33,
   "id": "03f1aefb",
   "metadata": {},
   "outputs": [],
   "source": [
    "pessoa1=pessoa2=\"Einstein\""
   ]
  },
  {
   "cell_type": "code",
   "execution_count": 34,
   "id": "8bfcbce9",
   "metadata": {},
   "outputs": [
    {
     "data": {
      "text/plain": [
       "'Einstein'"
      ]
     },
     "execution_count": 34,
     "metadata": {},
     "output_type": "execute_result"
    }
   ],
   "source": [
    "pessoa1"
   ]
  },
  {
   "cell_type": "code",
   "execution_count": 35,
   "id": "2a8a6248",
   "metadata": {},
   "outputs": [
    {
     "data": {
      "text/plain": [
       "'Einstein'"
      ]
     },
     "execution_count": 35,
     "metadata": {},
     "output_type": "execute_result"
    }
   ],
   "source": [
    "pessoa2"
   ]
  },
  {
   "cell_type": "code",
   "execution_count": 36,
   "id": "b234419d",
   "metadata": {},
   "outputs": [],
   "source": [
    "#Não definimos a declaração \"Pessoa1\", e sim \"pessoa1\". Se rodarmos Pessoa1, uma mensagem de erro aparecerá."
   ]
  },
  {
   "cell_type": "code",
   "execution_count": 37,
   "id": "f801e152",
   "metadata": {},
   "outputs": [
    {
     "ename": "NameError",
     "evalue": "name 'Pessoa1' is not defined",
     "output_type": "error",
     "traceback": [
      "\u001b[1;31m---------------------------------------------------------------------------\u001b[0m",
      "\u001b[1;31mNameError\u001b[0m                                 Traceback (most recent call last)",
      "\u001b[1;32m~\\AppData\\Local\\Temp\\ipykernel_22388\\2314396502.py\u001b[0m in \u001b[0;36m<module>\u001b[1;34m\u001b[0m\n\u001b[1;32m----> 1\u001b[1;33m \u001b[0mPessoa1\u001b[0m\u001b[1;33m\u001b[0m\u001b[1;33m\u001b[0m\u001b[0m\n\u001b[0m",
      "\u001b[1;31mNameError\u001b[0m: name 'Pessoa1' is not defined"
     ]
    }
   ],
   "source": [
    "Pessoa1"
   ]
  },
  {
   "cell_type": "markdown",
   "id": "f57f35be",
   "metadata": {},
   "source": [
    "### Atribuição definida pelo usuário"
   ]
  },
  {
   "cell_type": "code",
   "execution_count": 40,
   "id": "7aa01547",
   "metadata": {},
   "outputs": [
    {
     "name": "stdout",
     "output_type": "stream",
     "text": [
      "Digite um valor:batata\n",
      "batata\n",
      "batatabatata\n"
     ]
    }
   ],
   "source": [
    "x = input('Digite um valor:')\n",
    "print(x)\n",
    "print (x + x)"
   ]
  },
  {
   "cell_type": "code",
   "execution_count": 41,
   "id": "027eb083",
   "metadata": {},
   "outputs": [
    {
     "name": "stdout",
     "output_type": "stream",
     "text": [
      "Digite um valor:1\n",
      "1\n",
      "11\n"
     ]
    }
   ],
   "source": [
    "x = input('Digite um valor:')\n",
    "print(x)\n",
    "print (x + x)"
   ]
  },
  {
   "cell_type": "code",
   "execution_count": 42,
   "id": "8a542126",
   "metadata": {},
   "outputs": [
    {
     "name": "stdout",
     "output_type": "stream",
     "text": [
      "Digite um valor:1\n",
      "1\n",
      "2\n"
     ]
    }
   ],
   "source": [
    "x = int(input('Digite um valor:'))\n",
    "print(x)\n",
    "print (x + x)"
   ]
  },
  {
   "cell_type": "markdown",
   "id": "3fad98e1",
   "metadata": {},
   "source": [
    "### Declarações atribuídas a outras declarações"
   ]
  },
  {
   "cell_type": "code",
   "execution_count": 38,
   "id": "1946527b",
   "metadata": {},
   "outputs": [],
   "source": [
    "altura=4\n",
    "largura=6"
   ]
  },
  {
   "cell_type": "code",
   "execution_count": 43,
   "id": "4fee0671",
   "metadata": {},
   "outputs": [],
   "source": [
    "área=altura*largura"
   ]
  },
  {
   "cell_type": "code",
   "execution_count": 44,
   "id": "e423d584",
   "metadata": {},
   "outputs": [
    {
     "data": {
      "text/plain": [
       "24"
      ]
     },
     "execution_count": 44,
     "metadata": {},
     "output_type": "execute_result"
    }
   ],
   "source": [
    "área"
   ]
  },
  {
   "cell_type": "code",
   "execution_count": 45,
   "id": "460f4f68",
   "metadata": {},
   "outputs": [],
   "source": [
    "# a ordem das operações é igual na matemática"
   ]
  },
  {
   "cell_type": "code",
   "execution_count": 46,
   "id": "f5d3821b",
   "metadata": {},
   "outputs": [],
   "source": [
    "a=2\n",
    "b=4\n",
    "c=3"
   ]
  },
  {
   "cell_type": "code",
   "execution_count": 49,
   "id": "0c860935",
   "metadata": {},
   "outputs": [
    {
     "data": {
      "text/plain": [
       "11"
      ]
     },
     "execution_count": 49,
     "metadata": {},
     "output_type": "execute_result"
    }
   ],
   "source": [
    "a*b+c"
   ]
  },
  {
   "cell_type": "code",
   "execution_count": 50,
   "id": "c8003882",
   "metadata": {},
   "outputs": [
    {
     "data": {
      "text/plain": [
       "14"
      ]
     },
     "execution_count": 50,
     "metadata": {},
     "output_type": "execute_result"
    }
   ],
   "source": [
    "a*(b+c)"
   ]
  },
  {
   "cell_type": "markdown",
   "id": "be2602bc",
   "metadata": {},
   "source": [
    "### Indexação de strings"
   ]
  },
  {
   "cell_type": "code",
   "execution_count": 51,
   "id": "01bbc503",
   "metadata": {},
   "outputs": [],
   "source": [
    "# Podemos escrever uma frase, string, e escolher uma letra ou caractere indexando-a. "
   ]
  },
  {
   "cell_type": "code",
   "execution_count": 52,
   "id": "46e8f30c",
   "metadata": {},
   "outputs": [],
   "source": [
    "s=\"Gui Barros\""
   ]
  },
  {
   "cell_type": "code",
   "execution_count": 53,
   "id": "9977c481",
   "metadata": {},
   "outputs": [
    {
     "data": {
      "text/plain": [
       "'Gui Barros'"
      ]
     },
     "execution_count": 53,
     "metadata": {},
     "output_type": "execute_result"
    }
   ],
   "source": [
    "s"
   ]
  },
  {
   "cell_type": "code",
   "execution_count": 54,
   "id": "15d4a42b",
   "metadata": {},
   "outputs": [
    {
     "data": {
      "text/plain": [
       "'G'"
      ]
     },
     "execution_count": 54,
     "metadata": {},
     "output_type": "execute_result"
    }
   ],
   "source": [
    "s[0]"
   ]
  },
  {
   "cell_type": "code",
   "execution_count": 55,
   "id": "7f729b08",
   "metadata": {},
   "outputs": [
    {
     "data": {
      "text/plain": [
       "'i'"
      ]
     },
     "execution_count": 55,
     "metadata": {},
     "output_type": "execute_result"
    }
   ],
   "source": [
    "s[2]"
   ]
  },
  {
   "cell_type": "code",
   "execution_count": 56,
   "id": "fd28aa7a",
   "metadata": {},
   "outputs": [
    {
     "data": {
      "text/plain": [
       "' '"
      ]
     },
     "execution_count": 56,
     "metadata": {},
     "output_type": "execute_result"
    }
   ],
   "source": [
    "s[3]"
   ]
  },
  {
   "cell_type": "code",
   "execution_count": 57,
   "id": "6ae2a8c3",
   "metadata": {},
   "outputs": [
    {
     "data": {
      "text/plain": [
       "'i Barros'"
      ]
     },
     "execution_count": 57,
     "metadata": {},
     "output_type": "execute_result"
    }
   ],
   "source": [
    "#slicing\n",
    "s[2:]"
   ]
  },
  {
   "cell_type": "code",
   "execution_count": 60,
   "id": "0be417f0",
   "metadata": {},
   "outputs": [
    {
     "data": {
      "text/plain": [
       "'Gu'"
      ]
     },
     "execution_count": 60,
     "metadata": {},
     "output_type": "execute_result"
    }
   ],
   "source": [
    "s[:2]"
   ]
  },
  {
   "cell_type": "code",
   "execution_count": 61,
   "id": "ee0df287",
   "metadata": {},
   "outputs": [
    {
     "data": {
      "text/plain": [
       "'Gui B'"
      ]
     },
     "execution_count": 61,
     "metadata": {},
     "output_type": "execute_result"
    }
   ],
   "source": [
    "s[:5]"
   ]
  },
  {
   "cell_type": "code",
   "execution_count": 62,
   "id": "218a0128",
   "metadata": {},
   "outputs": [
    {
     "data": {
      "text/plain": [
       "'s'"
      ]
     },
     "execution_count": 62,
     "metadata": {},
     "output_type": "execute_result"
    }
   ],
   "source": [
    "s[-1]"
   ]
  },
  {
   "cell_type": "code",
   "execution_count": 63,
   "id": "b9324de8",
   "metadata": {},
   "outputs": [
    {
     "data": {
      "text/plain": [
       "'r'"
      ]
     },
     "execution_count": 63,
     "metadata": {},
     "output_type": "execute_result"
    }
   ],
   "source": [
    "s[-3]"
   ]
  },
  {
   "cell_type": "code",
   "execution_count": 64,
   "id": "276a1753",
   "metadata": {},
   "outputs": [
    {
     "data": {
      "text/plain": [
       "'Gui Barr'"
      ]
     },
     "execution_count": 64,
     "metadata": {},
     "output_type": "execute_result"
    }
   ],
   "source": [
    "s[:-2]"
   ]
  },
  {
   "cell_type": "code",
   "execution_count": 65,
   "id": "1be0353f",
   "metadata": {},
   "outputs": [
    {
     "data": {
      "text/plain": [
       "'Gui Barros'"
      ]
     },
     "execution_count": 65,
     "metadata": {},
     "output_type": "execute_result"
    }
   ],
   "source": [
    "s[::1]"
   ]
  },
  {
   "cell_type": "code",
   "execution_count": 66,
   "id": "b22b0aac",
   "metadata": {},
   "outputs": [
    {
     "data": {
      "text/plain": [
       "'GiBro'"
      ]
     },
     "execution_count": 66,
     "metadata": {},
     "output_type": "execute_result"
    }
   ],
   "source": [
    "s[::2]"
   ]
  },
  {
   "cell_type": "code",
   "execution_count": 67,
   "id": "83011347",
   "metadata": {},
   "outputs": [
    {
     "data": {
      "text/plain": [
       "'G rs'"
      ]
     },
     "execution_count": 67,
     "metadata": {},
     "output_type": "execute_result"
    }
   ],
   "source": [
    "s[::3]"
   ]
  },
  {
   "cell_type": "code",
   "execution_count": 68,
   "id": "f15583ee",
   "metadata": {},
   "outputs": [
    {
     "data": {
      "text/plain": [
       "'sorraB iuG'"
      ]
     },
     "execution_count": 68,
     "metadata": {},
     "output_type": "execute_result"
    }
   ],
   "source": [
    "s[::-1]"
   ]
  },
  {
   "cell_type": "markdown",
   "id": "81a18f47",
   "metadata": {},
   "source": [
    "## Funções built-in em strings"
   ]
  },
  {
   "cell_type": "code",
   "execution_count": 69,
   "id": "935d2819",
   "metadata": {},
   "outputs": [],
   "source": [
    "# Podemos usar a variável declação seguida de um \".\", e apertar a tecla tab para utilizar as funções built-in.\n",
    "# Neste caso utilizaremos as funções próprias de strings, cada objeto terá suas funções próprias."
   ]
  },
  {
   "cell_type": "code",
   "execution_count": 70,
   "id": "9a5c1889",
   "metadata": {},
   "outputs": [],
   "source": [
    "s = 'Guilherme Nobre Guimarães Barros'"
   ]
  },
  {
   "cell_type": "code",
   "execution_count": 71,
   "id": "9fe70d90",
   "metadata": {},
   "outputs": [
    {
     "data": {
      "text/plain": [
       "'GUILHERME NOBRE GUIMARÃES BARROS'"
      ]
     },
     "execution_count": 71,
     "metadata": {},
     "output_type": "execute_result"
    }
   ],
   "source": [
    "s.upper()"
   ]
  },
  {
   "cell_type": "code",
   "execution_count": 72,
   "id": "864a6a70",
   "metadata": {},
   "outputs": [
    {
     "data": {
      "text/plain": [
       "'guilherme nobre guimarães barros'"
      ]
     },
     "execution_count": 72,
     "metadata": {},
     "output_type": "execute_result"
    }
   ],
   "source": [
    "s.lower()"
   ]
  },
  {
   "cell_type": "code",
   "execution_count": 73,
   "id": "070d57bb",
   "metadata": {},
   "outputs": [
    {
     "data": {
      "text/plain": [
       "'Guilherme nobre guimarães barros'"
      ]
     },
     "execution_count": 73,
     "metadata": {},
     "output_type": "execute_result"
    }
   ],
   "source": [
    "s.capitalize()"
   ]
  },
  {
   "cell_type": "code",
   "execution_count": 77,
   "id": "cd47b29e",
   "metadata": {},
   "outputs": [
    {
     "data": {
      "text/plain": [
       "['Guilherme', 'Nobre', 'Guimarães', 'Barros']"
      ]
     },
     "execution_count": 77,
     "metadata": {},
     "output_type": "execute_result"
    }
   ],
   "source": [
    "s.split()"
   ]
  },
  {
   "cell_type": "code",
   "execution_count": 81,
   "id": "31777e3a",
   "metadata": {},
   "outputs": [
    {
     "data": {
      "text/plain": [
       "'Guilherme Nobre Guimarães Barros'"
      ]
     },
     "execution_count": 81,
     "metadata": {},
     "output_type": "execute_result"
    }
   ],
   "source": [
    "s"
   ]
  },
  {
   "cell_type": "code",
   "execution_count": 82,
   "id": "291f4477",
   "metadata": {},
   "outputs": [
    {
     "data": {
      "text/plain": [
       "4"
      ]
     },
     "execution_count": 82,
     "metadata": {},
     "output_type": "execute_result"
    }
   ],
   "source": [
    "s.count('e')"
   ]
  },
  {
   "cell_type": "code",
   "execution_count": 83,
   "id": "cd5349b5",
   "metadata": {},
   "outputs": [
    {
     "data": {
      "text/plain": [
       "2"
      ]
     },
     "execution_count": 83,
     "metadata": {},
     "output_type": "execute_result"
    }
   ],
   "source": [
    "s.count('o')"
   ]
  },
  {
   "cell_type": "code",
   "execution_count": 84,
   "id": "5e5b5eb2",
   "metadata": {},
   "outputs": [
    {
     "data": {
      "text/plain": [
       "False"
      ]
     },
     "execution_count": 84,
     "metadata": {},
     "output_type": "execute_result"
    }
   ],
   "source": [
    "s.endswith('a')"
   ]
  },
  {
   "cell_type": "code",
   "execution_count": 85,
   "id": "f12d1571",
   "metadata": {},
   "outputs": [
    {
     "data": {
      "text/plain": [
       "True"
      ]
     },
     "execution_count": 85,
     "metadata": {},
     "output_type": "execute_result"
    }
   ],
   "source": [
    "s.endswith('s')"
   ]
  },
  {
   "cell_type": "markdown",
   "id": "35b2173f",
   "metadata": {},
   "source": [
    "## ESTRUTURAS EM LISTAS"
   ]
  },
  {
   "cell_type": "markdown",
   "id": "cba9b609",
   "metadata": {},
   "source": [
    "1. Uma lista é uma coleção ordenada e mutável de elementos.\n",
    "2. Os elementos em uma lista são acessados por meio de índices, que começam em 0.\n",
    "3. Os elementos de uma lista podem ser de tipos diferentes e podem ser modificados após a criação.\n",
    "\n",
    "Exemplo: minha_lista = [1, 2, 3, 'quatro']"
   ]
  },
  {
   "cell_type": "code",
   "execution_count": 125,
   "id": "bc9829e1",
   "metadata": {},
   "outputs": [],
   "source": [
    "listacomida=['arroz','feijão','batata','tomate',10,100]"
   ]
  },
  {
   "cell_type": "code",
   "execution_count": 126,
   "id": "228b6b15",
   "metadata": {},
   "outputs": [
    {
     "data": {
      "text/plain": [
       "list"
      ]
     },
     "execution_count": 126,
     "metadata": {},
     "output_type": "execute_result"
    }
   ],
   "source": [
    "type(listacomida)"
   ]
  },
  {
   "cell_type": "code",
   "execution_count": 127,
   "id": "a156a158",
   "metadata": {},
   "outputs": [
    {
     "data": {
      "text/plain": [
       "['arroz', 'feijão', 'batata', 'tomate', 10, 100]"
      ]
     },
     "execution_count": 127,
     "metadata": {},
     "output_type": "execute_result"
    }
   ],
   "source": [
    "listacomida"
   ]
  },
  {
   "cell_type": "code",
   "execution_count": 128,
   "id": "49528709",
   "metadata": {},
   "outputs": [],
   "source": [
    "# indexando cada elemento da lista\n",
    "item0 = listacomida[0]\n",
    "item1 = listacomida[1]\n",
    "item2 = listacomida[2]\n",
    "item3 = listacomida[3]\n",
    "item4 = listacomida[4]\n",
    "item5 = listacomida[5]"
   ]
  },
  {
   "cell_type": "code",
   "execution_count": 129,
   "id": "41881484",
   "metadata": {},
   "outputs": [
    {
     "data": {
      "text/plain": [
       "('arroz', 'feijão', 'batata', 'tomate', 10, 100)"
      ]
     },
     "execution_count": 129,
     "metadata": {},
     "output_type": "execute_result"
    }
   ],
   "source": [
    "item0,item1,item2,item3,item4,item5"
   ]
  },
  {
   "cell_type": "code",
   "execution_count": 130,
   "id": "f52c80d0",
   "metadata": {},
   "outputs": [
    {
     "name": "stdout",
     "output_type": "stream",
     "text": [
      "arroz feijão batata tomate 10 100\n"
     ]
    }
   ],
   "source": [
    "print(item0,item1,item2,item3,item4,item5)"
   ]
  },
  {
   "cell_type": "code",
   "execution_count": 131,
   "id": "af68c88d",
   "metadata": {},
   "outputs": [],
   "source": [
    "# Podemos alterar um item da lista\n",
    "listacomida[3] = 'cebola'"
   ]
  },
  {
   "cell_type": "code",
   "execution_count": 132,
   "id": "b38a53fd",
   "metadata": {},
   "outputs": [
    {
     "data": {
      "text/plain": [
       "['arroz', 'feijão', 'batata', 'cebola', 10, 100]"
      ]
     },
     "execution_count": 132,
     "metadata": {},
     "output_type": "execute_result"
    }
   ],
   "source": [
    "listacomida"
   ]
  },
  {
   "cell_type": "code",
   "execution_count": 133,
   "id": "b30fa56f",
   "metadata": {},
   "outputs": [],
   "source": [
    "# Podemos adicionar um item à lista usando .append ...\n",
    "# Aqui será adicionado ao final da lista, mas podemos adicionar em qualquer posição. Veja função .insert mais abaixo\n",
    "listacomida.append('cenoura')"
   ]
  },
  {
   "cell_type": "code",
   "execution_count": 134,
   "id": "d9f46a57",
   "metadata": {},
   "outputs": [
    {
     "name": "stdout",
     "output_type": "stream",
     "text": [
      "Lista após adicionar um elemento: ['arroz', 'feijão', 'batata', 'cebola', 10, 100, 'cenoura']\n"
     ]
    }
   ],
   "source": [
    "print(\"Lista após adicionar um elemento:\", listacomida)"
   ]
  },
  {
   "cell_type": "code",
   "execution_count": 135,
   "id": "b90e15f2",
   "metadata": {},
   "outputs": [],
   "source": [
    "# Podemos deletar um item da lista\n",
    "del(listacomida[1]) "
   ]
  },
  {
   "cell_type": "code",
   "execution_count": 136,
   "id": "5439dd11",
   "metadata": {},
   "outputs": [
    {
     "name": "stdout",
     "output_type": "stream",
     "text": [
      "Lista após remover um elemento: ['arroz', 'batata', 'cebola', 10, 100, 'cenoura']\n"
     ]
    }
   ],
   "source": [
    "print(\"Lista após remover um elemento:\", listacomida)"
   ]
  },
  {
   "cell_type": "code",
   "execution_count": 99,
   "id": "fd832741",
   "metadata": {},
   "outputs": [],
   "source": [
    "# Podemos criar lista de listas"
   ]
  },
  {
   "cell_type": "code",
   "execution_count": 100,
   "id": "35084da2",
   "metadata": {},
   "outputs": [],
   "source": [
    "listas=[[1,2,3],[4,5,6],[7,8,9]]"
   ]
  },
  {
   "cell_type": "code",
   "execution_count": 101,
   "id": "ab52ff30",
   "metadata": {},
   "outputs": [
    {
     "data": {
      "text/plain": [
       "[[1, 2, 3], [4, 5, 6], [7, 8, 9]]"
      ]
     },
     "execution_count": 101,
     "metadata": {},
     "output_type": "execute_result"
    }
   ],
   "source": [
    "listas"
   ]
  },
  {
   "cell_type": "code",
   "execution_count": 102,
   "id": "a01b362c",
   "metadata": {},
   "outputs": [
    {
     "data": {
      "text/plain": [
       "[1, 2, 3]"
      ]
     },
     "execution_count": 102,
     "metadata": {},
     "output_type": "execute_result"
    }
   ],
   "source": [
    "listas[0]"
   ]
  },
  {
   "cell_type": "code",
   "execution_count": 103,
   "id": "981a48ab",
   "metadata": {},
   "outputs": [
    {
     "data": {
      "text/plain": [
       "[4, 5, 6]"
      ]
     },
     "execution_count": 103,
     "metadata": {},
     "output_type": "execute_result"
    }
   ],
   "source": [
    "listas[1]"
   ]
  },
  {
   "cell_type": "code",
   "execution_count": 104,
   "id": "9c9d876a",
   "metadata": {},
   "outputs": [
    {
     "data": {
      "text/plain": [
       "1"
      ]
     },
     "execution_count": 104,
     "metadata": {},
     "output_type": "execute_result"
    }
   ],
   "source": [
    "listas[0][0]"
   ]
  },
  {
   "cell_type": "code",
   "execution_count": 105,
   "id": "fcb46829",
   "metadata": {},
   "outputs": [
    {
     "data": {
      "text/plain": [
       "2"
      ]
     },
     "execution_count": 105,
     "metadata": {},
     "output_type": "execute_result"
    }
   ],
   "source": [
    "listas[0][1]"
   ]
  },
  {
   "cell_type": "code",
   "execution_count": 106,
   "id": "28ad391e",
   "metadata": {},
   "outputs": [
    {
     "data": {
      "text/plain": [
       "4"
      ]
     },
     "execution_count": 106,
     "metadata": {},
     "output_type": "execute_result"
    }
   ],
   "source": [
    "listas[1][0]"
   ]
  },
  {
   "cell_type": "code",
   "execution_count": 108,
   "id": "e6964d62",
   "metadata": {},
   "outputs": [
    {
     "data": {
      "text/plain": [
       "9"
      ]
     },
     "execution_count": 108,
     "metadata": {},
     "output_type": "execute_result"
    }
   ],
   "source": [
    "listas[2][2]"
   ]
  },
  {
   "cell_type": "code",
   "execution_count": 109,
   "id": "119fefae",
   "metadata": {},
   "outputs": [],
   "source": [
    "# Concatenando listas\n",
    "lista1 = [1,2,3]\n",
    "lista2 = [4,5,6]\n",
    "lista3 = [3,4,5] "
   ]
  },
  {
   "cell_type": "code",
   "execution_count": 110,
   "id": "8792b2f9",
   "metadata": {},
   "outputs": [
    {
     "data": {
      "text/plain": [
       "[1, 2, 3, 4, 5, 6]"
      ]
     },
     "execution_count": 110,
     "metadata": {},
     "output_type": "execute_result"
    }
   ],
   "source": [
    "lista1 + lista2"
   ]
  },
  {
   "cell_type": "code",
   "execution_count": 112,
   "id": "6fb476fd",
   "metadata": {},
   "outputs": [
    {
     "data": {
      "text/plain": [
       "[1, 2, 3, 3, 4, 5]"
      ]
     },
     "execution_count": 112,
     "metadata": {},
     "output_type": "execute_result"
    }
   ],
   "source": [
    "#Concatenar listas pode repetir elementos de listas diferentes. Não é uma união de conjuntos! \n",
    "\n",
    "lista1 + lista3"
   ]
  },
  {
   "cell_type": "code",
   "execution_count": 114,
   "id": "15cad41c",
   "metadata": {},
   "outputs": [
    {
     "data": {
      "text/plain": [
       "[4, 5, 6, 3, 4, 5]"
      ]
     },
     "execution_count": 114,
     "metadata": {},
     "output_type": "execute_result"
    }
   ],
   "source": [
    "lista2 + lista3"
   ]
  },
  {
   "cell_type": "markdown",
   "id": "9095e252",
   "metadata": {},
   "source": [
    "### Algumas funções para listas"
   ]
  },
  {
   "cell_type": "code",
   "execution_count": 137,
   "id": "34048d51",
   "metadata": {},
   "outputs": [
    {
     "data": {
      "text/plain": [
       "['arroz', 'batata', 'cebola', 10, 100, 'cenoura']"
      ]
     },
     "execution_count": 137,
     "metadata": {},
     "output_type": "execute_result"
    }
   ],
   "source": [
    "listacomida"
   ]
  },
  {
   "cell_type": "code",
   "execution_count": 138,
   "id": "b54de0de",
   "metadata": {},
   "outputs": [
    {
     "data": {
      "text/plain": [
       "6"
      ]
     },
     "execution_count": 138,
     "metadata": {},
     "output_type": "execute_result"
    }
   ],
   "source": [
    "# Número de elemento numa lista\n",
    "\n",
    "len(listacomida)"
   ]
  },
  {
   "cell_type": "code",
   "execution_count": 139,
   "id": "8ffd1fdf",
   "metadata": {},
   "outputs": [
    {
     "data": {
      "text/plain": [
       "[1, 2, 3, 4, 5, 6]"
      ]
     },
     "execution_count": 139,
     "metadata": {},
     "output_type": "execute_result"
    }
   ],
   "source": [
    "lista1 + lista2"
   ]
  },
  {
   "cell_type": "code",
   "execution_count": 140,
   "id": "d7d4908b",
   "metadata": {},
   "outputs": [
    {
     "data": {
      "text/plain": [
       "6"
      ]
     },
     "execution_count": 140,
     "metadata": {},
     "output_type": "execute_result"
    }
   ],
   "source": [
    "# retornar o valor máximo\n",
    "max(lista1 + lista2)"
   ]
  },
  {
   "cell_type": "code",
   "execution_count": 141,
   "id": "2c5994e5",
   "metadata": {},
   "outputs": [
    {
     "data": {
      "text/plain": [
       "1"
      ]
     },
     "execution_count": 141,
     "metadata": {},
     "output_type": "execute_result"
    }
   ],
   "source": [
    "# retornar o valor mínimo\n",
    "min(lista1 + lista2)"
   ]
  },
  {
   "cell_type": "code",
   "execution_count": 142,
   "id": "271e8501",
   "metadata": {},
   "outputs": [],
   "source": [
    "# Podemos contar quantos elementos repetidos aparecem em uma lista usando a função .count"
   ]
  },
  {
   "cell_type": "code",
   "execution_count": 146,
   "id": "b9adefe0",
   "metadata": {},
   "outputs": [],
   "source": [
    "listaA = lista1 + lista2"
   ]
  },
  {
   "cell_type": "code",
   "execution_count": 170,
   "id": "ea665e9d",
   "metadata": {},
   "outputs": [],
   "source": [
    "listaB = lista2 + lista3"
   ]
  },
  {
   "cell_type": "code",
   "execution_count": 171,
   "id": "56728ed4",
   "metadata": {},
   "outputs": [
    {
     "name": "stdout",
     "output_type": "stream",
     "text": [
      "listaA: [1, 2, 3, 4, 5, 6] listaB: [4, 5, 6, 3, 4, 5]\n"
     ]
    }
   ],
   "source": [
    "print('listaA:',listaA,'listaB:',listaB)"
   ]
  },
  {
   "cell_type": "code",
   "execution_count": 151,
   "id": "63140203",
   "metadata": {},
   "outputs": [
    {
     "data": {
      "text/plain": [
       "1"
      ]
     },
     "execution_count": 151,
     "metadata": {},
     "output_type": "execute_result"
    }
   ],
   "source": [
    "listaA.count(3)"
   ]
  },
  {
   "cell_type": "code",
   "execution_count": 152,
   "id": "10e2677b",
   "metadata": {},
   "outputs": [
    {
     "data": {
      "text/plain": [
       "2"
      ]
     },
     "execution_count": 152,
     "metadata": {},
     "output_type": "execute_result"
    }
   ],
   "source": [
    "listaB.count(4)"
   ]
  },
  {
   "cell_type": "code",
   "execution_count": 153,
   "id": "f29a4882",
   "metadata": {},
   "outputs": [
    {
     "data": {
      "text/plain": [
       "1"
      ]
     },
     "execution_count": 153,
     "metadata": {},
     "output_type": "execute_result"
    }
   ],
   "source": [
    "listaB.count(6)"
   ]
  },
  {
   "cell_type": "code",
   "execution_count": 154,
   "id": "fd2804fa",
   "metadata": {},
   "outputs": [],
   "source": [
    "# Podemos saber o número indexador de um elemento da lista usando a função .index"
   ]
  },
  {
   "cell_type": "code",
   "execution_count": 155,
   "id": "54021235",
   "metadata": {},
   "outputs": [
    {
     "data": {
      "text/plain": [
       "['arroz', 'batata', 'cebola', 10, 100, 'cenoura']"
      ]
     },
     "execution_count": 155,
     "metadata": {},
     "output_type": "execute_result"
    }
   ],
   "source": [
    "listacomida"
   ]
  },
  {
   "cell_type": "code",
   "execution_count": 156,
   "id": "49d7f74e",
   "metadata": {},
   "outputs": [
    {
     "data": {
      "text/plain": [
       "2"
      ]
     },
     "execution_count": 156,
     "metadata": {},
     "output_type": "execute_result"
    }
   ],
   "source": [
    "listacomida.index('cebola')"
   ]
  },
  {
   "cell_type": "code",
   "execution_count": 157,
   "id": "88919af1",
   "metadata": {},
   "outputs": [
    {
     "data": {
      "text/plain": [
       "4"
      ]
     },
     "execution_count": 157,
     "metadata": {},
     "output_type": "execute_result"
    }
   ],
   "source": [
    "listacomida.index(100)"
   ]
  },
  {
   "cell_type": "code",
   "execution_count": 158,
   "id": "547777f1",
   "metadata": {},
   "outputs": [],
   "source": [
    "# Para inserir um elemento em qualquer posição, utilizamos a função .insert, indexando e colocando o objeto a ser inserido."
   ]
  },
  {
   "cell_type": "code",
   "execution_count": 159,
   "id": "9824e7fb",
   "metadata": {},
   "outputs": [
    {
     "data": {
      "text/plain": [
       "['arroz', 'batata', 'cebola', 10, 100, 'cenoura']"
      ]
     },
     "execution_count": 159,
     "metadata": {},
     "output_type": "execute_result"
    }
   ],
   "source": [
    "listacomida"
   ]
  },
  {
   "cell_type": "code",
   "execution_count": 160,
   "id": "eb4a31b1",
   "metadata": {},
   "outputs": [],
   "source": [
    "listacomida.insert(2,'alho')"
   ]
  },
  {
   "cell_type": "code",
   "execution_count": 161,
   "id": "86194d94",
   "metadata": {},
   "outputs": [
    {
     "name": "stdout",
     "output_type": "stream",
     "text": [
      "Lista após adicionar um elemento na posição específica: ['arroz', 'batata', 'alho', 'cebola', 10, 100, 'cenoura']\n"
     ]
    }
   ],
   "source": [
    "print(\"Lista após adicionar um elemento na posição específica:\", listacomida)"
   ]
  },
  {
   "cell_type": "code",
   "execution_count": 166,
   "id": "de1d61c9",
   "metadata": {},
   "outputs": [],
   "source": [
    "# Podemos remover um elemento usando a função .remove, de forma que inserimos o nome dele.\n",
    "# Se houver multiplicidade apenas um será removido"
   ]
  },
  {
   "cell_type": "code",
   "execution_count": 172,
   "id": "812ff4d1",
   "metadata": {},
   "outputs": [
    {
     "data": {
      "text/plain": [
       "[4, 5, 6, 3, 4, 5]"
      ]
     },
     "execution_count": 172,
     "metadata": {},
     "output_type": "execute_result"
    }
   ],
   "source": [
    "listaB"
   ]
  },
  {
   "cell_type": "code",
   "execution_count": 173,
   "id": "25a3dfbd",
   "metadata": {},
   "outputs": [],
   "source": [
    "listaB.remove(5)"
   ]
  },
  {
   "cell_type": "code",
   "execution_count": 174,
   "id": "58d8e22c",
   "metadata": {},
   "outputs": [
    {
     "name": "stdout",
     "output_type": "stream",
     "text": [
      "Lista após remover um elemento: [4, 6, 3, 4, 5]\n"
     ]
    }
   ],
   "source": [
    "print(\"Lista após remover um elemento:\", listaB)"
   ]
  },
  {
   "cell_type": "code",
   "execution_count": 167,
   "id": "cbad924b",
   "metadata": {},
   "outputs": [],
   "source": [
    "listaC = [0,0,0,1,2]"
   ]
  },
  {
   "cell_type": "code",
   "execution_count": 168,
   "id": "1ad56c5d",
   "metadata": {},
   "outputs": [],
   "source": [
    "listaC.remove(0)"
   ]
  },
  {
   "cell_type": "code",
   "execution_count": 169,
   "id": "945872cc",
   "metadata": {},
   "outputs": [
    {
     "data": {
      "text/plain": [
       "[0, 0, 1, 2]"
      ]
     },
     "execution_count": 169,
     "metadata": {},
     "output_type": "execute_result"
    }
   ],
   "source": [
    "listaC"
   ]
  },
  {
   "cell_type": "code",
   "execution_count": 175,
   "id": "03b34dbf",
   "metadata": {},
   "outputs": [],
   "source": [
    "# Podemos inverter a ordem apresentada originalmente com a função .reverse"
   ]
  },
  {
   "cell_type": "code",
   "execution_count": 176,
   "id": "c3301190",
   "metadata": {},
   "outputs": [],
   "source": [
    "listaD = [1,2,3,4,5,6,7,8,9]"
   ]
  },
  {
   "cell_type": "code",
   "execution_count": 178,
   "id": "4cb29c9f",
   "metadata": {},
   "outputs": [],
   "source": [
    "listaD.reverse()"
   ]
  },
  {
   "cell_type": "code",
   "execution_count": 179,
   "id": "3d92f7db",
   "metadata": {},
   "outputs": [
    {
     "name": "stdout",
     "output_type": "stream",
     "text": [
      "Lista após inverter ordem original: [9, 8, 7, 6, 5, 4, 3, 2, 1]\n"
     ]
    }
   ],
   "source": [
    "print(\"Lista após inverter ordem original:\", listaD)"
   ]
  },
  {
   "cell_type": "code",
   "execution_count": 180,
   "id": "8ab007a2",
   "metadata": {},
   "outputs": [],
   "source": [
    "# Podemos ordenar caso a lista original apresente embaralhamento entre seus elementos."
   ]
  },
  {
   "cell_type": "code",
   "execution_count": 181,
   "id": "8b91cfe7",
   "metadata": {},
   "outputs": [],
   "source": [
    "listaE = [3,4,1,8,5,2,7,6,9]"
   ]
  },
  {
   "cell_type": "code",
   "execution_count": 183,
   "id": "184a58c0",
   "metadata": {},
   "outputs": [],
   "source": [
    "listaE.sort()"
   ]
  },
  {
   "cell_type": "code",
   "execution_count": 184,
   "id": "41ad8266",
   "metadata": {},
   "outputs": [
    {
     "name": "stdout",
     "output_type": "stream",
     "text": [
      "Lista após ordenar os elementos: [1, 2, 3, 4, 5, 6, 7, 8, 9]\n"
     ]
    }
   ],
   "source": [
    "print(\"Lista após ordenar os elementos:\", listaE)"
   ]
  },
  {
   "cell_type": "markdown",
   "id": "7096bc3c",
   "metadata": {},
   "source": [
    "# ESTRUTURAS EM DICIONÁRIOS"
   ]
  },
  {
   "cell_type": "markdown",
   "id": "e4539a2f",
   "metadata": {},
   "source": [
    "1. Um dicionário é uma coleção não ordenada e mutável de pares chave-valor.\n",
    "2. Os elementos em um dicionário são acessados por meio de chaves, em vez de índices.\n",
    "3. Cada chave em um dicionário é única e associada a um valor específico.\n",
    "4. Os valores em um dicionário podem ser de tipos diferentes e podem ser modificados após a criação.\n",
    "\n",
    "Exemplo: meu_dicionario = {'chave1': 'valor1', 'chave2': 2, 'chave3': [1, 2, 3]}"
   ]
  },
  {
   "cell_type": "code",
   "execution_count": 1,
   "id": "600ef357",
   "metadata": {},
   "outputs": [],
   "source": [
    "# Isto é um dicionário\n",
    "\n",
    "estudantes_e_idades = {\"Pedro\":24,\"Ana\":22,\"Ronaldo\":26,\"Janaina\":25}"
   ]
  },
  {
   "cell_type": "code",
   "execution_count": 2,
   "id": "ee4fadde",
   "metadata": {},
   "outputs": [
    {
     "data": {
      "text/plain": [
       "dict"
      ]
     },
     "execution_count": 2,
     "metadata": {},
     "output_type": "execute_result"
    }
   ],
   "source": [
    "type(estudantes_e_idades)"
   ]
  },
  {
   "cell_type": "code",
   "execution_count": 3,
   "id": "3d333cbd",
   "metadata": {},
   "outputs": [
    {
     "data": {
      "text/plain": [
       "{'Pedro': 24, 'Ana': 22, 'Ronaldo': 26, 'Janaina': 25}"
      ]
     },
     "execution_count": 3,
     "metadata": {},
     "output_type": "execute_result"
    }
   ],
   "source": [
    "estudantes_e_idades"
   ]
  },
  {
   "cell_type": "code",
   "execution_count": 4,
   "id": "efdf271d",
   "metadata": {},
   "outputs": [],
   "source": [
    "# Dentro de um dicionário, um item é composto de chave e valor.\n",
    "# No caso do dicionário acima, temos que o primeiro item tem chave \"Pedro\" e valor \"24\"."
   ]
  },
  {
   "cell_type": "code",
   "execution_count": 9,
   "id": "df19e579",
   "metadata": {},
   "outputs": [
    {
     "data": {
      "text/plain": [
       "24"
      ]
     },
     "execution_count": 9,
     "metadata": {},
     "output_type": "execute_result"
    }
   ],
   "source": [
    "# Podemos chamar o valor usando como argumento a chave\n",
    "estudantes_e_idades[\"Pedro\"]"
   ]
  },
  {
   "cell_type": "code",
   "execution_count": 10,
   "id": "4e7b5234",
   "metadata": {},
   "outputs": [],
   "source": [
    "# Podemos adicionar um item ao dicionário atribuindo um valor a uma nova chave\n",
    "estudantes_e_idades[\"Marcelo\"] = 23"
   ]
  },
  {
   "cell_type": "code",
   "execution_count": 11,
   "id": "8dc29d4e",
   "metadata": {},
   "outputs": [
    {
     "data": {
      "text/plain": [
       "{'Pedro': 24, 'Ana': 22, 'Ronaldo': 26, 'Janaina': 25, 'Marcelo': 23}"
      ]
     },
     "execution_count": 11,
     "metadata": {},
     "output_type": "execute_result"
    }
   ],
   "source": [
    "estudantes_e_idades"
   ]
  },
  {
   "cell_type": "code",
   "execution_count": 16,
   "id": "24922005",
   "metadata": {},
   "outputs": [],
   "source": [
    "# Podemos adicionar um dicionário a outro, usando a função update\n",
    "estudantes_e_idades2 = {\"Camila\":27,\"Adriana\":28,\"Roberto\":29}"
   ]
  },
  {
   "cell_type": "code",
   "execution_count": 17,
   "id": "db65e13f",
   "metadata": {},
   "outputs": [],
   "source": [
    "estudantes_e_idades.update(estudantes_e_idades2)"
   ]
  },
  {
   "cell_type": "code",
   "execution_count": 18,
   "id": "a4dbc969",
   "metadata": {},
   "outputs": [
    {
     "data": {
      "text/plain": [
       "{'Pedro': 24,\n",
       " 'Ana': 22,\n",
       " 'Ronaldo': 26,\n",
       " 'Janaina': 25,\n",
       " 'Marcelo': 23,\n",
       " 'Camila': 27,\n",
       " 'Adriana': 28,\n",
       " 'Roberto': 29}"
      ]
     },
     "execution_count": 18,
     "metadata": {},
     "output_type": "execute_result"
    }
   ],
   "source": [
    "estudantes_e_idades"
   ]
  },
  {
   "cell_type": "code",
   "execution_count": 19,
   "id": "1d46610d",
   "metadata": {},
   "outputs": [
    {
     "data": {
      "text/plain": [
       "8"
      ]
     },
     "execution_count": 19,
     "metadata": {},
     "output_type": "execute_result"
    }
   ],
   "source": [
    "# Para encontrarmos a quantidade de itens dentro de um dicionário utilizamos a função len\n",
    "\n",
    "len(estudantes_e_idades)"
   ]
  },
  {
   "cell_type": "code",
   "execution_count": null,
   "id": "7167820f",
   "metadata": {},
   "outputs": [],
   "source": [
    "# Podemos retornar somente chaves, ou valores, ou itens, respectivamente, com as funções abaixo"
   ]
  },
  {
   "cell_type": "code",
   "execution_count": 20,
   "id": "1a8124a3",
   "metadata": {},
   "outputs": [
    {
     "data": {
      "text/plain": [
       "dict_keys(['Pedro', 'Ana', 'Ronaldo', 'Janaina', 'Marcelo', 'Camila', 'Adriana', 'Roberto'])"
      ]
     },
     "execution_count": 20,
     "metadata": {},
     "output_type": "execute_result"
    }
   ],
   "source": [
    "estudantes_e_idades.keys()"
   ]
  },
  {
   "cell_type": "code",
   "execution_count": 21,
   "id": "ab25ff19",
   "metadata": {},
   "outputs": [
    {
     "data": {
      "text/plain": [
       "dict_values([24, 22, 26, 25, 23, 27, 28, 29])"
      ]
     },
     "execution_count": 21,
     "metadata": {},
     "output_type": "execute_result"
    }
   ],
   "source": [
    "estudantes_e_idades.values()"
   ]
  },
  {
   "cell_type": "code",
   "execution_count": 22,
   "id": "732d82f2",
   "metadata": {},
   "outputs": [
    {
     "data": {
      "text/plain": [
       "dict_items([('Pedro', 24), ('Ana', 22), ('Ronaldo', 26), ('Janaina', 25), ('Marcelo', 23), ('Camila', 27), ('Adriana', 28), ('Roberto', 29)])"
      ]
     },
     "execution_count": 22,
     "metadata": {},
     "output_type": "execute_result"
    }
   ],
   "source": [
    "estudantes_e_idades.items()"
   ]
  },
  {
   "cell_type": "code",
   "execution_count": 23,
   "id": "37325f58",
   "metadata": {},
   "outputs": [],
   "source": [
    "# Os pares Chave e Valor podem ser quaisquer tipos de objetos: strings, inteiros, floats, complexos."
   ]
  },
  {
   "cell_type": "code",
   "execution_count": 24,
   "id": "58d20d79",
   "metadata": {},
   "outputs": [],
   "source": [
    "# Dicionário de listas\n",
    "dict1 = {\"chave1\":123,\"chave2\":[1,2,3],\"chave3\":[\"banana\",\"pera\",\"uva\"]}"
   ]
  },
  {
   "cell_type": "code",
   "execution_count": 25,
   "id": "a6539e1f",
   "metadata": {},
   "outputs": [
    {
     "data": {
      "text/plain": [
       "123"
      ]
     },
     "execution_count": 25,
     "metadata": {},
     "output_type": "execute_result"
    }
   ],
   "source": [
    "dict1['chave1']"
   ]
  },
  {
   "cell_type": "code",
   "execution_count": 26,
   "id": "e944214e",
   "metadata": {},
   "outputs": [
    {
     "data": {
      "text/plain": [
       "[1, 2, 3]"
      ]
     },
     "execution_count": 26,
     "metadata": {},
     "output_type": "execute_result"
    }
   ],
   "source": [
    "dict1['chave2']"
   ]
  },
  {
   "cell_type": "code",
   "execution_count": 28,
   "id": "f074b3d4",
   "metadata": {},
   "outputs": [
    {
     "data": {
      "text/plain": [
       "3"
      ]
     },
     "execution_count": 28,
     "metadata": {},
     "output_type": "execute_result"
    }
   ],
   "source": [
    "dict1[\"chave2\"][2]"
   ]
  },
  {
   "cell_type": "markdown",
   "id": "2e384d9c",
   "metadata": {},
   "source": [
    "# ESTRUTURAS EM TUPLAS"
   ]
  },
  {
   "cell_type": "markdown",
   "id": "63730f1b",
   "metadata": {},
   "source": [
    "1. Uma tupla é uma coleção ordenada e imutável de elementos.\n",
    "2. Os elementos em uma tupla são acessados por meio de índices, assim como em listas.\n",
    "3. No entanto, uma vez que uma tupla é criada, seus elementos não podem ser alterados.\n",
    "4. Tuplas são frequentemente usadas para representar dados que não devem ser modificados.\n",
    "\n",
    "Exemplo: minha_tupla = (1, 2, 3, 'quatro')"
   ]
  },
  {
   "cell_type": "code",
   "execution_count": 29,
   "id": "e2588776",
   "metadata": {},
   "outputs": [],
   "source": [
    "# Criando uma tupla\n",
    "tupla1 = (\"Geografia\",23,\"Elefante\",9.8)"
   ]
  },
  {
   "cell_type": "code",
   "execution_count": 30,
   "id": "898dd7ed",
   "metadata": {},
   "outputs": [
    {
     "data": {
      "text/plain": [
       "('Geografia', 23, 'Elefante', 9.8)"
      ]
     },
     "execution_count": 30,
     "metadata": {},
     "output_type": "execute_result"
    }
   ],
   "source": [
    "tupla1"
   ]
  },
  {
   "cell_type": "code",
   "execution_count": 34,
   "id": "bfe71268",
   "metadata": {},
   "outputs": [],
   "source": [
    "# As funções built-in disponíveis para tupla são funções não-modificáveis. "
   ]
  },
  {
   "cell_type": "code",
   "execution_count": 36,
   "id": "101bcc47",
   "metadata": {},
   "outputs": [],
   "source": [
    "# Para verificarmos funções disponíveis para um objeto em Python, utilizamos a função dir"
   ]
  },
  {
   "cell_type": "code",
   "execution_count": 37,
   "id": "89ad0536",
   "metadata": {},
   "outputs": [
    {
     "data": {
      "text/plain": [
       "['__add__',\n",
       " '__class__',\n",
       " '__class_getitem__',\n",
       " '__contains__',\n",
       " '__delattr__',\n",
       " '__dir__',\n",
       " '__doc__',\n",
       " '__eq__',\n",
       " '__format__',\n",
       " '__ge__',\n",
       " '__getattribute__',\n",
       " '__getitem__',\n",
       " '__getnewargs__',\n",
       " '__gt__',\n",
       " '__hash__',\n",
       " '__init__',\n",
       " '__init_subclass__',\n",
       " '__iter__',\n",
       " '__le__',\n",
       " '__len__',\n",
       " '__lt__',\n",
       " '__mul__',\n",
       " '__ne__',\n",
       " '__new__',\n",
       " '__reduce__',\n",
       " '__reduce_ex__',\n",
       " '__repr__',\n",
       " '__rmul__',\n",
       " '__setattr__',\n",
       " '__sizeof__',\n",
       " '__str__',\n",
       " '__subclasshook__',\n",
       " 'count',\n",
       " 'index']"
      ]
     },
     "execution_count": 37,
     "metadata": {},
     "output_type": "execute_result"
    }
   ],
   "source": [
    "dir(tupla1)"
   ]
  },
  {
   "cell_type": "code",
   "execution_count": 38,
   "id": "9e67c006",
   "metadata": {},
   "outputs": [
    {
     "data": {
      "text/plain": [
       "'Geografia'"
      ]
     },
     "execution_count": 38,
     "metadata": {},
     "output_type": "execute_result"
    }
   ],
   "source": [
    "tupla1[0]"
   ]
  },
  {
   "cell_type": "code",
   "execution_count": 41,
   "id": "96c6c901",
   "metadata": {},
   "outputs": [],
   "source": [
    "# Para podermos realizar modificações, podemos converter a tupla em lista, usando a função list\n",
    "tupla_transf_em_list = list(tupla1)"
   ]
  },
  {
   "cell_type": "code",
   "execution_count": 42,
   "id": "2a59fbc9",
   "metadata": {},
   "outputs": [
    {
     "data": {
      "text/plain": [
       "('Geografia', 23, 'Elefante', 9.8)"
      ]
     },
     "execution_count": 42,
     "metadata": {},
     "output_type": "execute_result"
    }
   ],
   "source": [
    "tupla1"
   ]
  },
  {
   "cell_type": "code",
   "execution_count": 43,
   "id": "9b0c0803",
   "metadata": {},
   "outputs": [
    {
     "data": {
      "text/plain": [
       "['Geografia', 23, 'Elefante', 9.8]"
      ]
     },
     "execution_count": 43,
     "metadata": {},
     "output_type": "execute_result"
    }
   ],
   "source": [
    "tupla_transf_em_list"
   ]
  },
  {
   "cell_type": "code",
   "execution_count": 44,
   "id": "831cb70b",
   "metadata": {},
   "outputs": [],
   "source": [
    "tupla_transf_em_list[0] = 'Matemática'"
   ]
  },
  {
   "cell_type": "code",
   "execution_count": 45,
   "id": "9a7c57e9",
   "metadata": {},
   "outputs": [
    {
     "data": {
      "text/plain": [
       "['Matemática', 23, 'Elefante', 9.8]"
      ]
     },
     "execution_count": 45,
     "metadata": {},
     "output_type": "execute_result"
    }
   ],
   "source": [
    "tupla_transf_em_list"
   ]
  },
  {
   "cell_type": "code",
   "execution_count": 46,
   "id": "d2d193f5",
   "metadata": {},
   "outputs": [],
   "source": [
    "# Utilizamos a função tuple para voltar para tupla\n",
    "tupla1 = tuple(tupla_transf_em_list)"
   ]
  },
  {
   "cell_type": "code",
   "execution_count": 47,
   "id": "5d56fc22",
   "metadata": {},
   "outputs": [
    {
     "data": {
      "text/plain": [
       "('Matemática', 23, 'Elefante', 9.8)"
      ]
     },
     "execution_count": 47,
     "metadata": {},
     "output_type": "execute_result"
    }
   ],
   "source": [
    "tupla1"
   ]
  }
 ],
 "metadata": {
  "kernelspec": {
   "display_name": "Python 3 (ipykernel)",
   "language": "python",
   "name": "python3"
  },
  "language_info": {
   "codemirror_mode": {
    "name": "ipython",
    "version": 3
   },
   "file_extension": ".py",
   "mimetype": "text/x-python",
   "name": "python",
   "nbconvert_exporter": "python",
   "pygments_lexer": "ipython3",
   "version": "3.9.13"
  }
 },
 "nbformat": 4,
 "nbformat_minor": 5
}
