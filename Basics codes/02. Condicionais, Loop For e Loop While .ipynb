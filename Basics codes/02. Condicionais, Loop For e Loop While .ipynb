{
 "cells": [
  {
   "cell_type": "markdown",
   "id": "d2fbdea3",
   "metadata": {},
   "source": [
    "# Condicional IF"
   ]
  },
  {
   "cell_type": "code",
   "execution_count": 3,
   "id": "f9544e25",
   "metadata": {},
   "outputs": [
    {
     "name": "stdout",
     "output_type": "stream",
     "text": [
      "A sentença é verdadeira!\n"
     ]
    }
   ],
   "source": [
    "# Se a sentença abaixo for verdadeira um comando (identado) será realizado\n",
    "\n",
    "if 5 > 2:\n",
    "    print(\"A sentença é verdadeira!\")"
   ]
  },
  {
   "cell_type": "code",
   "execution_count": 4,
   "id": "a894e15f",
   "metadata": {},
   "outputs": [],
   "source": [
    "# Se a sentença for falsa, o comando não será realizado\n",
    "\n",
    "if 5 < 2:\n",
    "    print(\"A sentença é verdadeira! (mesmo não sendo)\")"
   ]
  },
  {
   "cell_type": "code",
   "execution_count": 5,
   "id": "afb3a6e7",
   "metadata": {},
   "outputs": [
    {
     "name": "stdout",
     "output_type": "stream",
     "text": [
      "A sentença é falsa!\n"
     ]
    }
   ],
   "source": [
    "# Porém, podemos usar as condicionais if e else, para realizar um comando nas duas possibilidades.\n",
    "# Se (if) for verdadeira -> alguma coisa\n",
    "# senão (else), então falsa -> alguma outra coisa\n",
    "\n",
    "if 5 < 2:\n",
    "    print(\"A sentença é verdadeira!\")\n",
    "else:\n",
    "    print(\"A sentença é falsa!\")"
   ]
  },
  {
   "cell_type": "code",
   "execution_count": 12,
   "id": "4e07bcc2",
   "metadata": {},
   "outputs": [
    {
     "name": "stdout",
     "output_type": "stream",
     "text": [
      "Aproveite o final de semana!\n"
     ]
    }
   ],
   "source": [
    "# Condicional IF...ELSE com variável\n",
    "dia = \"sexta-feira\"\n",
    "if dia == \"segunda-feira\":\n",
    "    print(\"Vamos começar a semana!\")\n",
    "else:\n",
    "    print(\"Aproveite o final de semana!\")"
   ]
  },
  {
   "cell_type": "code",
   "execution_count": 14,
   "id": "6b251c73",
   "metadata": {},
   "outputs": [
    {
     "name": "stdout",
     "output_type": "stream",
     "text": [
      "Digite apenas segunda-feira ou sexta-feira:sexta-feira\n",
      "Aproveite o final de semana!\n"
     ]
    }
   ],
   "source": [
    "# Podemos usar a função input para que o operador digite o valor e o programa seja executado\n",
    "\n",
    "dia = input(\"Digite apenas segunda-feira ou sexta-feira:\")\n",
    "if dia == \"segunda-feira\":\n",
    "    print(\"Vamos começar a semana!\")\n",
    "else:\n",
    "    print(\"Aproveite o final de semana!\")"
   ]
  },
  {
   "cell_type": "code",
   "execution_count": 19,
   "id": "8dd3f56f",
   "metadata": {},
   "outputs": [
    {
     "name": "stdout",
     "output_type": "stream",
     "text": [
      "Digite um dia da semana:sexta-feira\n",
      "Aproveite o final de semana!\n"
     ]
    }
   ],
   "source": [
    "# Podemos utilizar o operador ELIF para validar mais de uma condição.\n",
    "\n",
    "dia = input(\"Digite um dia da semana:\")\n",
    "if dia == \"segunda-feira\":\n",
    "    print(\"Vamos começar a semana!\")\n",
    "elif dia == \"terça-feira\":\n",
    "    print(\"Vamos para o segundo dia!\")\n",
    "elif dia == \"quarta-feira\":\n",
    "    print(\"Chegamos na metade da semana!\")\n",
    "elif dia == \"quinta-feira\":\n",
    "    print(\"Só mais um dia!\")\n",
    "else:\n",
    "    print(\"Aproveite o final de semana!\")"
   ]
  },
  {
   "cell_type": "markdown",
   "id": "a3a39928",
   "metadata": {},
   "source": [
    "Perceba que o condicional IF,ELIF,ELSE trabalha com operadores relacionais, onde sua saída é sempre TRUE ou FALSE\n",
    "\n",
    "Ex.: \n",
    "\n",
    "     if (operador relacional: <, >, <=, >=, ==) ---> TRUE \n",
    "\n",
    "     else (operador relacional: <, >, <=, >=, ==) ---> FALSE"
   ]
  },
  {
   "cell_type": "code",
   "execution_count": null,
   "id": "ffecbefb",
   "metadata": {},
   "outputs": [],
   "source": [
    "# Podemos trabalhar com condicionais aninhados utilizando os operadores lógicos and, or e not"
   ]
  },
  {
   "cell_type": "code",
   "execution_count": 20,
   "id": "289877f6",
   "metadata": {},
   "outputs": [
    {
     "name": "stdout",
     "output_type": "stream",
     "text": [
      "Ok Gui, você está autorizado a dirigir.\n"
     ]
    }
   ],
   "source": [
    "idade = 18\n",
    "nome = \"Gui\"\n",
    "\n",
    "if idade >= 18 and nome == \"Gui\":\n",
    "    print(\"Ok Gui, você está autorizado a dirigir.\")"
   ]
  },
  {
   "cell_type": "code",
   "execution_count": 21,
   "id": "bff7011b",
   "metadata": {},
   "outputs": [
    {
     "name": "stdout",
     "output_type": "stream",
     "text": [
      "a fruta é maracujá OU é uma fruta amarela\n"
     ]
    }
   ],
   "source": [
    "fruta = \"banana\"\n",
    "cor = \"amarelo\"\n",
    "\n",
    "if fruta == \"maracujá\" or cor == \"amarelo\":\n",
    "    print(\"a fruta é maracujá OU é uma fruta amarela\")"
   ]
  },
  {
   "cell_type": "code",
   "execution_count": 30,
   "id": "81975e0b",
   "metadata": {},
   "outputs": [
    {
     "name": "stdout",
     "output_type": "stream",
     "text": [
      "É verdadeiro a negação de que 4 > 5, ou seja, 4 ≤ 5\n"
     ]
    }
   ],
   "source": [
    "num = 4\n",
    "\n",
    "if not (num > 5):\n",
    "    print(\"É verdadeiro a negação de que 4 > 5, ou seja, 4 ≤ 5\")    "
   ]
  },
  {
   "cell_type": "markdown",
   "id": "dc74647b",
   "metadata": {},
   "source": [
    "### Placeholders\n",
    "\n",
    "##### os place holders são usados em strings para inserir valores dinâmicos. Eles são especialmente úteis ao formatar strings para exibir valores variáveis ou ao criar mensagens personalizadas. Existem várias maneiras de usar place holders em Python, incluindo o método .format() e a formatação de f-strings."
   ]
  },
  {
   "cell_type": "code",
   "execution_count": 31,
   "id": "b1e0e8c5",
   "metadata": {},
   "outputs": [
    {
     "name": "stdout",
     "output_type": "stream",
     "text": [
      "Olá, meu nome é Maria e tenho 30 anos.\n"
     ]
    }
   ],
   "source": [
    "nome = \"Maria\"\n",
    "idade = 30\n",
    "mensagem = \"Olá, meu nome é {} e tenho {} anos.\".format(nome, idade)\n",
    "print(mensagem)"
   ]
  },
  {
   "cell_type": "code",
   "execution_count": 32,
   "id": "6744e1dc",
   "metadata": {},
   "outputs": [
    {
     "name": "stdout",
     "output_type": "stream",
     "text": [
      "Olá, meu nome é João e tenho 25 anos.\n"
     ]
    }
   ],
   "source": [
    "nome = \"João\"\n",
    "idade = 25\n",
    "mensagem = f\"Olá, meu nome é {nome} e tenho {idade} anos.\"\n",
    "print(mensagem)"
   ]
  },
  {
   "cell_type": "code",
   "execution_count": 4,
   "id": "078bd4b2",
   "metadata": {},
   "outputs": [
    {
     "name": "stdout",
     "output_type": "stream",
     "text": [
      "O livro 'Uma breve história do tempo' do autor Sthephen Hawking\n"
     ]
    }
   ],
   "source": [
    "título = \"'Uma breve história do tempo'\"\n",
    "autor = \"Sthephen Hawking\"\n",
    "mensagem = \"O livro %s do autor %s\" %(título,autor)       #podemos utilizar %d para referência a valores numéricos.\n",
    "print(mensagem)"
   ]
  },
  {
   "cell_type": "markdown",
   "id": "92c92ada",
   "metadata": {},
   "source": [
    "# LOOP FOR"
   ]
  },
  {
   "cell_type": "code",
   "execution_count": 4,
   "id": "753f0155",
   "metadata": {},
   "outputs": [
    {
     "name": "stdout",
     "output_type": "stream",
     "text": [
      "2\n",
      "3\n",
      "4\n"
     ]
    }
   ],
   "source": [
    "# Criando uma tupla e imprimindo cada um dos valores\n",
    "tp = (2,3,4)\n",
    "for i in tp:\n",
    "    print(i)"
   ]
  },
  {
   "cell_type": "code",
   "execution_count": 6,
   "id": "746b4f0a",
   "metadata": {},
   "outputs": [
    {
     "name": "stdout",
     "output_type": "stream",
     "text": [
      "0\n",
      "1\n",
      "2\n",
      "3\n",
      "4\n"
     ]
    }
   ],
   "source": [
    "# Imprimindo os valores no intervalo entre 0 e 5 (excluindo 5)\n",
    "for n in range(0,5):\n",
    "    print(n)"
   ]
  },
  {
   "cell_type": "code",
   "execution_count": 9,
   "id": "f5e2a6ab",
   "metadata": {},
   "outputs": [
    {
     "name": "stdout",
     "output_type": "stream",
     "text": [
      "2\n",
      "4\n",
      "6\n",
      "8\n",
      "10\n"
     ]
    }
   ],
   "source": [
    "# Loop for com condicional\n",
    "\n",
    "lista = [1,2,3,4,5,6,7,8,9,10]\n",
    "for n in lista:        # para cada n dentro da 'lista', se\n",
    "    if n % 2 == 0:     #o resto da divisão por 2 for igual a zero, implica que o número n é par\n",
    "        print(n)"
   ]
  },
  {
   "cell_type": "code",
   "execution_count": 10,
   "id": "5a0bb336",
   "metadata": {},
   "outputs": [
    {
     "name": "stdout",
     "output_type": "stream",
     "text": [
      "0\n",
      "100\n",
      "200\n",
      "300\n",
      "400\n",
      "500\n",
      "600\n",
      "700\n",
      "800\n",
      "900\n",
      "1000\n"
     ]
    }
   ],
   "source": [
    "for k in range(0,1001,100):     #para cada k entre 0 e 1000, espaçados 100 a 100\n",
    "    print(k)"
   ]
  },
  {
   "cell_type": "code",
   "execution_count": 13,
   "id": "43b57105",
   "metadata": {},
   "outputs": [
    {
     "name": "stdout",
     "output_type": "stream",
     "text": [
      "0\n",
      "0\n",
      "0\n",
      "----\n",
      "2\n",
      "4\n",
      "6\n",
      "----\n",
      "4\n",
      "8\n",
      "12\n",
      "----\n",
      "6\n",
      "12\n",
      "18\n",
      "----\n",
      "8\n",
      "16\n",
      "24\n",
      "----\n"
     ]
    }
   ],
   "source": [
    "# Loops for aninhados\n",
    "\n",
    "lista1 = [0,1,2,3,4]\n",
    "lista2 = [2,4,6]\n",
    "\n",
    "for i in lista1:             #(Loop externo) para cada i na lista1\n",
    "    for j in lista2:         #(Loop interno) pegue cada j na lista2\n",
    "        print(i*j)           # e realize a operação i*j e depois imprima\n",
    "    print('----')            # quando a varredura de cada j na lista2 ser concluída, separe com barras para identificar\n",
    "                             # cada bloco de i na lista1"
   ]
  },
  {
   "cell_type": "code",
   "execution_count": 19,
   "id": "cc362aa9",
   "metadata": {},
   "outputs": [
    {
     "name": "stdout",
     "output_type": "stream",
     "text": [
      "para o elemento 0 na lista1\n",
      "----\n",
      "0 (resultado da operação i*j de i= 0 com j= 2 )\n",
      "0 (resultado da operação i*j de i= 0 com j= 4 )\n",
      "0 (resultado da operação i*j de i= 0 com j= 6 )\n",
      "----\n",
      "para o elemento 1 na lista1\n",
      "----\n",
      "2 (resultado da operação i*j de i= 1 com j= 2 )\n",
      "4 (resultado da operação i*j de i= 1 com j= 4 )\n",
      "6 (resultado da operação i*j de i= 1 com j= 6 )\n",
      "----\n",
      "para o elemento 2 na lista1\n",
      "----\n",
      "4 (resultado da operação i*j de i= 2 com j= 2 )\n",
      "8 (resultado da operação i*j de i= 2 com j= 4 )\n",
      "12 (resultado da operação i*j de i= 2 com j= 6 )\n",
      "----\n",
      "para o elemento 3 na lista1\n",
      "----\n",
      "6 (resultado da operação i*j de i= 3 com j= 2 )\n",
      "12 (resultado da operação i*j de i= 3 com j= 4 )\n",
      "18 (resultado da operação i*j de i= 3 com j= 6 )\n",
      "----\n",
      "para o elemento 4 na lista1\n",
      "----\n",
      "8 (resultado da operação i*j de i= 4 com j= 2 )\n",
      "16 (resultado da operação i*j de i= 4 com j= 4 )\n",
      "24 (resultado da operação i*j de i= 4 com j= 6 )\n",
      "----\n"
     ]
    }
   ],
   "source": [
    "# Refazendo o loop anterior de maneira mais detalhada\n",
    "\n",
    "lista1 = [0,1,2,3,4]\n",
    "lista2 = [2,4,6]\n",
    "\n",
    "for i in lista1:                                                       #(Loop externo) para cada i na lista1\n",
    "    print('para o elemento', i, 'na lista1')                           # identifique o elemento i\n",
    "    print('----')                                                      # separando o elem identificador da lista1\n",
    "    \n",
    "    for j in lista2:                                                   #(Loop interno) pegue cada j na lista2\n",
    "        print(i*j,'(resultado da operação i*j de i=',i,'com j=',j,')') # e realize a operação i*j e depois imprima, \n",
    "                                                                       # imprima também identificando cada i e j\n",
    "\n",
    "    print('----')                                                      # quando a varredura de cada j na lista2 ser concluída, \n",
    "                                                                       # separe com barras para identificar cada bloco de i \n",
    "                                                                       # na lista1"
   ]
  },
  {
   "cell_type": "code",
   "execution_count": 20,
   "id": "3e33d0ee",
   "metadata": {},
   "outputs": [
    {
     "name": "stdout",
     "output_type": "stream",
     "text": [
      "13\n",
      "14\n",
      "15\n"
     ]
    }
   ],
   "source": [
    "# Verificando e imprimindo quais são os números que se repetem em duas listas diferentes\n",
    "\n",
    "list1 = [10,11,12,13,14,15]\n",
    "list2 = [13,14,15,16,17,18]\n",
    "\n",
    "for i in list1:\n",
    "    for j in list2:\n",
    "        if i==j:\n",
    "            print(i)"
   ]
  },
  {
   "cell_type": "code",
   "execution_count": 22,
   "id": "d6b0369d",
   "metadata": {},
   "outputs": [
    {
     "name": "stdout",
     "output_type": "stream",
     "text": [
      "A soma dos números pares das duas listas é igual a 42\n"
     ]
    }
   ],
   "source": [
    "# Realizando a soma de todos os números pares presentes em duas listas\n",
    "\n",
    "listam2 = [2,4,6]\n",
    "listam5 = [5,10,15,20]\n",
    "soma = 0\n",
    "\n",
    "for n in listam2+listam5:\n",
    "    if n % 2 ==0:\n",
    "        soma = soma + n         # existe uma forma mais simplificada de escrever isso: 'soma += n'\n",
    "print('A soma dos números pares das duas listas é igual a', soma)"
   ]
  },
  {
   "cell_type": "markdown",
   "id": "6e8050c9",
   "metadata": {},
   "source": [
    "# LOOP WHILE"
   ]
  },
  {
   "cell_type": "code",
   "execution_count": 23,
   "id": "cac0fca5",
   "metadata": {},
   "outputs": [
    {
     "name": "stdout",
     "output_type": "stream",
     "text": [
      "0\n",
      "1\n",
      "2\n",
      "3\n",
      "4\n",
      "5\n",
      "6\n",
      "7\n",
      "8\n",
      "9\n",
      "10\n",
      "11\n",
      "12\n",
      "13\n",
      "14\n",
      "15\n",
      "16\n",
      "17\n",
      "18\n",
      "19\n"
     ]
    }
   ],
   "source": [
    "# Usando o Loop While para imprimir os valores de 0 a 20\n",
    "\n",
    "valor = 0\n",
    "while valor < 20:                 # A condição precisa deixar de ser verdadeira dentro do loop, senão pode travar o computador.\n",
    "    print(valor)\n",
    "    valor += 1"
   ]
  },
  {
   "cell_type": "code",
   "execution_count": 25,
   "id": "39f876c9",
   "metadata": {},
   "outputs": [
    {
     "name": "stdout",
     "output_type": "stream",
     "text": [
      "0\n",
      "1\n",
      "2\n",
      "3\n",
      "4\n",
      "5\n",
      "6\n",
      "7\n",
      "8\n",
      "9\n",
      "Loop concluído, e o ultimo valor é 9\n"
     ]
    }
   ],
   "source": [
    "# Podemos usar else para quando o loop while terminar, \n",
    "# enquanto a condição for verdadeira, o loop acontece, quando for falsa, o loop while para\n",
    "# e o else descreverá o que fazer quando o loop while terminar \n",
    "\n",
    "# Usando o Loop While para imprimir os valores de 0 a 10\n",
    "\n",
    "valor = 0\n",
    "while valor < 10:               \n",
    "    print(valor)\n",
    "    valor += 1\n",
    "else:\n",
    "    print('Loop concluído, e o ultimo valor é',valor-1)"
   ]
  },
  {
   "cell_type": "code",
   "execution_count": 2,
   "id": "b68d0cb1",
   "metadata": {},
   "outputs": [
    {
     "name": "stdout",
     "output_type": "stream",
     "text": [
      "0\n",
      "1\n",
      "2\n",
      "3\n"
     ]
    }
   ],
   "source": [
    "# Pass e Break\n",
    "\n",
    "valor = 0\n",
    "while valor < 10:\n",
    "    if valor == 4:\n",
    "        break\n",
    "    else:\n",
    "        pass\n",
    "    print(valor)\n",
    "    valor += 1"
   ]
  },
  {
   "cell_type": "code",
   "execution_count": 33,
   "id": "87654c52",
   "metadata": {},
   "outputs": [
    {
     "name": "stdout",
     "output_type": "stream",
     "text": [
      "[0, 2, 4, 6, 8, 10]\n"
     ]
    }
   ],
   "source": [
    "# Continue (condicional dentro do loop que ignora a condição do loop)\n",
    "\n",
    "# criando uma lista de números pares de 0 a 10\n",
    "\n",
    "a = 0\n",
    "lista_par = [a]\n",
    "\n",
    "while a < 10:\n",
    "    a += 1\n",
    "    if a % 2 == 1:\n",
    "        continue\n",
    "    lista_par.append(a)\n",
    "    \n",
    "print(lista_par)"
   ]
  },
  {
   "cell_type": "markdown",
   "id": "4b42c5f9",
   "metadata": {},
   "source": [
    "# Loop For e Loop While aninhados"
   ]
  },
  {
   "cell_type": "code",
   "execution_count": 38,
   "id": "b2f233e8",
   "metadata": {},
   "outputs": [
    {
     "name": "stdout",
     "output_type": "stream",
     "text": [
      "1\n",
      "\n",
      "2\n",
      "2\n",
      "\n",
      "3\n",
      "3\n",
      "3\n",
      "\n",
      "4\n",
      "4\n",
      "4\n",
      "4\n",
      "\n",
      "5\n",
      "5\n",
      "5\n",
      "5\n",
      "5\n",
      "\n"
     ]
    }
   ],
   "source": [
    "# criando uma sequência de números de 1 até 5, imprimindo cada número repetidas vezes, \n",
    "# onde o número de repetições é igual ao próprio número\n",
    "\n",
    "\n",
    "# Definindo o limite superior da sequência\n",
    "limite = 5\n",
    "\n",
    "# Usando um loop for para iterar sobre os números de 1 até o limite\n",
    "for i in range(1, limite + 1):\n",
    "    # Inicializando uma variável para controlar o número de vezes que o loop while será executado\n",
    "    contador = 0\n",
    "    \n",
    "    # Usando um loop while para imprimir o número atual repetidas vezes\n",
    "    while contador < i:\n",
    "        print(i)\n",
    "        contador += 1\n",
    "    \n",
    "    # Imprimindo uma nova linha após cada série de números\n",
    "    print()\n"
   ]
  },
  {
   "cell_type": "code",
   "execution_count": 47,
   "id": "e97eb0e9",
   "metadata": {},
   "outputs": [
    {
     "name": "stdout",
     "output_type": "stream",
     "text": [
      "[2, 3, 5, 7, 11, 13, 17, 19, 23, 29, 31, 37, 41, 43, 47, 53, 59, 61, 67, 71, 73, 79, 83, 89, 97]\n"
     ]
    }
   ],
   "source": [
    "# Encontrando números primos entre 2 e 100 usando loop for e while\n",
    "\n",
    "primos = []\n",
    "\n",
    "for i in range(2,101):\n",
    "    \n",
    "    primo = True     #verificador\n",
    "    a = 2\n",
    "    \n",
    "    while a <= i//2:\n",
    "        if i % a == 0:\n",
    "            primo = False\n",
    "            break\n",
    "        a += 1\n",
    "        \n",
    "    if primo:\n",
    "        primos.append(i)\n",
    "        \n",
    "print(primos)"
   ]
  },
  {
   "cell_type": "code",
   "execution_count": null,
   "id": "33aefa82",
   "metadata": {},
   "outputs": [],
   "source": []
  }
 ],
 "metadata": {
  "kernelspec": {
   "display_name": "Python 3 (ipykernel)",
   "language": "python",
   "name": "python3"
  },
  "language_info": {
   "codemirror_mode": {
    "name": "ipython",
    "version": 3
   },
   "file_extension": ".py",
   "mimetype": "text/x-python",
   "name": "python",
   "nbconvert_exporter": "python",
   "pygments_lexer": "ipython3",
   "version": "3.9.13"
  }
 },
 "nbformat": 4,
 "nbformat_minor": 5
}
